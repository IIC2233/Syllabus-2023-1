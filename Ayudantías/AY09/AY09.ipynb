{
 "cells": [
  {
   "cell_type": "markdown",
   "metadata": {
    "slideshow": {
     "slide_type": "slide"
    }
   },
   "source": [
    "# Ayudantía 9: I/O y Serialización 🤓"
   ]
  },
  {
   "cell_type": "markdown",
   "metadata": {
    "slideshow": {
     "slide_type": "slide"
    }
   },
   "source": [
    "## *Bits* y *Bytes*\n",
    "Un *byte* es la estructura básica para guardar datos en computación. A su vez, un *byte* está compuesto por 8 *bits*, y cada *bit* es un número que puede ser 1 o 0. Usamos esta estructura (*byte*) para medir el tamaño de los archivos.\n",
    "\n",
    "<img width=\"800\" src=\"img/bit_bytes.png\">"
   ]
  },
  {
   "cell_type": "markdown",
   "metadata": {
    "slideshow": {
     "slide_type": "slide"
    }
   },
   "source": [
    "## Sistema hexadecimal\n",
    "Por lo general, en computación se utiliza el sistema hexadecimal de representación de *bytes*. \n",
    "\n",
    "<img width=\"550\" src=\"img/hexadecimal.png\">"
   ]
  },
  {
   "cell_type": "markdown",
   "metadata": {
    "slideshow": {
     "slide_type": "slide"
    }
   },
   "source": [
    "## Codificación\n",
    "Podríamos decir que el *Byte* 0 corresponde a la letra a, el *Byte* 1 corresponde a b, el *Byte* 2 corresponde a c, etc, hasta cubrir todos los caracteres que queremos representar. Esa asociación se conoce como codificación o encoding."
   ]
  },
  {
   "cell_type": "markdown",
   "metadata": {
    "slideshow": {
     "slide_type": "slide"
    }
   },
   "source": [
    "## Codificación ASCII\n",
    "Una codificación muy común es la codificación ASCII, que data de 1963 y asocia números (*Bytes*) con caracteres de la siguiente manera:\n",
    "\n",
    "<img width=\"550\" src=\"img/ascii.jpg\">"
   ]
  },
  {
   "cell_type": "markdown",
   "metadata": {
    "slideshow": {
     "slide_type": "slide"
    }
   },
   "source": [
    "## Objeto *Byte*\n",
    "Un objeto de tipo *bytes* es una secuencia inmutable, tal como los str. Para declarar que un objeto es un byte simplemente se pone al comienzo del objeto una b. Por ejemplo:"
   ]
  },
  {
   "cell_type": "code",
   "execution_count": 35,
   "metadata": {
    "slideshow": {
     "slide_type": "-"
    }
   },
   "outputs": [
    {
     "name": "stdout",
     "output_type": "stream",
     "text": [
      "b'Dua lipa'\n",
      "<class 'bytes'>\n"
     ]
    }
   ],
   "source": [
    "# Lo que está entre las comillas es un objeto de tipo bytes\n",
    "# La notación \\x44 indica el valor hexadecimal 44\n",
    "# Este ejemplo almacena los caracteres D, u, a,  , L, i, p, a\n",
    "nombre = b\"\\x44\\x75\\x61\\x20\\x6c\\x69\\x70\\x61\"\n",
    "print(nombre)\n",
    "print(type(nombre))"
   ]
  },
  {
   "cell_type": "markdown",
   "metadata": {
    "slideshow": {
     "slide_type": "slide"
    }
   },
   "source": [
    "## No se tienen que aprender la tabla ASCII de memoria 🥳\n",
    "En python existen funciones para convertir los caracteres a su versión en *bytes*. Algunas de ellas son `encode` y `decode`"
   ]
  },
  {
   "cell_type": "markdown",
   "metadata": {
    "slideshow": {
     "slide_type": "slide"
    }
   },
   "source": [
    "## Ejemplo 🎶\n",
    "Queremos codificar y decodificar la letra de un famosa canción."
   ]
  },
  {
   "cell_type": "code",
   "execution_count": 7,
   "metadata": {
    "slideshow": {
     "slide_type": "slide"
    }
   },
   "outputs": [
    {
     "name": "stdout",
     "output_type": "stream",
     "text": [
      "b'\\xc2\\xbfQui\\xc3\\xa9n es ese hombreEeEe?'\n"
     ]
    }
   ],
   "source": [
    "letra = \"¿Quién es ese hombreEeEe?\"\n",
    "\n",
    "# Utilizamos encode() para codificar la letra de nuestra canción\n",
    "letra_codificada = letra.encode()\n",
    "\n",
    "print(letra_codificada)"
   ]
  },
  {
   "cell_type": "markdown",
   "metadata": {
    "slideshow": {
     "slide_type": "slide"
    }
   },
   "source": [
    "Notamos que la representación en bits de \"¿\" y \"é\" está en sistema hexadecimal. Esto se debe a que estos caracteres no existen en la codificación ASCII. ¡Pero no hay problema! las funciones `encode` y `decode` utilizan codificación \"UTF-8\", la cual incluye estos caracteres, por lo que al decodificar podremos visualizar nuestra letra correctamente 😄."
   ]
  },
  {
   "cell_type": "code",
   "execution_count": 8,
   "metadata": {
    "slideshow": {
     "slide_type": "slide"
    }
   },
   "outputs": [
    {
     "name": "stdout",
     "output_type": "stream",
     "text": [
      "¿Quién es ese hombreEeEe?\n"
     ]
    }
   ],
   "source": [
    "# Y ahora, hacemos el proceso inverso utilizando decode() para decodificar\n",
    "letra_decodificada = letra_codificada.decode()\n",
    "\n",
    "print(letra_decodificada)"
   ]
  },
  {
   "cell_type": "markdown",
   "metadata": {
    "slideshow": {
     "slide_type": "slide"
    }
   },
   "source": [
    "## *bytes()* y *bytearray()*\n",
    "Podemos usar 2 métodos para definir la estructura de los bytes: *bytes()* y *bytearray()*, y el método que usemos va a depender de la funcionalidad que necesitemos.\n",
    "- ¿Quieres usar una estructura inmutable, similar a un string? Usa *bytes()*\n",
    "- ¿Quieres usar una estructura mutable, similar a una lista? Usa *bytearray()*"
   ]
  },
  {
   "cell_type": "markdown",
   "metadata": {
    "slideshow": {
     "slide_type": "slide"
    }
   },
   "source": [
    "## Ejemplo 💃\n",
    "Queremos que nuestro programa convierta en *bytes* la letra de la famosa canción \"Yo tomo vino y cerveza\"."
   ]
  },
  {
   "cell_type": "code",
   "execution_count": 3,
   "metadata": {
    "slideshow": {
     "slide_type": "slide"
    }
   },
   "outputs": [
    {
     "name": "stdout",
     "output_type": "stream",
     "text": [
      "b'Yo tomo vino y cerveza para olvidarme de ella'\n"
     ]
    }
   ],
   "source": [
    "letra = \"Yo tomo vino y cerveza para olvidarme de ella\"\n",
    "\n",
    "# Utilizamos bytes() para pasar nuestra letra a bytes\n",
    "# Esta función recibe 2 argumentos, el string a convertir y el encoding\n",
    "# Utilizamos encoding \"utf-8\", ya que, es el que más nos conviene\n",
    "byte_letra = bytes(letra, 'utf-8')\n",
    "print(byte_letra)"
   ]
  },
  {
   "cell_type": "markdown",
   "metadata": {
    "slideshow": {
     "slide_type": "slide"
    }
   },
   "source": [
    "Pero a nuestra letra le falta algo importante 🤔, olvidamos que entre medio se debe gritar \"PISCO Y RON\" en la canción."
   ]
  },
  {
   "cell_type": "code",
   "execution_count": 4,
   "metadata": {
    "slideshow": {
     "slide_type": "slide"
    }
   },
   "outputs": [
    {
     "ename": "TypeError",
     "evalue": "'bytes' object does not support item assignment",
     "output_type": "error",
     "traceback": [
      "\u001b[1;31m---------------------------------------------------------------------------\u001b[0m",
      "\u001b[1;31mTypeError\u001b[0m                                 Traceback (most recent call last)",
      "Input \u001b[1;32mIn [4]\u001b[0m, in \u001b[0;36m<cell line: 2>\u001b[1;34m()\u001b[0m\n\u001b[0;32m      1\u001b[0m letra_faltante \u001b[38;5;241m=\u001b[39m \u001b[38;5;124m\"\u001b[39m\u001b[38;5;124m PISCO Y RON \u001b[39m\u001b[38;5;124m\"\u001b[39m\u001b[38;5;241m.\u001b[39mencode()\n\u001b[1;32m----> 2\u001b[0m \u001b[43mbyte_letra\u001b[49m\u001b[43m[\u001b[49m\u001b[38;5;241;43m22\u001b[39;49m\u001b[43m]\u001b[49m \u001b[38;5;241m=\u001b[39m letra_faltante\n\u001b[0;32m      3\u001b[0m \u001b[38;5;28mprint\u001b[39m(byte_letra)\n",
      "\u001b[1;31mTypeError\u001b[0m: 'bytes' object does not support item assignment"
     ]
    }
   ],
   "source": [
    "letra_faltante = \" PISCO Y RON \".encode()\n",
    "byte_letra[22] = letra_faltante\n",
    "print(byte_letra)"
   ]
  },
  {
   "cell_type": "markdown",
   "metadata": {
    "slideshow": {
     "slide_type": "slide"
    }
   },
   "source": [
    "## Problema 😥\n",
    "No podemos cambiar la estructura de los *bytes* dado que estos son inmutables."
   ]
  },
  {
   "cell_type": "markdown",
   "metadata": {
    "slideshow": {
     "slide_type": "slide"
    }
   },
   "source": [
    "## Solución 🎊\n",
    "Podemos utilizar bytearray() para mutar nuestro byte."
   ]
  },
  {
   "cell_type": "code",
   "execution_count": 5,
   "metadata": {
    "slideshow": {
     "slide_type": "slide"
    }
   },
   "outputs": [
    {
     "name": "stdout",
     "output_type": "stream",
     "text": [
      "bytearray(b'Yo tomo vino y cerveza para olvidarme de ella')\n"
     ]
    }
   ],
   "source": [
    "# Reescribimos nuestra letra ttilizando bytearray()\n",
    "arr_letra = bytearray(byte_letra)\n",
    "print(arr_letra)"
   ]
  },
  {
   "cell_type": "markdown",
   "metadata": {
    "slideshow": {
     "slide_type": "slide"
    }
   },
   "source": [
    "### letra_faltante = \" PISCO Y RON \".encode()\n",
    "arr_letra[22] = letra_faltante\n",
    "print(arr_letra)"
   ]
  },
  {
   "cell_type": "markdown",
   "metadata": {
    "slideshow": {
     "slide_type": "slide"
    }
   },
   "source": [
    "## Chunks\n",
    "Cuando trabajamos con una cantidad importante de *bytes*, no es conveniente leerlos todos a la vez, ya que pueden ser muchos y no caber en nuestra memoria; ni tampoco uno por uno, pues requiere más operaciones de lectura de datos y puede ser muy lento. Por tanto, lo más conveniente es leer los bytes en chunks o grupos de *bytes*. Por ejemplo:"
   ]
  },
  {
   "cell_type": "code",
   "execution_count": 8,
   "metadata": {
    "slideshow": {
     "slide_type": "slide"
    }
   },
   "outputs": [
    {
     "name": "stdout",
     "output_type": "stream",
     "text": [
      "bytearray(b'si h')\n",
      "bytearray(b'ay q')\n",
      "bytearray(b'ue s')\n",
      "bytearray(b'er t')\n",
      "bytearray(b'orer')\n",
      "bytearray(b'o, p')\n",
      "bytearray(b'oner')\n",
      "bytearray(b' el ')\n",
      "bytearray(b'alma')\n",
      "bytearray(b' en ')\n",
      "bytearray(b'el r')\n",
      "bytearray(b'uedo')\n",
      "bytearray(b',no ')\n",
      "bytearray(b'impo')\n",
      "bytearray(b'rta ')\n",
      "bytearray(b'lo q')\n",
      "bytearray(b'ue s')\n",
      "bytearray(b'e ve')\n",
      "bytearray(b'nga ')\n",
      "bytearray(b'pa q')\n",
      "bytearray(b'ue s')\n",
      "bytearray(b'epas')\n",
      "bytearray(b' que')\n",
      "bytearray(b' te ')\n",
      "bytearray(b'quie')\n",
      "bytearray(b'ro c')\n",
      "bytearray(b'omo ')\n",
      "bytearray(b'un b')\n",
      "bytearray(b'uen ')\n",
      "bytearray(b'tore')\n",
      "bytearray(b'ro')\n"
     ]
    }
   ],
   "source": [
    "cancion = (\"si hay que ser torero, poner el alma en el ruedo,\" \n",
    "    \"no importa lo que se venga pa que sepas que te quiero como un buen torero\")\n",
    "bytes_cancion = bytearray(cancion.encode())\n",
    "TAMANO_CHUNK = 4\n",
    "\n",
    "for i in range(0, len(bytes_cancion), TAMANO_CHUNK):\n",
    "    # Aqui obtenemos nuestro chunk\n",
    "    chunk = bytearray(bytes_cancion[i:i+TAMANO_CHUNK])\n",
    "    print(chunk)"
   ]
  },
  {
   "cell_type": "markdown",
   "metadata": {
    "slideshow": {
     "slide_type": "slide"
    }
   },
   "source": [
    "## Endianess\n",
    "El *endianess* (\"extremidad\" en inglés) nos dice el formato en el que se almacenan los datos de un conjunto de bytes (1 o más) en un ordenador. El problema es similar a los idiomas en los que se escribe de derecha a izquierda, como el árabe, o el hebreo, frente a los que se escriben de izquierda a derecha, como el español y el inglés."
   ]
  },
  {
   "cell_type": "markdown",
   "metadata": {
    "slideshow": {
     "slide_type": "slide"
    }
   },
   "source": [
    "### big-endian\n",
    "En este formato, el *byte* más significativo se almacena en primer lugar y los demás *bytes* le siguen en orden de significado descendente."
   ]
  },
  {
   "cell_type": "markdown",
   "metadata": {
    "slideshow": {
     "slide_type": "slide"
    }
   },
   "source": [
    "### little-endian\n",
    "Aquí sucede al revés, en este formato el *byte* menos significativo se almacena en primer lugar y los demás *bytes* le siguen en orden de significado ascendente."
   ]
  },
  {
   "cell_type": "markdown",
   "metadata": {
    "slideshow": {
     "slide_type": "slide"
    }
   },
   "source": [
    "## *from_bytes()* y *to_bytes()*\n",
    "Ahora que ya aprendimos de *big* y *little endian*, podemos ver como los vamos a usar en el curso.\n",
    "### *from_bytes()*\n",
    "La función *from_bytes()* nos permite convertir la información en *bytes* a un número. Esta función recibe dos parámetros, los *bytes* a convertir y el orden en el que vienen."
   ]
  },
  {
   "cell_type": "code",
   "execution_count": 2,
   "metadata": {
    "slideshow": {
     "slide_type": "slide"
    }
   },
   "outputs": [
    {
     "name": "stdout",
     "output_type": "stream",
     "text": [
      "273\n"
     ]
    }
   ],
   "source": [
    "print(int.from_bytes(b'\\x01\\x11', byteorder='big')) # 0111 = 273"
   ]
  },
  {
   "cell_type": "code",
   "execution_count": 3,
   "metadata": {
    "slideshow": {
     "slide_type": "slide"
    }
   },
   "outputs": [
    {
     "name": "stdout",
     "output_type": "stream",
     "text": [
      "4353\n"
     ]
    }
   ],
   "source": [
    "print(int.from_bytes(b'\\x01\\x11', byteorder='little')) # 0111 = 4353"
   ]
  },
  {
   "cell_type": "markdown",
   "metadata": {
    "slideshow": {
     "slide_type": "slide"
    }
   },
   "source": [
    "### *to_bytes()*\n",
    "La función *to_bytes()* nos permite convertir un número en *bytes*. Al igual que *from_bytes()*, esta función recibe dos parámetros, pero son el primero es diferente. Ahora necesitamos la cantidad de *bytes* que usaremos para escribir el número convertido y el orden a usar."
   ]
  },
  {
   "cell_type": "code",
   "execution_count": 8,
   "metadata": {
    "slideshow": {
     "slide_type": "slide"
    }
   },
   "outputs": [
    {
     "data": {
      "text/plain": [
       "b'\\x00\\x00\\x08\\xb9'"
      ]
     },
     "execution_count": 8,
     "metadata": {},
     "output_type": "execute_result"
    }
   ],
   "source": [
    "numero_a_convertir = 2233\n",
    "numero_a_convertir.to_bytes(4, byteorder=\"big\")"
   ]
  },
  {
   "cell_type": "code",
   "execution_count": 5,
   "metadata": {
    "slideshow": {
     "slide_type": "slide"
    }
   },
   "outputs": [
    {
     "data": {
      "text/plain": [
       "b'\\xb9\\x08\\x00\\x00'"
      ]
     },
     "execution_count": 5,
     "metadata": {},
     "output_type": "execute_result"
    }
   ],
   "source": [
    "numero_a_convertir = 2233\n",
    "numero_a_convertir.to_bytes(4, byteorder=\"little\")"
   ]
  },
  {
   "cell_type": "markdown",
   "metadata": {
    "slideshow": {
     "slide_type": "slide"
    }
   },
   "source": [
    "## Lectura de Archivos\n",
    "### *open()*\n",
    "Aprendimos a usar *open()* para archivos de texto solamente, pero en verdad esta función nos permite leer cualquier tipo de archivo! La diferencia para usarlo para trabajar con *bytes*, es que debemos agregar una \"b\", de ***binary***, a todos los comandos usados anteriormente (\"w\" pasa a ser \"wb\", \"r\" pasa a ser \"rb\" y así)"
   ]
  },
  {
   "cell_type": "code",
   "execution_count": 1,
   "metadata": {
    "slideshow": {
     "slide_type": "slide"
    }
   },
   "outputs": [
    {
     "name": "stdout",
     "output_type": "stream",
     "text": [
      "b'hello'\n"
     ]
    }
   ],
   "source": [
    "caracteres = b'\\x68\\x65\\x6c\\x6c\\x6f'\n",
    "with open('datos.bin', 'wb') as byte_file:\n",
    "    byte_file.write(caracteres)\n",
    "\n",
    "with open('datos.bin', 'rb') as byte_file:\n",
    "    datos = byte_file.read()\n",
    "    print(datos)"
   ]
  },
  {
   "cell_type": "markdown",
   "metadata": {
    "slideshow": {
     "slide_type": "slide"
    }
   },
   "source": [
    "# Serialización 🤖"
   ]
  },
  {
   "cell_type": "markdown",
   "metadata": {
    "slideshow": {
     "slide_type": "-"
    }
   },
   "source": [
    "Es el procedimiento de transformar cualquier objeto en una secuencia o serie de bytes. Esto nos permite almacenar el estado de un objeto de forma persistente, por ejemplo en un archivo o una base de datos que podamos consultar más tarde. También nos permite enviar el objeto a otros computadores y programas."
   ]
  },
  {
   "cell_type": "markdown",
   "metadata": {
    "slideshow": {
     "slide_type": "slide"
    }
   },
   "source": [
    "## Pickle 🥒\n",
    "Este módulo nos permite guardar/cargar casi cualquier objeto incluyendo listas."
   ]
  },
  {
   "cell_type": "markdown",
   "metadata": {
    "slideshow": {
     "slide_type": "slide"
    }
   },
   "source": [
    "### Métodos: \n",
    "* `dumps`: Serializa un objeto.\n",
    "* `loads`: Carga un objeto serializado a su estado original."
   ]
  },
  {
   "cell_type": "code",
   "execution_count": 1,
   "metadata": {
    "slideshow": {
     "slide_type": "slide"
    }
   },
   "outputs": [
    {
     "name": "stdout",
     "output_type": "stream",
     "text": [
      "Soy una <class 'list'> y contengo ['one', 'direction', 1, 2, 3]\n",
      "\n",
      "Soy una <class 'bytes'> y contengo b'\\x80\\x04\\x95\\x1d\\x00\\x00\\x00\\x00\\x00\\x00\\x00]\\x94(\\x8c\\x03one\\x94\\x8c\\tdirection\\x94K\\x01K\\x02K\\x03e.'\n",
      "\n",
      "Soy una <class 'list'> y contengo ['one', 'direction', 1, 2, 3]\n",
      "\n"
     ]
    }
   ],
   "source": [
    "import pickle\n",
    "lista = [\"one\", \"direction\", 1, 2, 3]\n",
    "print(f\"Soy una {type(lista)} y contengo {lista}\\n\")\n",
    "\n",
    "\n",
    "lista_serializada = pickle.dumps(lista)\n",
    "print(f\"Soy una {type(lista_serializada)} y contengo {lista_serializada}\\n\")\n",
    "\n",
    "lista_deserializada = pickle.loads(lista_serializada)\n",
    "print(f\"Soy una {type(lista_deserializada)} y contengo {lista_deserializada}\\n\")"
   ]
  },
  {
   "cell_type": "markdown",
   "metadata": {
    "slideshow": {
     "slide_type": "slide"
    }
   },
   "source": [
    "### Archivos:\n",
    "\n",
    "Hasta ahora para guardar información en archivos había que guardar los datos en largos strings separados por comas (Formato csv). Por ejemplo, queremos guardar la letra de nuestra canción favorita (Baby Shark🦈) en forma de lista:"
   ]
  },
  {
   "cell_type": "code",
   "execution_count": 2,
   "metadata": {
    "slideshow": {
     "slide_type": "slide"
    }
   },
   "outputs": [
    {
     "name": "stdout",
     "output_type": "stream",
     "text": [
      "['baby', 'shark', 'dudududu']\n"
     ]
    }
   ],
   "source": [
    "lista = [\"baby\", \"shark\", \"dudududu\"]\n",
    "\n",
    "# Para guardar cosas en un archivo .csv debemos pasar la lista a un string\n",
    "\n",
    "string = \"\"\n",
    "for elemento in lista:\n",
    "    string += (elemento + \",\")\n",
    "string = string[:-1] + (\"\\n\")\n",
    "\n",
    "# Luego abrir el archivo\n",
    "with open(\"archivo_prueba.csv\", \"w\") as file:\n",
    "        file.write(string)\n",
    "\n",
    "# Y para recuperarlas se debe leer el archivo y después pasar el string a una lista\n",
    "with open(\"archivo_prueba.csv\", \"r\") as file:\n",
    "    string = file.read().strip()\n",
    "    lista_recuperada = string.split(\",\")\n",
    "\n",
    "print(lista_recuperada)"
   ]
  },
  {
   "cell_type": "markdown",
   "metadata": {
    "slideshow": {
     "slide_type": "slide"
    }
   },
   "source": [
    "Ahora se puede guardar el objeto directamente con pickle. Al serializarlo este perdura y esta listo para ser usado en el futuro. Los métodos `dump` y `load` serializan a través de archivos."
   ]
  },
  {
   "cell_type": "code",
   "execution_count": 3,
   "metadata": {
    "slideshow": {
     "slide_type": "slide"
    }
   },
   "outputs": [
    {
     "name": "stdout",
     "output_type": "stream",
     "text": [
      "['baby', 'shark', 'dudududu']\n"
     ]
    }
   ],
   "source": [
    "import pickle\n",
    "\n",
    "lista = [\"baby\", \"shark\", \"dudududu\"]\n",
    "\n",
    "# Esta vez, para guardar la lista en un archivo solo basta serializarla\n",
    "# y escribir directamente sus bytes\n",
    "\n",
    "with open(\"archivo_prueba.bin\", \"wb\") as file:\n",
    "    pickle.dump(lista, file)\n",
    "\n",
    "# Para recuperarla solo se debe leer el archivo y deserializarlo\n",
    "    \n",
    "with open(\"archivo_prueba.bin\", \"rb\") as file:\n",
    "    lista_recuperada = pickle.load(file)\n",
    "\n",
    "print(lista_recuperada)"
   ]
  },
  {
   "cell_type": "markdown",
   "metadata": {
    "slideshow": {
     "slide_type": "slide"
    }
   },
   "source": [
    "## JSON 👻\n",
    "Es un formato estándar de intercambio de datos que puede ser interpretado por muchos lenguajes, y por ende es algo ampliamente utilizado para traspasar información de un programa a otro (por ejemplo, la comunicación entre dos computadores mediante internet)"
   ]
  },
  {
   "cell_type": "markdown",
   "metadata": {
    "slideshow": {
     "slide_type": "slide"
    }
   },
   "source": [
    "En el módulo json ocuparemos los mismos métodos de pickle (`dumps` y `loads`). "
   ]
  },
  {
   "cell_type": "code",
   "execution_count": 4,
   "metadata": {
    "slideshow": {
     "slide_type": "slide"
    }
   },
   "outputs": [
    {
     "name": "stdout",
     "output_type": "stream",
     "text": [
      "datos en formato JSON: <class 'str'> {\"nombre\": \"Beyonce\", \"estilos\": [\"R&B\", \"Pop\", \"Soul\", \"Hip-Hop\"], \"n_grammys\": 32}\n",
      "datos en formato Python: <class 'dict'> {'nombre': 'Beyonce', 'estilos': ['R&B', 'Pop', 'Soul', 'Hip-Hop'], 'n_grammys': 32}\n"
     ]
    }
   ],
   "source": [
    "import json\n",
    "\n",
    "class Cantante:\n",
    "    def __init__(self, nombre, estilos, n_grammys):\n",
    "        self.nombre = nombre\n",
    "        self.estilos = estilos\n",
    "        self.n_grammys = n_grammys\n",
    "\n",
    "            \n",
    "c = Cantante(\"Beyonce\", [\"R&B\", \"Pop\", \"Soul\", \"Hip-Hop\"], 32)\n",
    "\n",
    "json_string = json.dumps(c.__dict__)\n",
    "print(\"datos en formato JSON:\", type(json_string), json_string)\n",
    "json_deserializado = json.loads(json_string)\n",
    "print(\"datos en formato Python:\", type(json_deserializado), json_deserializado)"
   ]
  },
  {
   "cell_type": "markdown",
   "metadata": {
    "slideshow": {
     "slide_type": "slide"
    }
   },
   "source": [
    "## Pickle v/s JSON"
   ]
  },
  {
   "attachments": {
    "img_ay07.png": {
     "image/png": "[encoded data removed]"
    }
   },
   "cell_type": "markdown",
   "metadata": {
    "slideshow": {
     "slide_type": "slide"
    }
   },
   "source": [
    "![img_ay07.png](attachment:img_ay07.png)"
   ]
  },
  {
   "cell_type": "markdown",
   "metadata": {
    "slideshow": {
     "slide_type": "slide"
    }
   },
   "source": [
    "## Personalización\n",
    "\n",
    "### *Get State*\n",
    "* Cómo guardaremos la información que se va a serializar. Si queremos cambiar algún atributo o encriptar.\n",
    "\n",
    "#### **Pickle**\n",
    "Implementar el método `__getstate__` dentro de la misma clase para personalizar la serialización.\n",
    "\n",
    "#### **Json**\n",
    "Debemos crear una clase que personalice la serialización. Se crea una clase que herede de `json.JSONEncoder` y se sobreescribe el método `default`."
   ]
  },
  {
   "cell_type": "markdown",
   "metadata": {
    "slideshow": {
     "slide_type": "slide"
    }
   },
   "source": [
    "### *Set State*\n",
    "* Cómo cargaremos la información que se va a deserializar. Si queremos cambiar algún elemento o desencriptar.\n",
    "\n",
    "#### **Pickle**\n",
    "Implementar el método `__setstate__` dentro de la misma clase para personalizar la deserialización.\n",
    "\n",
    "#### **Json**\n",
    "Debemos crear una función que personalice la deserialización. Se entrega esta función como parámetro de `object_hook` a los métodos de `load` y `loads`."
   ]
  },
  {
   "cell_type": "markdown",
   "metadata": {
    "slideshow": {
     "slide_type": "slide"
    }
   },
   "source": [
    "## Ejemplos de personalización"
   ]
  },
  {
   "cell_type": "code",
   "execution_count": 18,
   "metadata": {
    "slideshow": {
     "slide_type": "slide"
    }
   },
   "outputs": [],
   "source": [
    "import pickle\n",
    "import json\n",
    "\n",
    "class AudioPlayerDevice:\n",
    "\n",
    "    def __init__(self, marca, modelo):\n",
    "        self.marca = marca\n",
    "        self.modelo = modelo\n",
    "        self.canales = [\"Spotify\", \"Apple Music\", \"YouTube\", \"SoundCloud\"]\n",
    "\n",
    "    def __getstate__(self):\n",
    "        informacion = self.__dict__.copy()\n",
    "        print(\"Están guardando mi información...\")\n",
    "        informacion.update({\"canales\": \"Canales Mas Usad\"})\n",
    "        print(\"Mis canales serializados son: \" + informacion[\"canales\"])\n",
    "        # Lo que retornemos es lo que será serializado por pickle\n",
    "        return informacion\n",
    "\n",
    "    def __setstate__(self, estado):\n",
    "        print(\"Están cargando mi información...\")\n",
    "        # Al deserializar modificamos el estado\n",
    "        estado.update({\"modelo\": f\"{estado['modelo']} usado\"})\n",
    "        self.__dict__ = estado\n",
    "        print(\"Mi modelo deserializado es: \" + estado[\"modelo\"])\n",
    "\n",
    "class AudioPlayerEncoder(json.JSONEncoder):\n",
    "\n",
    "    def default(self, objeto):\n",
    "        # Serializa en forma personalizada el AudioPlayer\n",
    "        return {\n",
    "            \"estado\": \"usado\",\n",
    "            \"marca\": objeto.marca,\n",
    "            \"modelo\": objeto.modelo,\n",
    "            \"canales\": objeto.canales,\n",
    "            \"antiguedad\": 4,\n",
    "            }\n",
    "\n",
    "def funcionDecoder(diccionario):\n",
    "    diccionario[\"estado\"] = \"usado y deserializado\"\n",
    "    diccionario[\"antiguedad\"] = 10\n",
    "    return diccionario"
   ]
  },
  {
   "cell_type": "code",
   "execution_count": 20,
   "metadata": {
    "slideshow": {
     "slide_type": "slide"
    }
   },
   "outputs": [
    {
     "name": "stdout",
     "output_type": "stream",
     "text": [
      "Soy un reproductor de audio Apple modelo ipod touch\n",
      "Mis canales son: Spotify, Apple Music, YouTube, SoundCloud\n",
      "\n",
      "Personalizando con pickle\n",
      "Están guardando mi información...\n",
      "Mis canales serializados son: Canales Mas Usad\n",
      "Están cargando mi información...\n",
      "Mi modelo deserializado es: ipod touch usado\n",
      "\n",
      "Personalizando con json\n",
      "Serializando...\n",
      "{\"estado\": \"usado\", \"marca\": \"Apple\", \"modelo\": \"ipod touch\", \"canales\": [\"Spotify\", \"Apple Music\", \"YouTube\", \"SoundCloud\"], \"antiguedad\": 4}\n",
      "Deserializando...\n",
      "{'estado': 'usado y deserializado', 'marca': 'Apple', 'modelo': 'ipod touch', 'canales': ['Spotify', 'Apple Music', 'YouTube', 'SoundCloud'], 'antiguedad': 10}\n"
     ]
    }
   ],
   "source": [
    "tv = AudioPlayerDevice(\"Apple\", \"ipod touch\")\n",
    "print(f\"Soy un reproductor de audio {tv.marca} modelo {tv.modelo}\")\n",
    "print(\"Mis canales son: \" + \", \".join(tv.canales))\n",
    "\n",
    "print(\"\\nPersonalizando con pickle\")\n",
    "# Al usar pickle.dumps() se ejecuta el método __getstate__\n",
    "pickle_serializado = pickle.dumps(tv)\n",
    "# Al usar pickle.loads() se ejecuta el método __setstate__\n",
    "pickle_deserializado = pickle.loads(pickle_serializado)\n",
    "\n",
    "print(\"\\nPersonalizando con json\")\n",
    "# Al usar json.dumps() se entrega la clase creada con json.JSONEncoder\n",
    "json_serializado = json.dumps(tv, cls=AudioPlayerEncoder)\n",
    "# Al usar json.lodas() se entrega la función creada para deserializar\n",
    "json_deserializado = json.loads(json_serializado, object_hook = funcionDecoder)\n",
    "\n",
    "print(\"Serializando...\")\n",
    "print(json_serializado)\n",
    "print(\"Deserializando...\")\n",
    "print(json_deserializado)"
   ]
  },
  {
   "cell_type": "markdown",
   "metadata": {
    "slideshow": {
     "slide_type": "slide"
    }
   },
   "source": [
    "##  💔 Ejercicio Propuesto ⌚"
   ]
  },
  {
   "cell_type": "markdown",
   "metadata": {
    "slideshow": {
     "slide_type": "slide"
    }
   },
   "source": [
    "Se busca codificar y encriptar un nuevo Release para evitar que Gerard no se entere (y no se pique, ha ha).\n",
    "Para esto se te pide entregar la clase `ReleaseSong` que contiene los siguientes atributos:\n",
    "-\t`self.artista` : tipo string\n",
    "-\t`self.nombre` : tipo string\n",
    "-\t`self.duracion` : tipo string\n",
    "-\t`self.versos` : tipo lista\n",
    "-\t`self.canales` : tipo lista\n",
    "\n",
    "#### En especifico se te pide completar los siguientes métodos:\n",
    "-\t`codificar(diccionario : dict)` : Este ocupa el método `dumps` de `json` y el método `encode` para convertir el diccionario recibido como argumento en un objeto serializado.\n",
    "-\t`encriptar(objeto_serializado)` : Este método se encarga de encriptar el objeto serializado de la siguiente manera:\n",
    "    -\tLos primeros 4 bytes indicaran el largo del mensaje, en `big-endian`\n",
    "    -\tSe separa el mensaje en 2 grupos, A y B, ocupando la división de parte entera en 2, y se dan vuelta.\n",
    "\n",
    "    - Ejemplo:\n",
    "<p style=\"text-align: center;\">[Mensaje] : b'\\xf3\\xf5\\xf8\\x98\\xf3\\xf5\\xf8\\x98\\xf3\\xf5\\xf8\\x98'</p>\n",
    "\n",
    "<p style=\"text-align: center;\">[A] : b'\\xf3\\xf5\\xf8\\x98\\xf3\\xf5’ </p>\n",
    "<p style=\"text-align: center;\">[B] : \\xf8\\x98\\xf3\\xf5\\xf8\\x98' </p>\n",
    "<p style=\"text-align: center;\">[largo] : 12 bytes </p>\n",
    "\n",
    "\n",
    "<p style=\"text-align: center;\">[Mensaje encriptado] :  [largo] + [B] + [A] </p>\n",
    "\n",
    "- `desencriptar` : Realiza el proceso inverso a `encriptar` (*Tip: Revisa el reordenamiento de bytes para los casos en que el largo es impar y es par*).\n",
    "-\t`decodificar` : Realiza el proceso inverso a `codificar`.\n"
   ]
  },
  {
   "cell_type": "code",
   "execution_count": 1,
   "metadata": {
    "slideshow": {
     "slide_type": "slide"
    }
   },
   "outputs": [],
   "source": [
    "import json\n",
    "\n",
    "class ReleaseSong:\n",
    "    def __init__(self,artista, nombre, duracion, versos, canales) -> None:\n",
    "        self.artista = artista\n",
    "        self.nombre = nombre\n",
    "        self.duracion = duracion\n",
    "        self.versos = versos\n",
    "        self.canales = canales\n",
    "\n",
    "def codificar(diccionario):\n",
    "    string_json = json.dumps(diccionario)\n",
    "    bytes_json = string_json.encode()\n",
    "    return bytes_json\n",
    "\n",
    "def encriptar(objeto_serializado):\n",
    "    # Si el largo es par, A y B tienen la misma cantidad de bytes, si es impar, B tiene un byte mas que A.\n",
    "    # y su largo es largo//2 + 1\n",
    "    largo = len(objeto_serializado)\n",
    "    A = objeto_serializado[0:largo//2]\n",
    "    B = objeto_serializado[largo//2:]\n",
    "    return largo.to_bytes(4, byteorder = \"big\") + B + A\n",
    "\n",
    "def desencriptar(mensaje_encriptado):\n",
    "    largo = int.from_bytes(mensaje_encriptado[0:4], byteorder = \"big\")\n",
    "    if largo%2 == 0:\n",
    "        B = mensaje_encriptado[4:4 + largo//2]\n",
    "        A = mensaje_encriptado[ 4 + largo//2:]\n",
    "    else:\n",
    "        B = mensaje_encriptado[4: 5 + largo//2]\n",
    "        A = mensaje_encriptado[ 5 + largo//2:]\n",
    "    return A + B\n",
    "\n",
    "def decodificar(objeto_bytes):\n",
    "    string = objeto_bytes.decode()\n",
    "    diccionario = json.loads(string)\n",
    "    return diccionario\n",
    "\n"
   ]
  },
  {
   "cell_type": "code",
   "execution_count": 2,
   "metadata": {},
   "outputs": [
    {
     "name": "stdout",
     "output_type": "stream",
     "text": [
      "{'artista': 'Shakira', 'nombre': 'Shakira: Bzrp Music Sessions, Vol. 53', 'duracion': '3:34 min', 'versos': ['Una loba como yo no esta pa tipos como ta, uh-uh-uh-uh.', 'Yo solo hago musica, perdon que te salpique.', 'Cambiaste un Ferrari por un Twingo, cambiaste un Rolex por un Casio.'], 'canales': ['Spotify', 'Youtube', 'Apple Music']}\n",
      "\n",
      "\n",
      "b'{\"artista\": \"Shakira\", \"nombre\": \"Shakira: Bzrp Music Sessions, Vol. 53\", \"duracion\": \"3:34 min\", \"versos\": [\"Una loba como yo no esta pa tipos como ta, uh-uh-uh-uh.\", \"Yo solo hago musica, perdon que te salpique.\", \"Cambiaste un Ferrari por un Twingo, cambiaste un Rolex por un Casio.\"], \"canales\": [\"Spotify\", \"Youtube\", \"Apple Music\"]}'\n",
      "\n",
      "b'\\x00\\x00\\x01RYo solo hago musica, perdon que te salpique.\", \"Cambiaste un Ferrari por un Twingo, cambiaste un Rolex por un Casio.\"], \"canales\": [\"Spotify\", \"Youtube\", \"Apple Music\"]}{\"artista\": \"Shakira\", \"nombre\": \"Shakira: Bzrp Music Sessions, Vol. 53\", \"duracion\": \"3:34 min\", \"versos\": [\"Una loba como yo no esta pa tipos como ta, uh-uh-uh-uh.\", \"'\n",
      "\n",
      "Objeto encriptado =  b'\\x00\\x00\\x01RYo solo hago musica, perdon que te salpique.\", \"Cambiaste un Ferrari por un Twingo, cambiaste un Rolex por un Casio.\"], \"canales\": [\"Spotify\", \"Youtube\", \"Apple Music\"]}{\"artista\": \"Shakira\", \"nombre\": \"Shakira: Bzrp Music Sessions, Vol. 53\", \"duracion\": \"3:34 min\", \"versos\": [\"Una loba como yo no esta pa tipos como ta, uh-uh-uh-uh.\", \"'\n",
      "\n",
      "Objeto desencriptado =  b'{\"artista\": \"Shakira\", \"nombre\": \"Shakira: Bzrp Music Sessions, Vol. 53\", \"duracion\": \"3:34 min\", \"versos\": [\"Una loba como yo no esta pa tipos como ta, uh-uh-uh-uh.\", \"Yo solo hago musica, perdon que te salpique.\", \"Cambiaste un Ferrari por un Twingo, cambiaste un Rolex por un Casio.\"], \"canales\": [\"Spotify\", \"Youtube\", \"Apple Music\"]}'\n",
      "\n",
      "<class 'dict'>\n"
     ]
    }
   ],
   "source": [
    "if __name__ == \"__main__\":\n",
    "    antecedentes = ReleaseSong(\"Shakira\"\n",
    "                               , \"Shakira: Bzrp Music Sessions, Vol. 53\"\n",
    "                               , \"3:34 min\"\n",
    "                               , [\"Una loba como yo no esta pa tipos como ta, uh-uh-uh-uh.\"\n",
    "                                  , \"Yo solo hago musica, perdon que te salpique.\"\n",
    "                                  , \"Cambiaste un Ferrari por un Twingo, cambiaste un Rolex por un Casio.\"]\n",
    "                                  , [\"Spotify\", \"Youtube\", \"Apple Music\" ])\n",
    "    print(antecedentes.__dict__)\n",
    "    print('')\n",
    "    obj = codificar(antecedentes.__dict__)\n",
    "    print('')\n",
    "    print(obj)\n",
    "    print('')\n",
    "    x = encriptar(obj)\n",
    "    print(x)\n",
    "    print('')\n",
    "    print(\"Objeto encriptado = \", x)\n",
    "    print('')\n",
    "    print(\"Objeto desencriptado = \", desencriptar(encriptar(obj)))\n",
    "    print('')\n",
    "    print(type(decodificar(desencriptar(encriptar(obj)))))"
   ]
  }
 ],
 "metadata": {
  "celltoolbar": "Slideshow",
  "interpreter": {
   "hash": "9994a42a7a2435ac60a0bef0a70540e53e70d390dd0780886ab1ca7982d6abb4"
  },
  "kernelspec": {
   "display_name": "Python 3 (ipykernel)",
   "language": "python",
   "name": "python3"
  },
  "language_info": {
   "codemirror_mode": {
    "name": "ipython",
    "version": 3
   },
   "file_extension": ".py",
   "mimetype": "text/x-python",
   "name": "python",
   "nbconvert_exporter": "python",
   "pygments_lexer": "ipython3",
   "version": "3.10.10"
  }
 },
 "nbformat": 4,
 "nbformat_minor": 2
}
