{
 "cells": [
  {
   "cell_type": "markdown",
   "id": "f04a218a",
   "metadata": {},
   "source": [
    "# Ayudantía 04: Threads 🧵\n",
    "Autor: Julio Huerta"
   ]
  },
  {
   "cell_type": "markdown",
   "id": "711fd34a",
   "metadata": {},
   "source": [
    "### ¿ Que hemos visto hasta ahora ?\n",
    "\n",
    "Programas que ejecutan sólo una secuencia de instrucciones a la vez\n",
    "\n",
    "* Siguen un único flujo que comienza, ejecuta instrucciones, y en algún momento termina.\n",
    "\n",
    "\n",
    "* Muchas aplicaciones realizan múltiples acciones simultáneamente.\n",
    "\n",
    "\n",
    "* Programas que ejecutan una secuencia de instrucciones a la vez no permiten implementar este tipo de comportamiento."
   ]
  },
  {
   "cell_type": "markdown",
   "id": "02ebd7b3",
   "metadata": {},
   "source": [
    "### ¿ Que es un Thread ? \n",
    "\n",
    "Un thread es una secuencia de instrucciones que puede ser ejecutada en paralelo con otras, lo que permite realizar más de una acción a la vez."
   ]
  },
  {
   "cell_type": "markdown",
   "id": "2058e68e",
   "metadata": {},
   "source": [
    "### Ejemplo de uso de Threads\n",
    "\n",
    "* Interfaces Graficas\n",
    "\n",
    "\n",
    "* Programas donde se debe interactuar con el usuario y realizar computos pesados a la vez\n",
    "\n",
    "\n",
    "* Programas multiusuarios, donde cada Threads se encarga de escuchar a un usuario\n",
    "\n",
    "\n",
    "* Programas que siguen el modelo producto consumidor, Como por ejemplo, un thread que se encargue de poner los frames capturados desde una cámara de video en una cola, y otro thread que procese estos cuadros y los saque de la cola."
   ]
  },
  {
   "cell_type": "markdown",
   "id": "3c1dfa4e",
   "metadata": {},
   "source": [
    "### ¿ Como crear Threads ?\n",
    "Debemos importar la librería threading para utilizar la clase Thread"
   ]
  },
  {
   "cell_type": "code",
   "execution_count": 1,
   "id": "0ec488b5",
   "metadata": {},
   "outputs": [
    {
     "name": "stdout",
     "output_type": "stream",
     "text": [
      "Esto es un thread\n"
     ]
    }
   ],
   "source": [
    "import threading\n",
    "\n",
    "def funcion():\n",
    "    print(\"Esto es un thread\")\n",
    "\n",
    "mi_hilo = threading.Thread(target=funcion, name=\"HILO1\")\n",
    "mi_hilo.start()"
   ]
  },
  {
   "cell_type": "markdown",
   "id": "837a1aac",
   "metadata": {},
   "source": [
    "### ¿ Y si nuestra funcion recibe argumentos ?\n",
    "**No hay Problema!** ,los podemos pasar con args o kwargs"
   ]
  },
  {
   "cell_type": "code",
   "execution_count": 3,
   "id": "9e3f6eb9",
   "metadata": {},
   "outputs": [
    {
     "name": "stdout",
     "output_type": "stream",
     "text": [
      "Thread 1 tiene sueño...\n",
      "Thread 2 tiene sueño...\n",
      "(Thread 1: 1 oveja)\n",
      "(Thread 2: 1 oveja)\n",
      "(Thread 1: 2 ovejas)\n",
      "(Thread 2: 2 ovejas)\n",
      "(Thread 1: 3 ovejas)\n",
      "(Thread 2: 3 ovejas)\n",
      "(Thread 1: 4 ovejas)(Thread 2: 4 ovejas)\n",
      "\n",
      "(Thread 1: 5 ovejas)\n",
      "(Thread 2: 5 ovejas)\n",
      "(Thread 1: 6 ovejas)\n",
      "(Thread 2: 6 ovejas)\n",
      "(Thread 1: 7 ovejas)\n",
      "(Thread 2: 7 ovejas)\n",
      "(Thread 1: 8 ovejas)\n",
      "(Thread 2: 8 ovejas)\n",
      "(Thread 1: 9 ovejas)\n",
      "(Thread 2: 9 ovejas)\n",
      "(Thread 1: 10 ovejas)\n",
      "Thread 1 a dormir...\n",
      "(Thread 2: 10 ovejas)\n",
      "(Thread 2: 11 ovejas)\n",
      "(Thread 2: 12 ovejas)\n",
      "(Thread 2: 13 ovejas)\n",
      "(Thread 2: 14 ovejas)\n",
      "(Thread 2: 15 ovejas)\n",
      "Thread 2 a dormir...\n"
     ]
    }
   ],
   "source": [
    "import threading\n",
    "import time\n",
    "\n",
    "def contar_ovejas_hasta(max_ovejas):\n",
    "    thread_actual = threading.current_thread()\n",
    "    print(f\"{thread_actual.name} tiene sueño...\")\n",
    "    for numero in range(1, max_ovejas + 1):\n",
    "        time.sleep(1)\n",
    "        print(f\"({thread_actual.name}: {numero} oveja{'s' if numero > 1 else ''})\")\n",
    "    print(f\"{thread_actual.name} a dormir...\")\n",
    "\n",
    "\n",
    "# Se crean los threads usando la clase Thread, asociada a la función objetivo para \n",
    "# ser ejecutada por el thread, y los atributos de la función son ingresados en \n",
    "# args o kwargs\n",
    "\n",
    "t1 = threading.Thread(name=\"Thread 1\", target=contar_ovejas_hasta, args=(10,))\n",
    "t2 = threading.Thread(name=\"Thread 2\", target=contar_ovejas_hasta, kwargs={\"max_ovejas\": 15})\n",
    "t1.start()\n",
    "t2.start()"
   ]
  },
  {
   "cell_type": "markdown",
   "id": "feb820bc",
   "metadata": {},
   "source": [
    "### Join ⌛\n",
    "Un método útil es el `join()`, éste nos permite esperar a que otro thread finalice su ejecución para continuar con el resto del código. También podemos usar `join(timeout=tiempo)`, con tiempo como la cantidad de segundos máxima que se esperará al thread, en caso de que `tiempo=None` o no darle argumentos, se esperará hasta que el thread termine su ejecución."
   ]
  },
  {
   "cell_type": "code",
   "execution_count": 6,
   "id": "03b7bf8d",
   "metadata": {},
   "outputs": [
    {
     "name": "stdout",
     "output_type": "stream",
     "text": [
      "Empezando a cocinar una Pizza de Champiñones!\n",
      "Pizza lista y salida del Horno\n",
      "\n",
      "Sentandose a degustar una rica pizza\n",
      "Estaba muy buena... ¿ y si hacemos otra ?\n"
     ]
    }
   ],
   "source": [
    "import threading\n",
    "import time\n",
    "\n",
    "def cocinar_pizza():\n",
    "    print(\"Empezando a cocinar una Pizza de Champiñones!\")\n",
    "    time.sleep(5)\n",
    "    print(\"Pizza lista y salida del Horno\")\n",
    "    \n",
    "def comer_pizza():\n",
    "    print(\"\\nSentandose a degustar una rica pizza\")\n",
    "    time.sleep(3)\n",
    "    print(\"Estaba muy buena... ¿ y si hacemos otra ?\")\n",
    "    \n",
    "cocinar = threading.Thread(target=cocinar_pizza)\n",
    "comer = threading.Thread(target=comer_pizza)\n",
    "\n",
    "cocinar.start()\n",
    "cocinar.join()\n",
    "\n",
    "comer.start()\n",
    "\n"
   ]
  },
  {
   "attachments": {},
   "cell_type": "markdown",
   "id": "ce964138",
   "metadata": {},
   "source": [
    "### Daemon Threads 👹\n",
    "\n",
    "Anteriormente el programa ha esperado que terminen los threads para poder terminar. Con los Daemons threads no necesitamos preocuparnos de si terminaron o no, ya que cuando el programa principal termina, estos terminan automáticamente. Para identificar que los threads son de este tipo debemos poner en el constructor `daemon=True` o utilizando el metodo `setDaemon(True)`. Una vez inicializado el thread con `start()` el comportamiento **no se puede cambiar**."
   ]
  },
  {
   "cell_type": "code",
   "execution_count": 15,
   "id": "72556601",
   "metadata": {},
   "outputs": [
    {
     "name": "stdout",
     "output_type": "stream",
     "text": [
      "uno: 1\n",
      "dos: 1\n",
      "uno: 14\n",
      "uno: 2\n",
      "dos: 2\n",
      "uno: 15\n",
      "uno: 3\n",
      "dos: 3\n",
      "uno: 16\n",
      "uno: 4\n",
      "dos: 4\n",
      "uno: 17\n",
      "uno: 5\n",
      "uno: 18\n",
      "uno: 6\n",
      "uno: 19\n",
      "uno: 7\n",
      "uno: 8\n",
      "uno: 9\n"
     ]
    }
   ],
   "source": [
    "# Probar en la consola, no en el Jupyter\n",
    "\n",
    "import threading\n",
    "import time\n",
    "\n",
    "def contador(clave,maximo):\n",
    "    for j in range(1, maximo):\n",
    "        print(f\"{clave}: {int(j)}\")\n",
    "        time.sleep(1)\n",
    "        \n",
    "conteo_100 = threading.Thread(target=contador, args=(\"uno\", 10,), daemon=True)\n",
    "conteo_5 = threading.Thread(target=contador, args=(\"dos\", 5,), daemon=True)\n",
    "\n",
    "conteo_100.start()\n",
    "conteo_5.start()\n",
    "conteo_5.join()"
   ]
  },
  {
   "attachments": {},
   "cell_type": "markdown",
   "id": "75863611",
   "metadata": {},
   "source": [
    "### Timers ⏲️\n",
    "\n",
    "Puede que al momento de programar querramos que un `Thread` empiece antes que otro (y que por alguna razon el metodo `.join()` no sea util).\n",
    "\n",
    "Para esto se definen los `Timer ` es una subclase de la clase ```Thread``` y se diferencia de esta en que **comienza** despues de un determinado tiempo (en segundos) y no inmediatamente."
   ]
  },
  {
   "cell_type": "code",
   "execution_count": 1,
   "id": "960eef56",
   "metadata": {},
   "outputs": [
    {
     "name": "stdout",
     "output_type": "stream",
     "text": [
      "han pasado 0 segs\n"
     ]
    },
    {
     "name": "stdout",
     "output_type": "stream",
     "text": [
      "Tortuga comenzó a correr!\n",
      "han pasado 1 segs\n",
      "han pasado 2 segs\n",
      "han pasado 3 segs\n",
      "han pasado 4 segs\n",
      "Conejo comenzó a correr!\n",
      "han pasado 5 segs\n",
      "han pasado 6 segs\n"
     ]
    }
   ],
   "source": [
    "import threading\n",
    "from time import sleep\n",
    "\n",
    "def comenzar_correr(nombre):\n",
    "    print(f\"{nombre} comenzó a correr!\")\n",
    "def contar():\n",
    "    contador = 0\n",
    "    while contador<7:\n",
    "        print(f\"han pasado {contador} segs\")\n",
    "        sleep(1)\n",
    "        contador+=1\n",
    "\n",
    "        \n",
    "tortuga = threading.Timer(0.5,comenzar_correr,args={\"Tortuga\"})\n",
    "conejo =  threading.Timer(5,comenzar_correr, args={\"Conejo\"})\n",
    "reloj = threading.Thread(target=contar,daemon=True)\n",
    "\n",
    "tortuga.start()\n",
    "conejo.start()\n",
    "reloj.start()\n",
    "\n"
   ]
  },
  {
   "cell_type": "markdown",
   "id": "c71f42b9",
   "metadata": {},
   "source": [
    "### Threads Personalizados 📚\n",
    "**Como ya eres un genio de la programación orientada objetos**, quieres hacer threads personalizados, ¡qué gran idea!\n",
    "\n",
    "#### ¿Como se hacen?\n",
    "Primero debemos heredar de la clase Thread, y en el init debemos llamar al `super()`, tal como lo aprendiste en OOP Luego debemos hacer override al método run, este es ejecutado cuando llamas a `mi_thread.start()`."
   ]
  },
  {
   "cell_type": "code",
   "execution_count": 16,
   "id": "fb729acf",
   "metadata": {},
   "outputs": [
    {
     "name": "stdout",
     "output_type": "stream",
     "text": [
      "Daemon thread: Empezando...\n",
      "Daemon thread: Terminando...\n"
     ]
    }
   ],
   "source": [
    "import threading\n",
    "\n",
    "class Daemon(threading.Thread):\n",
    "    \n",
    "    def __init__(self):\n",
    "        super().__init__()\n",
    "        # Cuando inicializamos el thread lo declaramos como daemon\n",
    "        self.daemon = True\n",
    "    \n",
    "    def run(self):\n",
    "        print(\"Daemon thread: Empezando...\")\n",
    "        time.sleep(2)\n",
    "        print(\"Daemon thread: Terminando...\")\n",
    "\n",
    "daemon = Daemon()\n",
    "daemon.start()\n",
    "daemon.join()"
   ]
  },
  {
   "cell_type": "markdown",
   "id": "69b20e5d",
   "metadata": {},
   "source": [
    "### Locks 🔐\n",
    "La clase Lock de la librería threading permite que haya un solo thread en una sección crítica a la vez. Estos locks pueden estar desbloqueados (inicialmente) o bloqueados.\n",
    "\n",
    "* El metodo `acquire()` permite adquirir el lock por parte de un thread y dejarlo bloqueado para los otros.\n",
    "* Por su parte el metodo `release()` libera el lock (lo desbloquea) , quedando disponible para que cualquier thread pueda adquirirlo."
   ]
  },
  {
   "cell_type": "code",
   "execution_count": 29,
   "id": "f3befebf",
   "metadata": {},
   "outputs": [
    {
     "name": "stdout",
     "output_type": "stream",
     "text": [
      "2000000\n"
     ]
    }
   ],
   "source": [
    "class Contador:\n",
    "    \n",
    "    def __init__(self):\n",
    "        self.valor = 0\n",
    "        \n",
    "# ¿ que numero debería dar ?\n",
    "conteo = 0\n",
    "\n",
    "for _ in range(10 ** 6):\n",
    "        conteo += 1\n",
    "\n",
    "for _ in range(10 ** 6):\n",
    "        conteo += 1\n",
    "        \n",
    "print(conteo)"
   ]
  },
  {
   "cell_type": "code",
   "execution_count": 30,
   "id": "825f5e84",
   "metadata": {},
   "outputs": [
    {
     "name": "stdout",
     "output_type": "stream",
     "text": [
      "Listo, nuestro contador vale 1296143\n"
     ]
    }
   ],
   "source": [
    "# Sin Locks\n",
    "import threading\n",
    "\n",
    "def sumador_con_seccion_critica(contador):\n",
    "    for _ in range(10 ** 6):\n",
    "        contador.valor += 1\n",
    "\n",
    "contador = Contador()\n",
    "\n",
    "t1 = threading.Thread(target=sumador_con_seccion_critica, args=(contador,))\n",
    "t2 = threading.Thread(target=sumador_con_seccion_critica, args=(contador,))\n",
    "\n",
    "t1.start()\n",
    "t2.start()\n",
    "t1.join()\n",
    "t2.join()\n",
    "\n",
    "print(\"Listo, nuestro contador vale\", contador.valor )"
   ]
  },
  {
   "cell_type": "code",
   "execution_count": 32,
   "id": "cc689cb3",
   "metadata": {},
   "outputs": [
    {
     "name": "stdout",
     "output_type": "stream",
     "text": [
      "Listo, nuestro contador vale 2000000\n"
     ]
    }
   ],
   "source": [
    "# Correcto manejo con Locks\n",
    "import threading\n",
    "\n",
    "\n",
    "candado = threading.Lock()\n",
    "\n",
    "def sumador_con_seccion_critica(contador, lock):\n",
    "    for _ in range(10 ** 6):\n",
    "        # Pedimos el lock antes de entrar a la sección crítica.\n",
    "        lock_global.acquire()\n",
    "        # --- Sección crítica ---. \n",
    "        # Está garantizado que en estas líneas sólo habrá un thread a la vez.\n",
    "        contador.valor += 1\n",
    "        # --- Fin de la sección crítica ---.\n",
    "        # Liberamos el lock luego de salir de la sección crítica.\n",
    "        lock_global.release()\n",
    "\n",
    "contador = Contador()\n",
    "\n",
    "t1 = threading.Thread(target=sumador_con_seccion_critica, args=(contador, candado))\n",
    "t2 = threading.Thread(target=sumador_con_seccion_critica, args=(contador, candado))\n",
    "\n",
    "t1.start()\n",
    "t2.start()\n",
    "t1.join()\n",
    "t2.join()\n",
    "\n",
    "print(\"Listo, nuestro contador vale\", contador.valor )"
   ]
  },
  {
   "cell_type": "markdown",
   "id": "415113fe",
   "metadata": {},
   "source": [
    "Otra forma de hacerlo sin usar `release()` y `acquire()` es con el context manager `with` como muestra el ejemplo:"
   ]
  },
  {
   "cell_type": "code",
   "execution_count": 33,
   "id": "1d030820",
   "metadata": {},
   "outputs": [
    {
     "name": "stdout",
     "output_type": "stream",
     "text": [
      "Listo, nuestro contador vale 2000000\n"
     ]
    }
   ],
   "source": [
    "# Correcto manejo con with\n",
    "import threading\n",
    "\n",
    "\n",
    "candado = threading.Lock()\n",
    "\n",
    "def sumador_con_seccion_critica(contador, lock):\n",
    "    for _ in range(10 ** 6):\n",
    "        with lock:\n",
    "            # --- Sección crítica ---. \n",
    "            # Está garantizado que en estas líneas sólo habrá un thread a la vez.\n",
    "            contador.valor += 1\n",
    "            # --- Fin de la sección crítica ---.\n",
    "       \n",
    "\n",
    "contador = Contador()\n",
    "\n",
    "t1 = threading.Thread(target=sumador_con_seccion_critica, args=(contador, candado))\n",
    "t2 = threading.Thread(target=sumador_con_seccion_critica, args=(contador, candado))\n",
    "\n",
    "t1.start()\n",
    "t2.start()\n",
    "t1.join()\n",
    "t2.join()\n",
    "\n",
    "print(\"Listo, nuestro contador vale\", contador.valor )"
   ]
  },
  {
   "cell_type": "markdown",
   "id": "b21701c0",
   "metadata": {},
   "source": [
    "#### DeadLocks 💀🔒\n",
    "También llamado interbloqueo hace referencia al error en donde dos threads se esperan mutuamente, por lo que ninguno de los dos avanza. Por lo que al programar debes tener cuidado para que esto no pase, utilizar `with` puede minimizar la posibilidad de que esto pase."
   ]
  },
  {
   "cell_type": "markdown",
   "id": "205397c9",
   "metadata": {},
   "source": [
    "### Eventos y señales 📡\n",
    "En ciertas ocasiones vamos a necesitar que un thread espere que ocurra un evento para continuar con sus operaciones. Para ello existen los objetos `Event()`, donde un thread emite una señal y otros esperan dicha señal. Metodos importantes:\n",
    "\n",
    "* Para esperar la señal en un Thread se utiliza el metodo `wait()`.\n",
    "* Para Mandar la señal desde un Thread se utiliza el metodo `set()`.\n",
    "* Para saber si la señal ha sido dada se utiliza el metodo `is_set()`, el cual retorna un booleano.\n",
    "* Para resetear la señal (mandarla a `False`) se utiliza `clear()`.\n",
    "\n"
   ]
  },
  {
   "cell_type": "code",
   "execution_count": 35,
   "id": "ef5069f6",
   "metadata": {},
   "outputs": [
    {
     "name": "stdout",
     "output_type": "stream",
     "text": [
      "Cargando audio Chayanne - Torero  en t=0.000810\n",
      "Cargando video Chayanne - Torero  en t=0.001340\n",
      "¡Video cargado! en t=3.007504\n",
      "¡Audio cargado! en t=5.006480\n",
      "Reproduciendo audio en t=5.006789Reproduciendo video en t=5.006859\n",
      "\n"
     ]
    }
   ],
   "source": [
    "import threading\n",
    "import time\n",
    "\n",
    "\n",
    "# Tenemos dos eventos o señales.\n",
    "# Esta es para avisar que el video ya está listo para ser reproducido.\n",
    "video_cargado = threading.Event()\n",
    "# Esta es para avisar que el audio ya está listo para ser reproducido.\n",
    "audio_cargado = threading.Event()\n",
    "\n",
    "\n",
    "tiempo = time.time()\n",
    "def reproducir_video(nombre):\n",
    "    print(f\"Cargando video {nombre} en t={time.time() - tiempo:.6f}\")\n",
    "    # Supongamos que se demora 3 segundos\n",
    "    time.sleep(3)\n",
    "    print(f\"¡Video cargado! en t={time.time() - tiempo:.6f}\")\n",
    "    # Avisamos que el video ya está cargado\n",
    "    video_cargado.set()\n",
    "    # Esperamos a que el audio ya se haya cargado\n",
    "    audio_cargado.wait()\n",
    "    # ¡Listo!\n",
    "    print(f\"Reproduciendo video en t={time.time() - tiempo:.6f}\")\n",
    "    \n",
    "    \n",
    "def reproducir_audio(nombre):\n",
    "    print(f\"Cargando audio {nombre} en t={time.time() - tiempo:.6f}\")\n",
    "    # Supongamos que se demora 5 segundos\n",
    "    time.sleep(5)\n",
    "    print(f\"¡Audio cargado! en t={time.time() - tiempo:.6f}\")\n",
    "    # Avisamos que el audio ya está cargado\n",
    "    audio_cargado.set()\n",
    "    # Esperamos a que el video ya se haya cargado\n",
    "    video_cargado.wait()\n",
    "    # ¡Listo!\n",
    "    print(f\"Reproduciendo audio en t={time.time() - tiempo:.6f}\")\n",
    "    \n",
    "    \n",
    "t1 = threading.Thread(target=reproducir_audio, args=(\"Chayanne - Torero \",))\n",
    "t2 = threading.Thread(target=reproducir_video, args=(\"Chayanne - Torero \",))\n",
    "\n",
    "t1.start()\n",
    "t2.start()\n",
    "\n",
    "t1.join()"
   ]
  },
  {
   "attachments": {},
   "cell_type": "markdown",
   "id": "21a09165",
   "metadata": {},
   "source": [
    "# Ejercicio Propuesto:  *DCColonia* 🐝\n",
    "\n",
    "Felicidades: ¡eres el nuevo apicultor del *DCC*! Se te ha encomendado la misión de modelar el comportamiento de una colonia de abejas virtuales.\n",
    "\n",
    "El programa debe contar con tres entidades principales: <tt>Colonia</tt>, <tt>Abeja</tt> y <tt>Jardin</tt>. Con cada ejecución, la colonia debe instanciar cierta cantidad de abejas, las que saldrán a recolectar polen a un jardín cercano, para posteriormente regresar al interior de la colonia y producir miel.\n",
    "\n",
    "A continuación, se presentan algunos requerimientos del programa:\n",
    "\n",
    "🍯 La clase <tt>Colonia</tt> debe instanciar a las abejas, y darles la orden de comenzar a trabajar al inicio de la simulación. Además, debe implementar una forma de almacenar polen y miel. Finalmente, cada cierta cantidad de tiempo debe instanciar nuevas abejas.\n",
    "\n",
    "🐝 Las abejas salen de la colonia por una pequeña abertura, por lo que deberás cerciorarte que solo una pueda estar saliendo o entrando al mismo tiempo.\n",
    "\n",
    "🌻 El Jardín debe producir polen cada cierto tiempo, para que las abejas puedan recolectarlo y la *DCColonia* sobreviva.\n",
    "\n",
    "Las tres clases deben heredar de <tt>Thread</tt>.\n",
    "\n",
    "Debe implementarse el patrón *productor-consumidor* entre el jardín y las abejas, y entre las abejas y la colonia. La estructura de datos <tt>deque</tt>, de la librería <tt>collections</tt> será de ayuda para evitar el uso excesivo de *locks* en zonas críticas."
   ]
  }
 ],
 "metadata": {
  "kernelspec": {
   "display_name": "Python 3 (ipykernel)",
   "language": "python",
   "name": "python3"
  },
  "language_info": {
   "codemirror_mode": {
    "name": "ipython",
    "version": 3
   },
   "file_extension": ".py",
   "mimetype": "text/x-python",
   "name": "python",
   "nbconvert_exporter": "python",
   "pygments_lexer": "ipython3",
   "version": "3.8.10"
  }
 },
 "nbformat": 4,
 "nbformat_minor": 5
}
