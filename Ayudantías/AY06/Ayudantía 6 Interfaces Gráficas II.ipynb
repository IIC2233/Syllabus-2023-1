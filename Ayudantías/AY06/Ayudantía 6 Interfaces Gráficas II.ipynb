{
 "cells": [
  {
   "cell_type": "markdown",
   "id": "4640ec2d",
   "metadata": {
    "slideshow": {
     "slide_type": "slide"
    }
   },
   "source": [
    "# Ayudantía 06: Interfaces Gráficas II\n",
    "\n",
    "### **Autores:** \n",
    "- Julio Huerta  ([@Julius9](https://github.com/Julius9)) \n",
    "- Felipe Vial"
   ]
  },
  {
   "cell_type": "markdown",
   "id": "272fd17a",
   "metadata": {
    "slideshow": {
     "slide_type": "slide"
    }
   },
   "source": [
    "### Espera... **¿Otra vez threading?** Esto tiene que ser una broma.\n",
    "El uso de *threading* al programar interfaces gráficas es fundamental. Solo imagina un mundo donde tu navegador de internet pudiera solo manejar una ventana o proceso a la vez: abres una ventana nueva y las otras se congelan. ¿A nadie le gustaría eso, o sí?"
   ]
  },
  {
   "cell_type": "markdown",
   "id": "b51e4f1c",
   "metadata": {
    "slideshow": {
     "slide_type": "slide"
    }
   },
   "source": [
    "## Threading en PyQt"
   ]
  },
  {
   "cell_type": "markdown",
   "id": "cea29b92",
   "metadata": {
    "slideshow": {
     "slide_type": "slide"
    }
   },
   "source": [
    "## **QThreads** \n",
    " PyQt trae su propia implementación de *threads*, por medio de la clase llamada ``QThread``.\n",
    "Se usan de manera muy parecida a los *threads* que ya conoces y **amas**, pero tienen algunas diferencias:\n",
    "\n",
    "* A diferencia de los`threads` normales, no es posible asignarle una funcion target al `QThread`. Estos ultimos estan pensados opara ser heredados y sobreescribir su método `run()`.\n",
    "* Los `QThreads` estan optimizados para su uso junto al modulo `PyQt`, por lo que funcionan mejor que los `threads` normales en este entorno.\n",
    "* Los `QThreads` heredan de la clase `QObject`\n",
    "* Los `QThreads` no se pueden volver `daemon`, por lo que hay tenerlo en consideracion cuando se tienen corriendo muchos subprocesos."
   ]
  },
  {
   "cell_type": "markdown",
   "id": "9696779d",
   "metadata": {
    "slideshow": {
     "slide_type": "slide"
    }
   },
   "source": [
    "#### Métodos notables de QThread\n",
    "\n",
    " - ``isRunning``: reemplaza el método ``is_alive`` de los *threads* de Python. Permite saber si un ``QThread`` está actualmente corriendo o no.\n",
    " \n",
    " - ``start``: Idéntico al ``start`` de *threads*. Ejecuta el método ``run`` en la definición del QThread (y otras cosas importantes por detrás ;)"
   ]
  },
  {
   "cell_type": "markdown",
   "id": "d56a522f",
   "metadata": {
    "slideshow": {
     "slide_type": "fragment"
    }
   },
   "source": [
    "⚠️ **Recuerden siempre llamar a QThread.start() y no a QThread.run() directamente!!!** ⚠️"
   ]
  },
  {
   "cell_type": "markdown",
   "id": "f5bd33a6",
   "metadata": {
    "slideshow": {
     "slide_type": "skip"
    }
   },
   "source": [
    " ## QTimers\n",
    " \n",
    "Un ``Qtimer`` se ejecuta periódicamente, esperando un intervalo de tiempo definido entre ciclos. La forma en que se comportan los ``QTimer`` es ideal para cualquier funcionalidad que quieras que ocurra cada cierto tiempo."
   ]
  },
  {
   "cell_type": "markdown",
   "id": "a664ff49",
   "metadata": {
    "slideshow": {
     "slide_type": "skip"
    }
   },
   "source": [
    "#### Métodos notables de QTimer\n",
    " - ``start`` y ``stop``: permite iniciar y parar el *timer*, respectivamente."
   ]
  },
  {
   "cell_type": "markdown",
   "id": "f1c2c5bc",
   "metadata": {
    "slideshow": {
     "slide_type": "skip"
    }
   },
   "source": [
    " - ``setInterval(ms: int)``: define que el *timer* debe emitir la señal *timeout* cada ``ms`` milisegundos.\n",
    " - ``timeout``: es la señal que llama el *timer* cuando termina el intervalo de tiempo. Puedes utilizar el método ``connect`` para conectarlo a alguna función."
   ]
  },
  {
   "cell_type": "markdown",
   "id": "948c4baf",
   "metadata": {
    "slideshow": {
     "slide_type": "skip"
    }
   },
   "source": [
    " - ``isActive``: permite saber si el *timer* está actualmente corriendo (análogo a ``isRunning`` e ``is_alive``).\n",
    " - ``setSingleShot(singleShot: bool)``: permite definir si el *timer* es de tipo ``singleShot`` (entregando como parámetro ``True``). Que un *timer* sea ``singleShot`` significa que, al pasar el intervalo de tiempo,\n",
    " el timer se detendrá (es decir, no cicla indefinidamente)."
   ]
  },
  {
   "cell_type": "markdown",
   "id": "ce0b7433",
   "metadata": {
    "slideshow": {
     "slide_type": "slide"
    }
   },
   "source": [
    "## La clave del éxito: ¡Señales!\n",
    "Hasta ahora, los ``QThreads`` (o *threads* en general) parecen algo que solo utilizarías si te lo piden explícitamente en la tarea... pero, en la práctica, es casi imposible implementar interfaces gráficas sin *threading*.\n",
    "\n",
    "Una de las cosas más útiles que podemos hacer con ``QThreads`` es enviar señales entre ventanas u objetos, sin que se congelen o dejen de hacer sus respectivas funcionalidades. ¡Veamos un ejemplo!"
   ]
  },
  {
   "cell_type": "markdown",
   "id": "a1824318",
   "metadata": {
    "slideshow": {
     "slide_type": "slide"
    }
   },
   "source": [
    "### **Ejemplo 1** \n",
    "\n",
    "Intentaremos crear una ventana con:\n",
    "\n",
    "* Un contador que muestra el numero en que va la primera cuenta\n",
    "* un boton que inicia un loop de 10 repeticiones, aumenta el contador en uno en cada repetición\n",
    "* Un boton contador, cuyo texto es el numero y que al ser precionado aumenta en uno"
   ]
  },
  {
   "cell_type": "code",
   "execution_count": 1,
   "id": "3772df54",
   "metadata": {
    "slideshow": {
     "slide_type": "slide"
    }
   },
   "outputs": [],
   "source": [
    "# Importacion de librerias para todas las celdas del ejemplo\n",
    "import sys\n",
    "from time import sleep\n",
    "from PyQt5.QtCore import pyqtSignal, QThread, QTimer\n",
    "from PyQt5.QtWidgets import QApplication, QWidget, QLabel, QVBoxLayout, QPushButton"
   ]
  },
  {
   "cell_type": "code",
   "execution_count": 2,
   "id": "5b37e433",
   "metadata": {
    "slideshow": {
     "slide_type": "subslide"
    }
   },
   "outputs": [],
   "source": [
    "class VentanaSinThread(QWidget):\n",
    "    actualizar_label_signal = pyqtSignal()\n",
    "\n",
    "    def __init__(self):\n",
    "        super().__init__()\n",
    "        # Creamos los botones y labels necesarios para el ejemplo.\n",
    "        self.label_numero = QLabel(\"0\", self)  # Muestra el numero que ira en aumento\n",
    "        self.boton_numero = QPushButton(\"0\", self)  # Muestra el numero que sube si lo apretamos\n",
    "        self.boton_loop = QPushButton(\"Iniciar Loop\", self)  # Inicia el loop\n",
    "        self.layout_principal = QVBoxLayout(self)  # Layout de la ventana principal\n",
    "\n",
    "        self.init_gui()"
   ]
  },
  {
   "cell_type": "code",
   "execution_count": 3,
   "id": "c9850e05",
   "metadata": {
    "slideshow": {
     "slide_type": "subslide"
    }
   },
   "outputs": [],
   "source": [
    "    def init_gui(self):\n",
    "        # Ordenamos las Widgets\n",
    "        self.layout_principal.addWidget(self.label_numero)\n",
    "        self.layout_principal.addStretch()\n",
    "        self.layout_principal.addWidget(self.boton_numero)\n",
    "        self.layout_principal.addWidget(self.boton_loop)\n",
    "        # Conectamos las senales\n",
    "        self.boton_numero.clicked.connect(self.actualizar_boton)\n",
    "        self.boton_loop.clicked.connect(self.iniciar_loop)\n",
    "        self.actualizar_label_signal.connect(self.actualizar_label)\n",
    "\n",
    "        self.show()"
   ]
  },
  {
   "cell_type": "code",
   "execution_count": 4,
   "id": "d31f4007",
   "metadata": {
    "slideshow": {
     "slide_type": "subslide"
    }
   },
   "outputs": [],
   "source": [
    "    def actualizar_label(self):\n",
    "        # Obtenemos el numero actual del label y lo aumentamos en 1\n",
    "        numero_actual = int(self.label_numero.text())\n",
    "        self.label_numero.setText(str(numero_actual + 1))\n",
    "\n",
    "    def actualizar_boton(self):\n",
    "        # Obtenemos el numero actual del boton y lo aumentamos en 1\n",
    "        numero_actual = int(self.boton_numero.text())\n",
    "        self.boton_numero.setText(str(numero_actual + 1))\n",
    "\n",
    "    def iniciar_loop(self):\n",
    "        # Emitimos la senal 10 veces, con 0.5 segundos de espera entre emisiones.\n",
    "        for _ in range(10):\n",
    "            self.actualizar_label_signal.emit()\n",
    "            sleep(0.5)"
   ]
  },
  {
   "cell_type": "code",
   "execution_count": 3,
   "id": "537ad2d9",
   "metadata": {
    "slideshow": {
     "slide_type": "skip"
    }
   },
   "outputs": [
    {
     "ename": "SystemExit",
     "evalue": "0",
     "output_type": "error",
     "traceback": [
      "An exception has occurred, use %tb to see the full traceback.\n",
      "\u001b[1;31mSystemExit\u001b[0m\u001b[1;31m:\u001b[0m 0\n"
     ]
    },
    {
     "name": "stderr",
     "output_type": "stream",
     "text": [
      "C:\\Users\\juanf\\AppData\\Local\\Programs\\Python\\Python310\\lib\\site-packages\\IPython\\core\\interactiveshell.py:3406: UserWarning: To exit: use 'exit', 'quit', or Ctrl-D.\n",
      "  warn(\"To exit: use 'exit', 'quit', or Ctrl-D.\", stacklevel=1)\n"
     ]
    }
   ],
   "source": [
    "if __name__ == '__main__':\n",
    "    app = QApplication([])\n",
    "    ventana = VentanaSinThread()\n",
    "    sys.exit(app.exec_())"
   ]
  },
  {
   "cell_type": "markdown",
   "id": "f4bbff29",
   "metadata": {
    "slideshow": {
     "slide_type": "slide"
    }
   },
   "source": [
    "### ¿Qué pasó?\n",
    "La ventana, al intentar correr todo por medio del *thread* principal, no puede procesar eventos, como apretar un botón, mientras que está corriendo el *loop*.\n"
   ]
  },
  {
   "cell_type": "markdown",
   "id": "3d379b5f",
   "metadata": {},
   "source": [
    "### **Ejemplo 2** : Solucion con `QThread`"
   ]
  },
  {
   "cell_type": "code",
   "execution_count": null,
   "id": "38b2b20e",
   "metadata": {
    "slideshow": {
     "slide_type": "slide"
    }
   },
   "outputs": [],
   "source": [
    "class ThreadBacan(QThread):\n",
    "    def __init__(self, actualizar_label_signal, *args, **kwargs):\n",
    "        # Entregar *args y **kwargs a la super clase es importante por si queremos dar algun parametro\n",
    "        # inicial de los que ya ofrece la clase QThread\n",
    "        super().__init__(*args, **kwargs)\n",
    "        # Le entregamos una senal que queremos que el Thread emita\n",
    "        self.actualizar_label_signal = actualizar_label_signal\n",
    "\n",
    "    def run(self):\n",
    "        for _ in range(10):\n",
    "            self.actualizar_label_signal.emit()\n",
    "            sleep(0.5)"
   ]
  },
  {
   "cell_type": "code",
   "execution_count": null,
   "id": "fe496e5d",
   "metadata": {
    "slideshow": {
     "slide_type": "subslide"
    }
   },
   "outputs": [],
   "source": [
    "class VentanaConThread(QWidget):\n",
    "    actualizar_label_signal = pyqtSignal()\n",
    "\n",
    "    def __init__(self):\n",
    "        super().__init__()\n",
    "        self.label_numero = QLabel(\"0\", self)\n",
    "        self.boton_numero = QPushButton(\"0\", self)\n",
    "        self.boton_loop = QPushButton(\"Iniciar Loop\", self)\n",
    "\n",
    "        self.layout_principal = QVBoxLayout(self)\n",
    "\n",
    "        # Creamos nuestro thread y le entregamos la senal para actualizar el label\n",
    "        self.thread_bacan = ThreadBacan(self.actualizar_label_signal)\n",
    "\n",
    "        self.init_gui()"
   ]
  },
  {
   "cell_type": "code",
   "execution_count": null,
   "id": "209f52ae",
   "metadata": {
    "slideshow": {
     "slide_type": "subslide"
    }
   },
   "outputs": [],
   "source": [
    "    def init_gui(self):\n",
    "        self.layout_principal.addWidget(self.label_numero)\n",
    "        self.layout_principal.addStretch()\n",
    "        self.layout_principal.addWidget(self.boton_numero)\n",
    "        self.layout_principal.addWidget(self.boton_loop)\n",
    "\n",
    "        self.boton_numero.clicked.connect(self.actualizar_boton)\n",
    "        self.boton_loop.clicked.connect(self.iniciar_loop)\n",
    "        self.actualizar_label_signal.connect(self.actualizar_label)\n",
    "\n",
    "        self.show()"
   ]
  },
  {
   "cell_type": "code",
   "execution_count": null,
   "id": "724ae0b0",
   "metadata": {
    "slideshow": {
     "slide_type": "subslide"
    }
   },
   "outputs": [],
   "source": [
    "    def actualizar_label(self):\n",
    "        numero_actual = int(self.label_numero.text())\n",
    "        self.label_numero.setText(str(numero_actual + 1))\n",
    "\n",
    "    def actualizar_boton(self):\n",
    "        numero_actual = int(self.boton_numero.text())\n",
    "        self.boton_numero.setText(str(numero_actual + 1))\n",
    "\n",
    "    def iniciar_loop(self):\n",
    "        self.thread_bacan.start()"
   ]
  },
  {
   "cell_type": "code",
   "execution_count": null,
   "id": "18e6c066",
   "metadata": {},
   "outputs": [],
   "source": [
    "if __name__ == '__main__':\n",
    "    app = QApplication([])\n",
    "    ventana = VentanaConThread()\n",
    "    sys.exit(app.exec_())"
   ]
  },
  {
   "cell_type": "markdown",
   "id": "44f60daf",
   "metadata": {
    "slideshow": {
     "slide_type": "skip"
    }
   },
   "source": [
    "¡Threading puede ser muy útil!\n",
    "\n",
    "Sin embargo, podría parecer tedioso tener que implementar un *thread* personalizado para todo lo que implique tiempo.\n",
    "Es por esto que los ``QTimer`` pueden ser una herramienta muy poderosa, pues permite fácilmente enviar señales cada cierto tiempo (y nos ahorramos un poquito de código).\n",
    "\n",
    "**Implementación con QTimer**"
   ]
  },
  {
   "cell_type": "code",
   "execution_count": null,
   "id": "64adb7c0",
   "metadata": {
    "slideshow": {
     "slide_type": "skip"
    }
   },
   "outputs": [],
   "source": [
    "class VentanaConTimer(QWidget):\n",
    "    def __init__(self):\n",
    "        super().__init__()\n",
    "        self.label_numero = QLabel(\"0\", self)\n",
    "        self.boton_numero = QPushButton(\"0\", self)\n",
    "        self.boton_loop = QPushButton(\"Iniciar Loop\", self)\n",
    "\n",
    "        self.layout_principal = QVBoxLayout(self)\n",
    "        self.timer_epico = QTimer(self)\n",
    "\n",
    "        self.init_gui()"
   ]
  },
  {
   "cell_type": "code",
   "execution_count": null,
   "id": "426d6c12",
   "metadata": {
    "slideshow": {
     "slide_type": "skip"
    }
   },
   "outputs": [],
   "source": [
    "    def init_gui(self):\n",
    "        self.layout_principal.addWidget(self.label_numero)\n",
    "        self.layout_principal.addStretch()\n",
    "        self.layout_principal.addWidget(self.boton_numero)\n",
    "        self.layout_principal.addWidget(self.boton_loop)\n",
    "\n",
    "        self.boton_numero.clicked.connect(self.actualizar_boton)\n",
    "        self.boton_loop.clicked.connect(self.iniciar_loop)\n",
    "\n",
    "        self.show()"
   ]
  },
  {
   "cell_type": "code",
   "execution_count": null,
   "id": "02cb53fa",
   "metadata": {
    "slideshow": {
     "slide_type": "skip"
    }
   },
   "outputs": [],
   "source": [
    "    def actualizar_label(self):\n",
    "        numero_actual = int(self.label_numero.text())\n",
    "        self.label_numero.setText(str(numero_actual + 1))\n",
    "\n",
    "        # Podemos dejar una prueba para ver si paramos el timer.\n",
    "        # Idealmente, deberias implementar un timer personalizado que se preocupe de esto\n",
    "        if numero_actual == 10:\n",
    "            self.timer_epico.stop()"
   ]
  },
  {
   "cell_type": "code",
   "execution_count": null,
   "id": "34e6aacf",
   "metadata": {
    "slideshow": {
     "slide_type": "skip"
    }
   },
   "outputs": [],
   "source": [
    "    def actualizar_boton(self):\n",
    "        numero_actual = int(self.boton_numero.text())\n",
    "        self.boton_numero.setText(str(numero_actual + 1))"
   ]
  },
  {
   "cell_type": "code",
   "execution_count": null,
   "id": "dafa7e20",
   "metadata": {
    "slideshow": {
     "slide_type": "skip"
    }
   },
   "outputs": [],
   "source": [
    "    def iniciar_loop(self):\n",
    "        # Los timers emiten una senal cada vez que pasa una cantidad de tiempo especificada\n",
    "        # la cual puedes acceder para conectarla utilizando el atributo timeout.\n",
    "        self.timer_epico.timeout.connect(self.actualizar_label)\n",
    "        # Ojo: el tiempo se especifica en milisegundos!\n",
    "        self.timer_epico.setInterval(1000)\n",
    "        self.timer_epico.start()"
   ]
  },
  {
   "cell_type": "code",
   "execution_count": null,
   "id": "5490f6a0",
   "metadata": {
    "slideshow": {
     "slide_type": "skip"
    }
   },
   "outputs": [],
   "source": [
    "if __name__ == '__main__':\n",
    "    app = QApplication([])\n",
    "    ventana = VentanaConTimer()\n",
    "    sys.exit(app.exec_())"
   ]
  },
  {
   "cell_type": "markdown",
   "id": "083cfd11",
   "metadata": {},
   "source": [
    "### Ejemplo 3\n",
    "Como vimos anteriormente un `QThread` no puede volverse Daemon, por lo que estos frenaran al programa a terminar. Una correcta forma de \"terminarlos\", es que su ejecución dependa de una variable, la cual es cambiada con el uso de una señal"
   ]
  },
  {
   "cell_type": "code",
   "execution_count": null,
   "id": "e2eb4614",
   "metadata": {},
   "outputs": [],
   "source": [
    "class ThreadDemoniaco(QThread):\n",
    "    def __init__(self, padre, *args, **kwargs):\n",
    "        # Entregar *args y **kwargs a la super clase es importante por si queremos dar algun parametro\n",
    "        # inicial de los que ya ofrece la clase QThread\n",
    "        super().__init__(*args, **kwargs)\n",
    "        # Le entregamos una senal que queremos que el Thread emita\n",
    "        self.ventana = padre\n",
    "        self.actualizar_label_signal = self.ventana.actualizar_label_signal\n",
    "\n",
    "    def run(self):\n",
    "        while not self.ventana.terminar:\n",
    "            self.actualizar_label_signal.emit()\n",
    "            sleep(0.5)"
   ]
  },
  {
   "cell_type": "code",
   "execution_count": null,
   "id": "cfc27030",
   "metadata": {},
   "outputs": [],
   "source": [
    "class VentanaConThread(QWidget):\n",
    "    actualizar_label_signal = pyqtSignal()\n",
    "\n",
    "    def __init__(self):\n",
    "        super().__init__()\n",
    "        self.label_numero = QLabel(\"0\", self)\n",
    "        self.boton_empezar = QPushButton(\"Iniciar\", self)\n",
    "        self.boton_terminar = QPushButton(\"Terminar\", self)\n",
    "\n",
    "        self.layout_principal = QVBoxLayout(self)\n",
    "\n",
    "        # Creamos nuestro thread y le entregamos la senal para actualizar el label\n",
    "        self.terminar = False\n",
    "        self.thread_demoniaco = ThreadDemoniaco(self)\n",
    "        self.init_gui()\n",
    "\n",
    "    def init_gui(self):\n",
    "        self.layout_principal.addWidget(self.label_numero)\n",
    "        self.layout_principal.addStretch()\n",
    "        self.layout_principal.addWidget(self.boton_empezar)\n",
    "        self.layout_principal.addWidget(self.boton_terminar)\n",
    "\n",
    "        self.boton_empezar.clicked.connect(self.iniciar_qthread)\n",
    "        self.boton_terminar.clicked.connect(self.terminar_qthread)\n",
    "\n",
    "        # se conecta la señal\n",
    "        self.actualizar_label_signal.connect(self.actualizar_label)\n",
    "        self.show()\n",
    "    \n",
    "    def actualizar_label(self):\n",
    "        numero_actual = int(self.label_numero.text())\n",
    "        self.label_numero.setText(str(numero_actual + 1))\n",
    "\n",
    "    def iniciar_qthread(self):\n",
    "        self.thread_demoniaco.start()\n",
    "\n",
    "    def terminar_qthread(self):\n",
    "        self.terminar = True"
   ]
  },
  {
   "cell_type": "code",
   "execution_count": null,
   "id": "a3221241",
   "metadata": {},
   "outputs": [],
   "source": [
    "if __name__ == '__main__':\n",
    "    app = QApplication([])\n",
    "    ventana = VentanaConThread()\n",
    "    sys.exit(app.exec_())"
   ]
  },
  {
   "cell_type": "markdown",
   "id": "f8bcb838",
   "metadata": {
    "slideshow": {
     "slide_type": "slide"
    }
   },
   "source": [
    "## Main window 💻\n",
    "\n",
    "Cuando hablamos de una ``MainWindow``, piensa simplemente en una *widget* especial \n",
    "\n",
    "- Trae un orden pre-definido y funcionalidades especiales.\n",
    "- Facilita la construcción de aplicaciones con un orden \"estándar\". \n",
    "\n",
    "Básicamente, te permite construir rápidamente aplicaciones que ordenan sus ventanas como el *IDE* (QTdesigner) que utilizas para el ramo."
   ]
  },
  {
   "cell_type": "markdown",
   "id": "69c842b1",
   "metadata": {
    "slideshow": {
     "slide_type": "subslide"
    }
   },
   "source": [
    "Una MainWindow se ordena de la siguiente manera:\n",
    "![mainwindow](imagenes/mainwindowlayout.png)"
   ]
  },
  {
   "cell_type": "markdown",
   "id": "78217e25",
   "metadata": {
    "slideshow": {
     "slide_type": "slide"
    }
   },
   "source": [
    "### Elementos y métodos útiles de MainWidget"
   ]
  },
  {
   "cell_type": "markdown",
   "id": "87b77c82",
   "metadata": {
    "slideshow": {
     "slide_type": "subslide"
    }
   },
   "source": [
    "### Menús\n",
    "\n",
    "- ``self.menubar()``: Agrega una barra de menú al MainWidget. Sobre esta podemos utilizar ``addMenu()`` para agregar un menú.\n",
    "\n",
    "- ``addAction(accion)``: Permite agregar una acción de tipo ``QAction`` a un menú. ¿Cómo? ¿Que qué es un QAction?"
   ]
  },
  {
   "cell_type": "markdown",
   "id": "cfbfdce3",
   "metadata": {
    "slideshow": {
     "slide_type": "subslide"
    }
   },
   "source": [
    "### ¡QActions!\n",
    "\n",
    "Son objetos bastante abstractos, que dentro de un menú son similares a un botón. Sin embargo, tienen un par de cosas interesantes (y útiles):\n",
    "- ``setShortcut()``: Esto le asigna un *shortcut* a la acción. Introducir el shortcut tendrá el mismo efecto que hacer click sobre ella.\n",
    "\n",
    "- ``setStatusTip(tip)``: Esto hace que cuando mantengas el ratón en *hover* sobre la acción, se muestre un mensaje de ayuda en la ``statusBar``.\n",
    "\n",
    "- ``triggered.connect(funcion)``: Método que conecta la *activación* de la acción con otra función."
   ]
  },
  {
   "cell_type": "markdown",
   "id": "b1ac1af4",
   "metadata": {
    "slideshow": {
     "slide_type": "subslide"
    }
   },
   "source": [
    "### Status Bar\n",
    "\n",
    "Es una barra de estado :D\n",
    "\n",
    "- ``showMessage(msg)``: Actualiza el mensaje mostrado por la statusBar (*pst... puede ser más dinámico si lo usan junto a métodos*)"
   ]
  },
  {
   "cell_type": "markdown",
   "id": "89db1efe",
   "metadata": {
    "slideshow": {
     "slide_type": "subslide"
    }
   },
   "source": [
    "### Central Widget\n",
    "\n",
    "- ``setCentralWidget(widget)``: Asigna el cuerpo de la ventana. Pueden pensar en que MainWindow toma una ventana más pequeña, y le agrega un marco y otras cosas a su alrededor :D"
   ]
  },
  {
   "cell_type": "markdown",
   "id": "ef1918f4",
   "metadata": {
    "slideshow": {
     "slide_type": "slide"
    }
   },
   "source": [
    "## La salvación de muchos: Qt Designer 🎨🙌\n",
    "Qt Designer es una herramienta de diseño que permite crear Widgets visualmente 😎"
   ]
  },
  {
   "cell_type": "markdown",
   "id": "9f3b0bc7",
   "metadata": {
    "slideshow": {
     "slide_type": "subslide"
    }
   },
   "source": [
    "![qtdesigner](imagenes/qtdesigner-anotado.png)"
   ]
  },
  {
   "cell_type": "markdown",
   "id": "5f4c086b",
   "metadata": {
    "slideshow": {
     "slide_type": "slide"
    }
   },
   "source": [
    "## Tetris ! 🎶\n",
    "* Implementaremos un juego de Tetris, para esto debemos crear la pantalla de inicio con `QtDesgner` y codigo python.\n",
    "\n",
    "* Posteriormente analizaremos como los bloques se mueven, con la ayuda de `QThread`\n",
    "\n",
    "\n"
   ]
  },
  {
   "cell_type": "code",
   "execution_count": null,
   "id": "75cc77dc",
   "metadata": {},
   "outputs": [],
   "source": []
  }
 ],
 "metadata": {
  "celltoolbar": "Slideshow",
  "kernelspec": {
   "display_name": "Python 3 (ipykernel)",
   "language": "python",
   "name": "python3"
  },
  "language_info": {
   "codemirror_mode": {
    "name": "ipython",
    "version": 3
   },
   "file_extension": ".py",
   "mimetype": "text/x-python",
   "name": "python",
   "nbconvert_exporter": "python",
   "pygments_lexer": "ipython3",
   "version": "3.10.0"
  }
 },
 "nbformat": 4,
 "nbformat_minor": 5
}
