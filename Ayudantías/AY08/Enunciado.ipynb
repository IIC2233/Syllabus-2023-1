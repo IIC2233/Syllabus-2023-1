{
 "cells": [
  {
   "attachments": {},
   "cell_type": "markdown",
   "metadata": {
    "slideshow": {
     "slide_type": "slide"
    }
   },
   "source": [
    "# Ayudantía 09 : \n",
    "\n",
    "## Estructuras Nodales - Grafos\n",
    "\n",
    "### Autores: [Martin Atria](https://github.com/Maratripa) - [Patricio Hinostroza](https://github.com/dvckhv) - [Lucas VSJ](https://github.com/lucasvsj) -[Felipe Guerrero](https://github.com/salbutamol12)"
   ]
  },
  {
   "attachments": {},
   "cell_type": "markdown",
   "metadata": {
    "slideshow": {
     "slide_type": "slide"
    }
   },
   "source": [
    "# Problema:"
   ]
  },
  {
   "attachments": {},
   "cell_type": "markdown",
   "metadata": {},
   "source": [
    "Luego de una ~~desastroza~~ descansada semana de receso, nuestro querido `DCCabro` debe regresar a su casa para poder ponerse al dia con sus estudios. Lamenteblemente, debido a la cantidad inhumana de ~~piscolas~~ descanso, `DCCabro` no se acuerda muy bien como llegar a su casa, por lo que le pide ayuda a los ingeniosos alumnos de Programacion Avanzada para que lo salven de dicha encrusijada.\n",
    "\n",
    "Es pos esto, `DCCabro` te pide que, en base al mapa que posee de los paraderos de micro, le indiques alguna ruta con la que el pueda llegar sano y salvo a su casa. Ademas, te agradecieria demasiado si tambien le muestras la ruta mas corta."
   ]
  },
  {
   "attachments": {},
   "cell_type": "markdown",
   "metadata": {
    "slideshow": {
     "slide_type": "subslide"
    }
   },
   "source": [
    " <center><div style=\"background-color: #f8dcb4\"><img src=\"Images/AY-1.png\" alt=\"image2\" width=\"90%\" weight=\"90%\"></div></center>"
   ]
  },
  {
   "attachments": {},
   "cell_type": "markdown",
   "metadata": {},
   "source": [
    "# Codigo"
   ]
  },
  {
   "attachments": {},
   "cell_type": "markdown",
   "metadata": {},
   "source": [
    "## Librerias"
   ]
  },
  {
   "cell_type": "code",
   "execution_count": 365,
   "metadata": {},
   "outputs": [],
   "source": [
    "from collections import deque"
   ]
  },
  {
   "cell_type": "markdown",
   "metadata": {
    "slideshow": {
     "slide_type": "slide"
    }
   },
   "source": [
    "## Clase Nodo"
   ]
  },
  {
   "cell_type": "code",
   "execution_count": 366,
   "metadata": {
    "slideshow": {
     "slide_type": "subslide"
    }
   },
   "outputs": [],
   "source": [
    "class Nodo:\n",
    "    def __init__(self, codigo):\n",
    "        self.codigo = codigo\n",
    "        self.conexiones = []\n",
    "    \n",
    "    def agregar_nodo(self, nodo):\n",
    "        self.conexiones.append(nodo)\n",
    "    \n",
    "    def quitar_nodo(self, nodo):\n",
    "        self.conexiones.remove(nodo)\n",
    "    \n",
    "    def __str__(self):\n",
    "        return f\"{self.__class__.__name__}({self.codigo})\""
   ]
  },
  {
   "cell_type": "markdown",
   "metadata": {
    "slideshow": {
     "slide_type": "slide"
    }
   },
   "source": [
    "## Clase Grafo"
   ]
  },
  {
   "cell_type": "code",
   "execution_count": 367,
   "metadata": {
    "slideshow": {
     "slide_type": "subslide"
    }
   },
   "outputs": [],
   "source": [
    "class Grafo:\n",
    "    def __init__(self):\n",
    "        self.nodos = dict()\n",
    "    \n",
    "    def agregar_nodo(self, nodo):\n",
    "        self.nodos[nodo.codigo] = nodo\n",
    "    \n",
    "    def conectar(self, nodo_A, nodo_B):\n",
    "        # grafo no simple a->b pero b -\\> a\n",
    "        nodo_a = self.nodos[nodo_A]\n",
    "        nodo_b = self.nodos[nodo_B]\n",
    "        \n",
    "        nodo_a.agregar_nodo(nodo_b)\n",
    "        \n",
    "        #print(f\"{nodo_b} se ha conectado a {nodo_a}\")\n",
    "    \n",
    "    def remover_conexion(self, nodo_A, nodo_B):\n",
    "        nodo_a = self.nodos[nodo_A.codigo]\n",
    "        nodo_b = self.nodos[nodo_B.codigo]\n",
    "        \n",
    "        nodo_a.quitar_nodo(nodo_b)\n",
    "        \n",
    "        #print(f\"{nodo_b} se ha desconectado de {nodo_a}\")\n",
    "    \n",
    "    def hay_ruta(self, nodo_A, nodo_B):\n",
    "        # Realiza DFS\n",
    "        nodo = self.nodos[nodo_A]\n",
    "        \n",
    "        visitados = set()\n",
    "        faltantes = [nodo]\n",
    "        \n",
    "        while len(faltantes) > 0:\n",
    "            nodo = faltantes.pop()\n",
    "            if nodo.codigo == nodo_B:\n",
    "                return True\n",
    "            if nodo not in visitados:\n",
    "                visitados.add(nodo)\n",
    "                for hijo in nodo.conexiones:\n",
    "                    faltantes.append(hijo)\n",
    "        return False\n",
    "\n",
    "    \n",
    "    def ruta(self, nodo_A, nodo_B, visitados = set()):\n",
    "        # print(f'First Visited: {visitados}')\n",
    "        nodo = self.nodos[nodo_A]\n",
    "        \n",
    "        ruta = [nodo] #Como la ruta debe contener al nodo de inicio, se define inicialmente así\n",
    "        \n",
    "        if nodo.codigo == nodo_B: \n",
    "            return ruta #En caso de que el nodo en el que estamos sea nuestro destino, retornamos la ruta (caso base)\n",
    "            # Al aplicar return se termina la función\n",
    "        \n",
    "        visitados.add(nodo) \n",
    "        \n",
    "        for hijo in nodo.conexiones:\n",
    "            # print(f'Hijo: {hijo}')\n",
    "            if hijo not in visitados:\n",
    "                r_hijo = self.ruta(hijo.codigo, nodo_B, visitados) #Ruta siempre retorna una lista\n",
    "                # print(f'Ruta Hijo: {[char.codigo for char in ruta]}')\n",
    "                if r_hijo: #Si la lista contiene algo, entonces de alguna forma ya se llego al destino\n",
    "                    ruta.extend(r_hijo) #Agregamos a la ruta local, lo que la ruta de el hijo contenga\n",
    "                    break\n",
    "        # print(f'Ruta Final: {[char.codigo for char in ruta]}')\n",
    "        return ruta if len(ruta) > 1 else [] \n",
    "    #Si nuetra ruta es de largo 1, significa que solo es el nodo actual \n",
    "    #y por lo tanto, los hijos tampoco pudieron llegar al destino.\n",
    "    # Se retorna una lista vacía indicando que no hay ruta."
   ]
  },
  {
   "cell_type": "markdown",
   "metadata": {},
   "source": [
    "## Archivos"
   ]
  },
  {
   "cell_type": "code",
   "execution_count": 384,
   "metadata": {},
   "outputs": [],
   "source": [
    "def leer_archivos(archivo_nodos, archivo_conexiones, echo=False):\n",
    "    grafo = Grafo()\n",
    "    \n",
    "    with open(archivo_nodos, \"r\") as nodos:\n",
    "        for linea in nodos:\n",
    "            nodo = Nodo(linea.strip())\n",
    "            grafo.agregar_nodo(nodo)\n",
    "\n",
    "    with open(archivo_conexiones, \"r\") as conexiones:\n",
    "        for linea in conexiones:\n",
    "            nodo_a, nodo_b = linea.strip().split(\",\")\n",
    "            grafo.conectar(nodo_a, nodo_b)\n",
    "            if echo:\n",
    "                print(f'{nodo_a} -> {nodo_b}')\n",
    "        \n",
    "    return grafo"
   ]
  },
  {
   "cell_type": "code",
   "execution_count": 400,
   "metadata": {},
   "outputs": [],
   "source": [
    "grafo = leer_archivos(\"nodos.txt\", \"conexiones.txt\", echo=False)"
   ]
  },
  {
   "cell_type": "code",
   "execution_count": 401,
   "metadata": {},
   "outputs": [
    {
     "name": "stdout",
     "output_type": "stream",
     "text": [
      "El Nodo: Nodo(P001)\n"
     ]
    },
    {
     "data": {
      "text/plain": [
       "['P002', 'P003', 'P210']"
      ]
     },
     "execution_count": 401,
     "metadata": {},
     "output_type": "execute_result"
    }
   ],
   "source": [
    "# Ver Nodo con sus Conexiones\n",
    "nodo_elegido = grafo.nodos['P001']\n",
    "print(f'El Nodo: {nodo_elegido}')\n",
    "[char.codigo for char in nodo_elegido.conexiones]"
   ]
  },
  {
   "attachments": {},
   "cell_type": "markdown",
   "metadata": {},
   "source": [
    "## Recorrido"
   ]
  },
  {
   "attachments": {},
   "cell_type": "markdown",
   "metadata": {},
   "source": [
    "### Breadth First Search (BFS)\n",
    "\n",
    "\"Busqueda amplitud primero\". Este algoritmo recorre el arbol por niveles de profundidad. Es decir,\n",
    "prioriza hermanos sobre hijos."
   ]
  },
  {
   "cell_type": "code",
   "execution_count": 402,
   "metadata": {},
   "outputs": [],
   "source": [
    "   # Función externa a la clase, puede partir de cualquier nodo\n",
    "\n",
    "def recorrer_bfs(nodo):\n",
    "    # Utilizamos una cola para almacenar los nodos por visitar\n",
    "    cola = deque()\n",
    "    visitados = list() # Puede ser cualquier estructura\n",
    "\n",
    "    # Verificamos que existe el nodo y lo agregamos a la cola\n",
    "    if isinstance(nodo, Nodo):\n",
    "        cola.append(nodo)\n",
    "\n",
    "    # Mientras queden nodos por visitar en la cola\n",
    "    while len(cola) > 0:\n",
    "\n",
    "        # Extraemos el ultimo de la cola\n",
    "        nodo_actual = cola.popleft()\n",
    "        if nodo_actual not in visitados:\n",
    "            # Actualizamos la lista de visitados\n",
    "            visitados.append(nodo_actual)\n",
    "\n",
    "            #Mostramos el estado actual del DFS.\n",
    "            print(\"nodo actual:\",nodo_actual)\n",
    "            print(\"hijos: \",[str(char) for char in nodo_actual.conexiones])\n",
    "            print(\"visitados:\", [str(char) for char in visitados])\n",
    "            \n",
    "            # Agregamos todos los nodos hijos a la cola\n",
    "            for hijo in nodo_actual.conexiones:\n",
    "                cola.append(hijo)\n",
    "        else:\n",
    "            print(f\"el nodo {nodo_actual} ya se visitó anteriormente\")"
   ]
  },
  {
   "cell_type": "code",
   "execution_count": 403,
   "metadata": {},
   "outputs": [
    {
     "name": "stdout",
     "output_type": "stream",
     "text": [
      "nodo actual: Nodo(P001)\n",
      "hijos:  ['Nodo(P002)', 'Nodo(P003)', 'Nodo(P210)']\n",
      "visitados: ['Nodo(P001)']\n",
      "nodo actual: Nodo(P002)\n",
      "hijos:  ['Nodo(P003)', 'Nodo(P005)']\n",
      "visitados: ['Nodo(P001)', 'Nodo(P002)']\n",
      "nodo actual: Nodo(P003)\n",
      "hijos:  ['Nodo(P004)', 'Nodo(P102)']\n",
      "visitados: ['Nodo(P001)', 'Nodo(P002)', 'Nodo(P003)']\n",
      "nodo actual: Nodo(P210)\n",
      "hijos:  ['Nodo(P211)']\n",
      "visitados: ['Nodo(P001)', 'Nodo(P002)', 'Nodo(P003)', 'Nodo(P210)']\n",
      "el nodo Nodo(P003) ya se visitó anteriormente\n",
      "nodo actual: Nodo(P005)\n",
      "hijos:  ['Nodo(P006)', 'Nodo(P101)']\n",
      "visitados: ['Nodo(P001)', 'Nodo(P002)', 'Nodo(P003)', 'Nodo(P210)', 'Nodo(P005)']\n",
      "nodo actual: Nodo(P004)\n",
      "hijos:  ['Nodo(P005)']\n",
      "visitados: ['Nodo(P001)', 'Nodo(P002)', 'Nodo(P003)', 'Nodo(P210)', 'Nodo(P005)', 'Nodo(P004)']\n",
      "nodo actual: Nodo(P102)\n",
      "hijos:  ['Nodo(P302)', 'Nodo(P103)']\n",
      "visitados: ['Nodo(P001)', 'Nodo(P002)', 'Nodo(P003)', 'Nodo(P210)', 'Nodo(P005)', 'Nodo(P004)', 'Nodo(P102)']\n",
      "nodo actual: Nodo(P211)\n",
      "hijos:  ['Nodo(P212)', 'Nodo(P213)', 'Nodo(P003)']\n",
      "visitados: ['Nodo(P001)', 'Nodo(P002)', 'Nodo(P003)', 'Nodo(P210)', 'Nodo(P005)', 'Nodo(P004)', 'Nodo(P102)', 'Nodo(P211)']\n",
      "nodo actual: Nodo(P006)\n",
      "hijos:  ['Nodo(P007)']\n",
      "visitados: ['Nodo(P001)', 'Nodo(P002)', 'Nodo(P003)', 'Nodo(P210)', 'Nodo(P005)', 'Nodo(P004)', 'Nodo(P102)', 'Nodo(P211)', 'Nodo(P006)']\n",
      "nodo actual: Nodo(P101)\n",
      "hijos:  ['Nodo(P102)', 'Nodo(P501)']\n",
      "visitados: ['Nodo(P001)', 'Nodo(P002)', 'Nodo(P003)', 'Nodo(P210)', 'Nodo(P005)', 'Nodo(P004)', 'Nodo(P102)', 'Nodo(P211)', 'Nodo(P006)', 'Nodo(P101)']\n",
      "el nodo Nodo(P005) ya se visitó anteriormente\n",
      "nodo actual: Nodo(P302)\n",
      "hijos:  []\n",
      "visitados: ['Nodo(P001)', 'Nodo(P002)', 'Nodo(P003)', 'Nodo(P210)', 'Nodo(P005)', 'Nodo(P004)', 'Nodo(P102)', 'Nodo(P211)', 'Nodo(P006)', 'Nodo(P101)', 'Nodo(P302)']\n",
      "nodo actual: Nodo(P103)\n",
      "hijos:  ['Nodo(P001)']\n",
      "visitados: ['Nodo(P001)', 'Nodo(P002)', 'Nodo(P003)', 'Nodo(P210)', 'Nodo(P005)', 'Nodo(P004)', 'Nodo(P102)', 'Nodo(P211)', 'Nodo(P006)', 'Nodo(P101)', 'Nodo(P302)', 'Nodo(P103)']\n",
      "nodo actual: Nodo(P212)\n",
      "hijos:  ['Nodo(P213)']\n",
      "visitados: ['Nodo(P001)', 'Nodo(P002)', 'Nodo(P003)', 'Nodo(P210)', 'Nodo(P005)', 'Nodo(P004)', 'Nodo(P102)', 'Nodo(P211)', 'Nodo(P006)', 'Nodo(P101)', 'Nodo(P302)', 'Nodo(P103)', 'Nodo(P212)']\n",
      "nodo actual: Nodo(P213)\n",
      "hijos:  ['Nodo(P007)']\n",
      "visitados: ['Nodo(P001)', 'Nodo(P002)', 'Nodo(P003)', 'Nodo(P210)', 'Nodo(P005)', 'Nodo(P004)', 'Nodo(P102)', 'Nodo(P211)', 'Nodo(P006)', 'Nodo(P101)', 'Nodo(P302)', 'Nodo(P103)', 'Nodo(P212)', 'Nodo(P213)']\n",
      "el nodo Nodo(P003) ya se visitó anteriormente\n",
      "nodo actual: Nodo(P007)\n",
      "hijos:  []\n",
      "visitados: ['Nodo(P001)', 'Nodo(P002)', 'Nodo(P003)', 'Nodo(P210)', 'Nodo(P005)', 'Nodo(P004)', 'Nodo(P102)', 'Nodo(P211)', 'Nodo(P006)', 'Nodo(P101)', 'Nodo(P302)', 'Nodo(P103)', 'Nodo(P212)', 'Nodo(P213)', 'Nodo(P007)']\n",
      "el nodo Nodo(P102) ya se visitó anteriormente\n",
      "nodo actual: Nodo(P501)\n",
      "hijos:  ['Nodo(P502)']\n",
      "visitados: ['Nodo(P001)', 'Nodo(P002)', 'Nodo(P003)', 'Nodo(P210)', 'Nodo(P005)', 'Nodo(P004)', 'Nodo(P102)', 'Nodo(P211)', 'Nodo(P006)', 'Nodo(P101)', 'Nodo(P302)', 'Nodo(P103)', 'Nodo(P212)', 'Nodo(P213)', 'Nodo(P007)', 'Nodo(P501)']\n",
      "el nodo Nodo(P001) ya se visitó anteriormente\n",
      "el nodo Nodo(P213) ya se visitó anteriormente\n",
      "el nodo Nodo(P007) ya se visitó anteriormente\n",
      "nodo actual: Nodo(P502)\n",
      "hijos:  ['Nodo(P006)']\n",
      "visitados: ['Nodo(P001)', 'Nodo(P002)', 'Nodo(P003)', 'Nodo(P210)', 'Nodo(P005)', 'Nodo(P004)', 'Nodo(P102)', 'Nodo(P211)', 'Nodo(P006)', 'Nodo(P101)', 'Nodo(P302)', 'Nodo(P103)', 'Nodo(P212)', 'Nodo(P213)', 'Nodo(P007)', 'Nodo(P501)', 'Nodo(P502)']\n",
      "el nodo Nodo(P006) ya se visitó anteriormente\n"
     ]
    }
   ],
   "source": [
    "recorrer_bfs(list(grafo.nodos.values())[0])"
   ]
  },
  {
   "attachments": {},
   "cell_type": "markdown",
   "metadata": {},
   "source": [
    "### Depth First Search(DFS)\n",
    "\n",
    "\"Busqueda profundidad primero\". Este algoritmo recorre el arbol por ramas. Es decir, prioriza hijos sobre hermanos."
   ]
  },
  {
   "cell_type": "markdown",
   "metadata": {
    "slideshow": {
     "slide_type": "notes"
    }
   },
   "source": [
    "Hay que entender que la lista `ruta` solo se retorna con datos cuando llega al caso base (destino), entonces solo ahí `r_hijo` recive una lista no vacía, entrando al `if` y agregándose a la ruta local del padre y así sucesivamente generando una especie de reacción en cadena. \n",
    "De lo contrario solo se retornará una lista vacía que indica que desde ese nodo y sus hijos no se llegó de ninguna forma al nodo de destino."
   ]
  },
  {
   "cell_type": "code",
   "execution_count": 404,
   "metadata": {},
   "outputs": [],
   "source": [
    "# Función externa\n",
    "def recorrer_dfs(nodo,visitados = []):\n",
    "    # se revisa si es instancia de nodo\n",
    "    if not isinstance(nodo, Nodo):\n",
    "        return\n",
    "    #Revisamos si ya se visito\n",
    "    if nodo not in visitados:\n",
    "        #actualizamos visitados\n",
    "        visitados.append(nodo)\n",
    "\n",
    "        print(\"nodo actual:\",nodo)\n",
    "        print(\"hijos: \",[str(char) for char in nodo.conexiones])\n",
    "        print(\"visitados:\", [str(char) for char in visitados])\n",
    "        \n",
    "        for hijo in nodo.conexiones:\n",
    "            #se ejecuta para los hijos con la lista actualizada\n",
    "            recorrer_dfs(hijo, visitados)\n",
    "    else:\n",
    "        print(f\"el nodo {nodo} ya se visitó anteriormente\")"
   ]
  },
  {
   "cell_type": "code",
   "execution_count": 405,
   "metadata": {},
   "outputs": [
    {
     "name": "stdout",
     "output_type": "stream",
     "text": [
      "nodo actual: Nodo(P001)\n",
      "hijos:  ['Nodo(P002)', 'Nodo(P003)', 'Nodo(P210)']\n",
      "visitados: ['Nodo(P001)']\n",
      "nodo actual: Nodo(P002)\n",
      "hijos:  ['Nodo(P003)', 'Nodo(P005)']\n",
      "visitados: ['Nodo(P001)', 'Nodo(P002)']\n",
      "nodo actual: Nodo(P003)\n",
      "hijos:  ['Nodo(P004)', 'Nodo(P102)']\n",
      "visitados: ['Nodo(P001)', 'Nodo(P002)', 'Nodo(P003)']\n",
      "nodo actual: Nodo(P004)\n",
      "hijos:  ['Nodo(P005)']\n",
      "visitados: ['Nodo(P001)', 'Nodo(P002)', 'Nodo(P003)', 'Nodo(P004)']\n",
      "nodo actual: Nodo(P005)\n",
      "hijos:  ['Nodo(P006)', 'Nodo(P101)']\n",
      "visitados: ['Nodo(P001)', 'Nodo(P002)', 'Nodo(P003)', 'Nodo(P004)', 'Nodo(P005)']\n",
      "nodo actual: Nodo(P006)\n",
      "hijos:  ['Nodo(P007)']\n",
      "visitados: ['Nodo(P001)', 'Nodo(P002)', 'Nodo(P003)', 'Nodo(P004)', 'Nodo(P005)', 'Nodo(P006)']\n",
      "nodo actual: Nodo(P007)\n",
      "hijos:  []\n",
      "visitados: ['Nodo(P001)', 'Nodo(P002)', 'Nodo(P003)', 'Nodo(P004)', 'Nodo(P005)', 'Nodo(P006)', 'Nodo(P007)']\n",
      "nodo actual: Nodo(P101)\n",
      "hijos:  ['Nodo(P102)', 'Nodo(P501)']\n",
      "visitados: ['Nodo(P001)', 'Nodo(P002)', 'Nodo(P003)', 'Nodo(P004)', 'Nodo(P005)', 'Nodo(P006)', 'Nodo(P007)', 'Nodo(P101)']\n",
      "nodo actual: Nodo(P102)\n",
      "hijos:  ['Nodo(P302)', 'Nodo(P103)']\n",
      "visitados: ['Nodo(P001)', 'Nodo(P002)', 'Nodo(P003)', 'Nodo(P004)', 'Nodo(P005)', 'Nodo(P006)', 'Nodo(P007)', 'Nodo(P101)', 'Nodo(P102)']\n",
      "nodo actual: Nodo(P302)\n",
      "hijos:  []\n",
      "visitados: ['Nodo(P001)', 'Nodo(P002)', 'Nodo(P003)', 'Nodo(P004)', 'Nodo(P005)', 'Nodo(P006)', 'Nodo(P007)', 'Nodo(P101)', 'Nodo(P102)', 'Nodo(P302)']\n",
      "nodo actual: Nodo(P103)\n",
      "hijos:  ['Nodo(P001)']\n",
      "visitados: ['Nodo(P001)', 'Nodo(P002)', 'Nodo(P003)', 'Nodo(P004)', 'Nodo(P005)', 'Nodo(P006)', 'Nodo(P007)', 'Nodo(P101)', 'Nodo(P102)', 'Nodo(P302)', 'Nodo(P103)']\n",
      "el nodo Nodo(P001) ya se visitó anteriormente\n",
      "nodo actual: Nodo(P501)\n",
      "hijos:  ['Nodo(P502)']\n",
      "visitados: ['Nodo(P001)', 'Nodo(P002)', 'Nodo(P003)', 'Nodo(P004)', 'Nodo(P005)', 'Nodo(P006)', 'Nodo(P007)', 'Nodo(P101)', 'Nodo(P102)', 'Nodo(P302)', 'Nodo(P103)', 'Nodo(P501)']\n",
      "nodo actual: Nodo(P502)\n",
      "hijos:  ['Nodo(P006)']\n",
      "visitados: ['Nodo(P001)', 'Nodo(P002)', 'Nodo(P003)', 'Nodo(P004)', 'Nodo(P005)', 'Nodo(P006)', 'Nodo(P007)', 'Nodo(P101)', 'Nodo(P102)', 'Nodo(P302)', 'Nodo(P103)', 'Nodo(P501)', 'Nodo(P502)']\n",
      "el nodo Nodo(P006) ya se visitó anteriormente\n",
      "el nodo Nodo(P102) ya se visitó anteriormente\n",
      "el nodo Nodo(P005) ya se visitó anteriormente\n",
      "el nodo Nodo(P003) ya se visitó anteriormente\n",
      "nodo actual: Nodo(P210)\n",
      "hijos:  ['Nodo(P211)']\n",
      "visitados: ['Nodo(P001)', 'Nodo(P002)', 'Nodo(P003)', 'Nodo(P004)', 'Nodo(P005)', 'Nodo(P006)', 'Nodo(P007)', 'Nodo(P101)', 'Nodo(P102)', 'Nodo(P302)', 'Nodo(P103)', 'Nodo(P501)', 'Nodo(P502)', 'Nodo(P210)']\n",
      "nodo actual: Nodo(P211)\n",
      "hijos:  ['Nodo(P212)', 'Nodo(P213)', 'Nodo(P003)']\n",
      "visitados: ['Nodo(P001)', 'Nodo(P002)', 'Nodo(P003)', 'Nodo(P004)', 'Nodo(P005)', 'Nodo(P006)', 'Nodo(P007)', 'Nodo(P101)', 'Nodo(P102)', 'Nodo(P302)', 'Nodo(P103)', 'Nodo(P501)', 'Nodo(P502)', 'Nodo(P210)', 'Nodo(P211)']\n",
      "nodo actual: Nodo(P212)\n",
      "hijos:  ['Nodo(P213)']\n",
      "visitados: ['Nodo(P001)', 'Nodo(P002)', 'Nodo(P003)', 'Nodo(P004)', 'Nodo(P005)', 'Nodo(P006)', 'Nodo(P007)', 'Nodo(P101)', 'Nodo(P102)', 'Nodo(P302)', 'Nodo(P103)', 'Nodo(P501)', 'Nodo(P502)', 'Nodo(P210)', 'Nodo(P211)', 'Nodo(P212)']\n",
      "nodo actual: Nodo(P213)\n",
      "hijos:  ['Nodo(P007)']\n",
      "visitados: ['Nodo(P001)', 'Nodo(P002)', 'Nodo(P003)', 'Nodo(P004)', 'Nodo(P005)', 'Nodo(P006)', 'Nodo(P007)', 'Nodo(P101)', 'Nodo(P102)', 'Nodo(P302)', 'Nodo(P103)', 'Nodo(P501)', 'Nodo(P502)', 'Nodo(P210)', 'Nodo(P211)', 'Nodo(P212)', 'Nodo(P213)']\n",
      "el nodo Nodo(P007) ya se visitó anteriormente\n",
      "el nodo Nodo(P213) ya se visitó anteriormente\n",
      "el nodo Nodo(P003) ya se visitó anteriormente\n"
     ]
    }
   ],
   "source": [
    "recorrer_dfs(list(grafo.nodos.values())[0])"
   ]
  },
  {
   "cell_type": "markdown",
   "metadata": {
    "slideshow": {
     "slide_type": "slide"
    }
   },
   "source": [
    "## A jugar!!"
   ]
  },
  {
   "cell_type": "code",
   "execution_count": 406,
   "metadata": {
    "slideshow": {
     "slide_type": "subslide"
    }
   },
   "outputs": [],
   "source": [
    "grafo = leer_archivos(\"nodos.txt\", \"conexiones.txt\")"
   ]
  },
  {
   "cell_type": "code",
   "execution_count": 407,
   "metadata": {
    "scrolled": false,
    "slideshow": {
     "slide_type": "subslide"
    }
   },
   "outputs": [
    {
     "data": {
      "text/plain": [
       "True"
      ]
     },
     "execution_count": 407,
     "metadata": {},
     "output_type": "execute_result"
    }
   ],
   "source": [
    "grafo.hay_ruta(\"P001\",\"P502\")"
   ]
  },
  {
   "cell_type": "code",
   "execution_count": 408,
   "metadata": {
    "slideshow": {
     "slide_type": "subslide"
    }
   },
   "outputs": [
    {
     "name": "stdout",
     "output_type": "stream",
     "text": [
      "Nodo(P001) -> Nodo(P002) -> Nodo(P003) -> Nodo(P004) -> Nodo(P005) -> Nodo(P101) -> Nodo(P501) -> Nodo(P502)\n"
     ]
    }
   ],
   "source": [
    "ruta = grafo.ruta(\"P001\",\"P502\")\n",
    "print(\" -> \".join(str(n) for n in ruta))"
   ]
  },
  {
   "cell_type": "code",
   "execution_count": 409,
   "metadata": {},
   "outputs": [
    {
     "data": {
      "text/plain": [
       "True"
      ]
     },
     "execution_count": 409,
     "metadata": {},
     "output_type": "execute_result"
    }
   ],
   "source": [
    "grafo.hay_ruta(\"P001\",\"P502\")"
   ]
  },
  {
   "cell_type": "code",
   "execution_count": 410,
   "metadata": {},
   "outputs": [
    {
     "name": "stdout",
     "output_type": "stream",
     "text": [
      "Nodo(P001) -> Nodo(P002)\n"
     ]
    }
   ],
   "source": [
    "ruta = grafo.ruta(\"P001\",\"P002\", set())\n",
    "print(\" -> \".join(str(n) for n in ruta))"
   ]
  },
  {
   "cell_type": "markdown",
   "metadata": {
    "slideshow": {
     "slide_type": "slide"
    }
   },
   "source": [
    "### Propuesto 😏: Ruta más corta"
   ]
  },
  {
   "cell_type": "markdown",
   "metadata": {
    "slideshow": {
     "slide_type": "notes"
    }
   },
   "source": [
    "Para entontrar la ruta mas corta, primero se define una funcion auxiliar `ruta_rec` que nos entregue todas las rutas posibles desde A hasta B."
   ]
  },
  {
   "cell_type": "code",
   "execution_count": 411,
   "metadata": {
    "slideshow": {
     "slide_type": "subslide"
    }
   },
   "outputs": [],
   "source": [
    "def ruta_rec(grafo, nodo_A, nodo_B, visitados = set()):\n",
    "    nodo = grafo.nodos[nodo_A]\n",
    "        \n",
    "    rutas = [] # Aquí rutas, es una lista que contendrá a todas las posibles rutas, donde cada una será otra lista.\n",
    "        \n",
    "    if nodo.codigo == nodo_B:\n",
    "        \n",
    "        rutas.append([nodo]) # Caso base, si el nodo actual es el destino agregamos la ruta y retornamos la lista.\n",
    "        \n",
    "        return rutas\n",
    "    \n",
    "    visitados.add(nodo)\n",
    "    \n",
    "    for hijo in nodo.conexiones:\n",
    "        if hijo not in visitados:\n",
    "            \n",
    "            r_hijo = ruta_rec(grafo, hijo.codigo, nodo_B, visitados.copy()) # VER NOTA ABAJO\n",
    "            # Al igual que antes rutas_rec siempre retorna una lista\n",
    "            \n",
    "            for ruta in r_hijo: #Ya que esta vez lo retornado es una lista de listas, recorremos cada ruta\n",
    "                ruta.insert(0, nodo) #Agregamos el nodo actual a la ruta\n",
    "                \n",
    "                rutas.append(ruta) #agregamos esta ruta a las rutas locales\n",
    "                    \n",
    "    return rutas"
   ]
  },
  {
   "cell_type": "code",
   "execution_count": 416,
   "metadata": {},
   "outputs": [
    {
     "name": "stdout",
     "output_type": "stream",
     "text": [
      "Nodo(P001) -> Nodo(P002) -> Nodo(P003) -> Nodo(P004) -> Nodo(P005) -> Nodo(P101) -> Nodo(P501) -> Nodo(P502)\n",
      "Nodo(P001) -> Nodo(P002) -> Nodo(P005) -> Nodo(P101) -> Nodo(P501) -> Nodo(P502)\n",
      "Nodo(P001) -> Nodo(P003) -> Nodo(P004) -> Nodo(P005) -> Nodo(P101) -> Nodo(P501) -> Nodo(P502)\n",
      "Nodo(P001) -> Nodo(P210) -> Nodo(P211) -> Nodo(P003) -> Nodo(P004) -> Nodo(P005) -> Nodo(P101) -> Nodo(P501) -> Nodo(P502)\n"
     ]
    }
   ],
   "source": [
    "rutas = ruta_rec(grafo, \"P001\", \"P502\")\n",
    "\n",
    "for ruta in rutas:\n",
    "    print(\" -> \".join(str(n) for n in ruta))"
   ]
  },
  {
   "cell_type": "markdown",
   "metadata": {
    "slideshow": {
     "slide_type": "notes"
    }
   },
   "source": [
    "**NOTA:**\n",
    "\n",
    "Esta vez se agrega una copia de visitados, ya que queremos todas las rutas desde este punto y eso puede significar que por cada hijo podriamos pasar por un mismo nodo, pero no queremos pasar por uno que nuestos padres hayan visitados para no formar ciclos.\n",
    "\n",
    "De esta forma se da independencia de visitados futuros a cada hijo, manteniendo los mismos visitados hasta ese punto."
   ]
  },
  {
   "cell_type": "code",
   "execution_count": 413,
   "metadata": {
    "slideshow": {
     "slide_type": "subslide"
    }
   },
   "outputs": [],
   "source": [
    "def ruta_mas_corta(grafo, nodo_A, nodo_B):\n",
    "    rutas = ruta_rec(grafo, nodo_A, nodo_B)\n",
    "    \n",
    "    rutas.sort(key = lambda ruta: len(ruta)) # Solo se ordenan las rutas por largo.\n",
    "    \n",
    "    return rutas[0]"
   ]
  },
  {
   "cell_type": "markdown",
   "metadata": {
    "slideshow": {
     "slide_type": "notes"
    }
   },
   "source": [
    "Luego `ruta_mas_corta` ordena estas rutas y encuentra la de menor largo. Puede ocurrir que hayan más de una \"ruta más corta\" pero tomaremos la primera."
   ]
  },
  {
   "cell_type": "code",
   "execution_count": 414,
   "metadata": {},
   "outputs": [
    {
     "name": "stdout",
     "output_type": "stream",
     "text": [
      "Nodo(P001) -> Nodo(P002) -> Nodo(P005) -> Nodo(P101) -> Nodo(P501) -> Nodo(P502)\n"
     ]
    }
   ],
   "source": [
    "ruta = ruta_mas_corta(grafo, \"P001\", \"P502\")\n",
    "print(\" -> \".join(str(n) for n in ruta))"
   ]
  },
  {
   "cell_type": "markdown",
   "metadata": {
    "slideshow": {
     "slide_type": "slide"
    }
   },
   "source": [
    "### Listo!  ahora debrías poder llegar a casa sin problemas"
   ]
  }
 ],
 "metadata": {
  "celltoolbar": "Slideshow",
  "kernelspec": {
   "display_name": "Python 3",
   "language": "python",
   "name": "python3"
  },
  "language_info": {
   "codemirror_mode": {
    "name": "ipython",
    "version": 3
   },
   "file_extension": ".py",
   "mimetype": "text/x-python",
   "name": "python",
   "nbconvert_exporter": "python",
   "pygments_lexer": "ipython3",
   "version": "3.10.10"
  }
 },
 "nbformat": 4,
 "nbformat_minor": 2
}
