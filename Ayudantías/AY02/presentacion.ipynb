{
 "cells": [
  {
   "cell_type": "markdown",
   "metadata": {
    "slideshow": {
     "slide_type": "slide"
    }
   },
   "source": [
    "# **Ayudantía 2: OOP-2** 🪅"
   ]
  },
  {
   "cell_type": "markdown",
   "metadata": {
    "slideshow": {
     "slide_type": "slide"
    }
   },
   "source": [
    "# Polimorfismo\n",
    "\n",
    "El **polimorfismo** se refiere a \"la propiedad por la que es posible enviar mensajes sintácticamente iguales a objetos de tipos distintos\" ([Wikipedia](https://es.wikipedia.org/wiki/Polimorfismo_(inform%C3%A1tica), 2017)). Básicamente se trata de utilizar objetos de distinto tipo con la misma *interfaz*."
   ]
  },
  {
   "cell_type": "markdown",
   "metadata": {
    "slideshow": {
     "slide_type": "slide"
    }
   },
   "source": [
    "Dos mecanismo para proveer polimorfismo son _overriding_ y _overloading_."
   ]
  },
  {
   "cell_type": "markdown",
   "metadata": {
    "slideshow": {
     "slide_type": "slide"
    }
   },
   "source": [
    "### Overriding\n",
    "\n",
    "Ocurre cuando se implementa un método en una subclase que sobreescribe la implementación del mismo método en la super clase. Como por ejemplo:"
   ]
  },
  {
   "cell_type": "code",
   "execution_count": 1,
   "metadata": {
    "slideshow": {
     "slide_type": "slide"
    }
   },
   "outputs": [],
   "source": [
    "class Empleado:\n",
    "    def __init__(self, nombre, sueldo):\n",
    "        self.nombre = nombre\n",
    "        self.sueldo = sueldo\n",
    "        \n",
    "    def recibir_sueldo(self):\n",
    "        print(f\"{self.nombre} ha recibido: {self.sueldo}\\n\")\n",
    "\n",
    "class EmpleadoMcDonalds(Empleado):\n",
    "    def __init__(self, nombre, sueldo, reaccion):\n",
    "        super().__init__(nombre, sueldo)\n",
    "        self.reaccion = reaccion\n",
    "    \n",
    "    def recibir_sueldo(self):\n",
    "        print(f\"{self.nombre} ha recibido: {self.sueldo}\\nSu reacción fue: {self.reaccion}\")"
   ]
  },
  {
   "cell_type": "code",
   "execution_count": 2,
   "metadata": {
    "slideshow": {
     "slide_type": "slide"
    }
   },
   "outputs": [
    {
     "name": "stdout",
     "output_type": "stream",
     "text": [
      "Taylor Swift ha recibido: 100000000\n",
      "\n",
      "Taylor Swift ha recibido: 1000\n",
      "Su reacción fue: No me pagan lo suficiente :(\n"
     ]
    }
   ],
   "source": [
    "empleado = Empleado('Taylor Swift', 100000000)\n",
    "empleado_mc = EmpleadoMcDonalds('Taylor Swift', 1000, 'No me pagan lo suficiente :(')\n",
    "\n",
    "empleado.recibir_sueldo()\n",
    "empleado_mc.recibir_sueldo()"
   ]
  },
  {
   "cell_type": "markdown",
   "metadata": {
    "slideshow": {
     "slide_type": "slide"
    }
   },
   "source": [
    "### Overloading\n",
    "\n",
    "Es la capacidad de definir un método con el mismo nombre pero con distinto número y tipo de argumentos. Es la capacidad de una función de ejecutar distintas acciones dependiendo del tipo y número de argumentos que recibe. "
   ]
  },
  {
   "cell_type": "markdown",
   "metadata": {
    "slideshow": {
     "slide_type": "slide"
    }
   },
   "source": [
    "Un ejemplo de esto es la funcion `print()`el cual puede recibir como argumento cualquier objeto y esta le da la instruccion de imprimirse en pantalla."
   ]
  },
  {
   "cell_type": "code",
   "execution_count": 3,
   "metadata": {
    "slideshow": {
     "slide_type": "slide"
    }
   },
   "outputs": [
    {
     "name": "stdout",
     "output_type": "stream",
     "text": [
      "string de caracteres\n",
      "['lista', 'de', 'caracteres']\n",
      "('tupla', 'de', 'caracteres')\n"
     ]
    }
   ],
   "source": [
    "cadena = \"string de caracteres\"\n",
    "lista = [\"lista\", \"de\", \"caracteres\"]\n",
    "tupla = (\"tupla\", \"de\", \"caracteres\")\n",
    "\n",
    "print(cadena)\n",
    "print(lista)\n",
    "print(tupla)"
   ]
  },
  {
   "cell_type": "markdown",
   "metadata": {
    "slideshow": {
     "slide_type": "slide"
    }
   },
   "source": [
    "Sin embargo Python no soporta _function overloading_, es decir no se puede definir la función más de una vez con distintos tipos y números de argumentos y esperar que ambas definiciones sean consideradas por el programa (como los ejemplos anteriores). Sin embargo, se puede \"simular\" usando algunos parámetros con valores por defecto (`kwargs`) o número de argumentos variables."
   ]
  },
  {
   "cell_type": "code",
   "execution_count": 4,
   "metadata": {
    "slideshow": {
     "slide_type": "slide"
    }
   },
   "outputs": [
    {
     "name": "stdout",
     "output_type": "stream",
     "text": [
      "Martina Stoessel \n",
      "Harry Edward Styles\n"
     ]
    }
   ],
   "source": [
    "def nombre(nombre, apellido, segundo_apellido = \"\"):\n",
    "  return f\"{nombre} {apellido} {segundo_apellido}\"\n",
    "\n",
    "\n",
    "print(nombre(\"Martina\", \"Stoessel\"))\n",
    "print(nombre(\"Harry\", \"Edward\", \"Styles\"))"
   ]
  },
  {
   "cell_type": "markdown",
   "metadata": {
    "slideshow": {
     "slide_type": "slide"
    }
   },
   "source": [
    "# Repaso Herencia\n",
    "\n",
    "En clases y en la ayudantía pasada, se vió la relación de herencia entre clases. En esta relación, una clase hereda atributos y métodos de otra. Decimos entonces que la que hereda es una subclase, y la otra es una superclase. La subclase posee todos los atributos y métodos de la superclase, pero además tiene sus propios métodos y atributos específicos. El concepto de herencia nos permite aprovechar (reutilizar) código de las clases de las cuales se hereda."
   ]
  },
  {
   "cell_type": "markdown",
   "metadata": {
    "slideshow": {
     "slide_type": "slide"
    }
   },
   "source": [
    "### Ejemplo Herencia\n",
    "\n",
    "Veamos el siguiente ejemplo:"
   ]
  },
  {
   "cell_type": "code",
   "execution_count": 4,
   "metadata": {
    "slideshow": {
     "slide_type": "slide"
    }
   },
   "outputs": [],
   "source": [
    "class Humano:\n",
    "    \n",
    "    def __init__(self, nombre, edad, peso): \n",
    "        self.nombre = nombre                                    \n",
    "        self.edad = edad\n",
    "        self.peso = peso\n",
    "        self.vivo = True\n",
    "\n",
    "    def ir_al_baño(self):\n",
    "        self.peso -= 2\n",
    "        print(f\"{self.nombre} hizo del 2 y ahora pesa {self.peso} kg\")\n",
    "\n",
    "    def cumpleaños(self):\n",
    "        self.edad += 1\n",
    "        print(f\"Es el cumpleaños de {self.nombre} y cumple {self.edad} años\")"
   ]
  },
  {
   "cell_type": "code",
   "execution_count": 5,
   "metadata": {
    "slideshow": {
     "slide_type": "slide"
    }
   },
   "outputs": [],
   "source": [
    "class Estudiante(Humano):\n",
    "    def __init__(self, nombre, edad, peso, nota, generacion):\n",
    "        Humano.__init__(self, nombre, edad, peso)\n",
    "        self.nota = nota\n",
    "        self.generacion = generacion\n",
    "\n",
    "    def agregar_decima_a_nota(self, decimas):\n",
    "        self.nota += decimas / 10\n",
    "        print(f\"Nota queda en {self.nota}\")"
   ]
  },
  {
   "cell_type": "code",
   "execution_count": 6,
   "metadata": {
    "slideshow": {
     "slide_type": "slide"
    }
   },
   "outputs": [
    {
     "name": "stdout",
     "output_type": "stream",
     "text": [
      "Pepe hizo del 2 y ahora pesa 78 kg\n",
      "Es el cumpleaños de Pepe y cumple 24 años\n",
      "Nota queda en 6.0\n"
     ]
    }
   ],
   "source": [
    "estudiante_1  = Estudiante(\"Pepe\", 23, 80, 5.5, 2020)\n",
    "estudiante_1.ir_al_baño()\n",
    "estudiante_1.cumpleaños()\n",
    "estudiante_1.agregar_decima_a_nota(5)"
   ]
  },
  {
   "cell_type": "markdown",
   "metadata": {
    "slideshow": {
     "slide_type": "slide"
    }
   },
   "source": [
    "En el ejemplo anterior, la clase Estudiante heredó los métodos de la clase Humano, y además se le agregó su propio método de agregar_decima_a_nota."
   ]
  },
  {
   "cell_type": "markdown",
   "metadata": {
    "slideshow": {
     "slide_type": "slide"
    }
   },
   "source": [
    "# Multiherencia\n",
    "\n",
    "\n",
    "Con multiherencia es posible crear clases que heredan de más de una clase 😱"
   ]
  },
  {
   "cell_type": "markdown",
   "metadata": {
    "slideshow": {
     "slide_type": "slide"
    }
   },
   "source": [
    "### Veamos un ejemplo 👀\n",
    "Supongamos una clase Artista que representa a una persona que trabaja en el área del espectáculo. Dentro del rubro podemos encontrar a un Cantante, un Actor o un Bailarin, los cuales haremos que hereden de la clase Artista:"
   ]
  },
  {
   "cell_type": "code",
   "execution_count": 4,
   "metadata": {
    "slideshow": {
     "slide_type": "slide"
    }
   },
   "outputs": [],
   "source": [
    "class Artista():\n",
    "\n",
    "    def __init__(self, nombre, tiempo):\n",
    "        self.nombre = nombre\n",
    "        self.tiempo_carrera = tiempo\n",
    "    \n",
    "    def presentacion(self):\n",
    "        print(f\"Hola! Me llamo {self.nombre} y llevo {self.tiempo_carrera} años de carrera como artista.\")"
   ]
  },
  {
   "cell_type": "code",
   "execution_count": 5,
   "metadata": {
    "slideshow": {
     "slide_type": "slide"
    }
   },
   "outputs": [],
   "source": [
    "class Cantante(Artista):\n",
    "\n",
    "    def __init__(self, nombre, tiempo, musica, numero_albumes):\n",
    "        super().__init__(nombre,tiempo)\n",
    "        self.estilo_musica = musica\n",
    "        self.albumes = numero_albumes\n",
    "        \n",
    "    def presentacion(self):\n",
    "        Artista.presentacion(self)\n",
    "        print(f'Soy cantante de {self.estilo_musica} y he grabado {self.albumes} albumes.')\n"
   ]
  },
  {
   "cell_type": "code",
   "execution_count": 6,
   "metadata": {
    "slideshow": {
     "slide_type": "slide"
    }
   },
   "outputs": [],
   "source": [
    "class Bailarin(Artista):\n",
    "\n",
    "    def __init__(self, nombre, tiempo, estilo):\n",
    "        super().__init__(nombre, tiempo)\n",
    "        self.estilo_baile = estilo\n",
    "        self.horas_entrenamiento = 5\n",
    "    \n",
    "    def presentacion(self):\n",
    "        Artista.presentacion(self)\n",
    "        print(f'Soy bailarin de {self.estilo_baile} y entreno {self.horas_entrenamiento} horas al día.')"
   ]
  },
  {
   "cell_type": "code",
   "execution_count": 7,
   "metadata": {
    "slideshow": {
     "slide_type": "slide"
    }
   },
   "outputs": [],
   "source": [
    "class Actor(Artista):\n",
    "\n",
    "    def __init__(self, nombre, tiempo, numero_peliculas, numero_series):\n",
    "        super().__init__(nombre, tiempo)\n",
    "        self.peliculas = numero_peliculas\n",
    "        self.series = numero_series\n",
    "    \n",
    "    def presentacion(self):\n",
    "        Artista.presentacion(self)\n",
    "        print(f'Soy actor, he salido en {self.peliculas} peliculas y {self.series} series.')"
   ]
  },
  {
   "cell_type": "markdown",
   "metadata": {
    "slideshow": {
     "slide_type": "subslide"
    }
   },
   "source": [
    "Ahora nuestro artista favorito puede hacerse famoso y comenzar a ganar premios😎 Creamos la clase Famoso que hereda de Cantante, Bailarin y Actor (porque obvio, las hace todas):"
   ]
  },
  {
   "cell_type": "code",
   "execution_count": 8,
   "metadata": {
    "slideshow": {
     "slide_type": "slide"
    }
   },
   "outputs": [],
   "source": [
    "class Famoso(Cantante, Bailarin, Actor):\n",
    "\n",
    "    def __init__(self, premios, nombre, tiempo, musica, albumes, estilo, peliculas, series):\n",
    "        # Solo un llamado, con todos los argumentos que tenemos\n",
    "        super().__init__(nombre, tiempo, musica, albumes, estilo, peliculas, series)\n",
    "        self.premios = premios\n",
    "    \n",
    "    def presentacion(self):\n",
    "        Cantante.presentacion(self)\n",
    "        Bailarin.presentacion(self)\n",
    "        Actor.presentacion(self)\n",
    "        print(f\"He ganado {self.premios} premios.\")"
   ]
  },
  {
   "cell_type": "code",
   "execution_count": 9,
   "metadata": {},
   "outputs": [
    {
     "ename": "TypeError",
     "evalue": "Cantante.__init__() takes 5 positional arguments but 8 were given",
     "output_type": "error",
     "traceback": [
      "\u001b[1;31m---------------------------------------------------------------------------\u001b[0m",
      "\u001b[1;31mTypeError\u001b[0m                                 Traceback (most recent call last)",
      "Cell \u001b[1;32mIn[9], line 1\u001b[0m\n\u001b[1;32m----> 1\u001b[0m famoso \u001b[38;5;241m=\u001b[39m \u001b[43mFamoso\u001b[49m\u001b[43m(\u001b[49m\u001b[38;5;241;43m17\u001b[39;49m\u001b[43m,\u001b[49m\u001b[43m \u001b[49m\u001b[38;5;124;43m\"\u001b[39;49m\u001b[38;5;124;43mChayanne\u001b[39;49m\u001b[38;5;124;43m\"\u001b[39;49m\u001b[43m,\u001b[49m\u001b[43m \u001b[49m\u001b[38;5;241;43m43\u001b[39;49m\u001b[43m,\u001b[49m\u001b[43m \u001b[49m\u001b[38;5;124;43m\"\u001b[39;49m\u001b[38;5;124;43mpop latino\u001b[39;49m\u001b[38;5;124;43m\"\u001b[39;49m\u001b[43m,\u001b[49m\u001b[43m \u001b[49m\u001b[38;5;241;43m22\u001b[39;49m\u001b[43m,\u001b[49m\u001b[43m \u001b[49m\u001b[38;5;124;43m\"\u001b[39;49m\u001b[38;5;124;43mpop\u001b[39;49m\u001b[38;5;124;43m\"\u001b[39;49m\u001b[43m,\u001b[49m\u001b[43m \u001b[49m\u001b[38;5;241;43m4\u001b[39;49m\u001b[43m,\u001b[49m\u001b[43m \u001b[49m\u001b[38;5;241;43m10\u001b[39;49m\u001b[43m)\u001b[49m\n",
      "Cell \u001b[1;32mIn[8], line 5\u001b[0m, in \u001b[0;36mFamoso.__init__\u001b[1;34m(self, premios, nombre, tiempo, musica, albumes, estilo, peliculas, series)\u001b[0m\n\u001b[0;32m      3\u001b[0m \u001b[38;5;28;01mdef\u001b[39;00m \u001b[38;5;21m__init__\u001b[39m(\u001b[38;5;28mself\u001b[39m, premios, nombre, tiempo, musica, albumes, estilo, peliculas, series):\n\u001b[0;32m      4\u001b[0m     \u001b[38;5;66;03m# Solo un llamado, con todos los argumentos que tenemos\u001b[39;00m\n\u001b[1;32m----> 5\u001b[0m     \u001b[38;5;28;43msuper\u001b[39;49m\u001b[43m(\u001b[49m\u001b[43m)\u001b[49m\u001b[38;5;241;43m.\u001b[39;49m\u001b[38;5;21;43m__init__\u001b[39;49m\u001b[43m(\u001b[49m\u001b[43mnombre\u001b[49m\u001b[43m,\u001b[49m\u001b[43m \u001b[49m\u001b[43mtiempo\u001b[49m\u001b[43m,\u001b[49m\u001b[43m \u001b[49m\u001b[43mmusica\u001b[49m\u001b[43m,\u001b[49m\u001b[43m \u001b[49m\u001b[43malbumes\u001b[49m\u001b[43m,\u001b[49m\u001b[43m \u001b[49m\u001b[43mestilo\u001b[49m\u001b[43m,\u001b[49m\u001b[43m \u001b[49m\u001b[43mpeliculas\u001b[49m\u001b[43m,\u001b[49m\u001b[43m \u001b[49m\u001b[43mseries\u001b[49m\u001b[43m)\u001b[49m\n\u001b[0;32m      6\u001b[0m     \u001b[38;5;28mself\u001b[39m\u001b[38;5;241m.\u001b[39mpremios \u001b[38;5;241m=\u001b[39m premios\n",
      "\u001b[1;31mTypeError\u001b[0m: Cantante.__init__() takes 5 positional arguments but 8 were given"
     ]
    }
   ],
   "source": [
    "famoso = Famoso(17, \"Chayanne\", 43, \"pop latino\", 22, \"pop\", 4, 10)"
   ]
  },
  {
   "cell_type": "markdown",
   "metadata": {
    "slideshow": {
     "slide_type": "slide"
    }
   },
   "source": [
    "### Problema 😥\n",
    "Esto sucede porque cuando entregamos los argumentos a un inicializador, se ejecuta el ```__init__``` de la primera clase que hereda, en este caso Cantante que tiene 5 argumentos (porque no debemos olvidar el self), entonces cuando continua con las siguientes clases y sus atributos nos dice que entregamos más argumentos de los necesarios."
   ]
  },
  {
   "cell_type": "markdown",
   "metadata": {
    "slideshow": {
     "slide_type": "slide"
    }
   },
   "source": [
    "### Solución: uso de * args y ** kwargs 🙌\n",
    "\n",
    "* ```*args```: secuencia de argumentos **posicionales** de largo variable (como una lista o tupla). El operador * desempaqueta el contenido de args y los pasa a la función según el orden en que vienen.\n",
    "* ```**kwargs```: secuencia de argumentos de largo variable, donde cada elemento tiene asociado un **keyword** (como un diccionario). El ** mapea los elementos en la función y los argumentos se asignan en función de su keyword."
   ]
  },
  {
   "cell_type": "markdown",
   "metadata": {
    "slideshow": {
     "slide_type": "slide"
    }
   },
   "source": [
    "En esta situación ocuparemos ```**kwargs``` para que cada argumento se entregue a la subclase que corresponda:"
   ]
  },
  {
   "cell_type": "code",
   "execution_count": 12,
   "metadata": {
    "slideshow": {
     "slide_type": "slide"
    }
   },
   "outputs": [],
   "source": [
    "class Artista():\n",
    "\n",
    "    def __init__(self, nombre, tiempo):\n",
    "        self.nombre = nombre\n",
    "        self.tiempo_carrera = tiempo\n",
    "    \n",
    "    def presentacion(self):\n",
    "        print(f\"Hola! Me llamo {self.nombre} y llevo {self.tiempo_carrera} años de carrera como artista.\")"
   ]
  },
  {
   "cell_type": "code",
   "execution_count": 13,
   "metadata": {
    "slideshow": {
     "slide_type": "slide"
    }
   },
   "outputs": [],
   "source": [
    "class Cantante(Artista):\n",
    "\n",
    "    def __init__(self, musica, numero_albumes, **kwargs):\n",
    "        super().__init__(**kwargs)\n",
    "        self.estilo_musica = musica\n",
    "        self.albumes = numero_albumes\n",
    "        \n",
    "    def presentacion(self):\n",
    "        Artista.presentacion(self)\n",
    "        print(f'Soy cantante de {self.estilo_musica} y he grabado {self.albumes} albumes.')\n",
    "\n",
    "        \n",
    "class Bailarin(Artista):\n",
    "\n",
    "    def __init__(self, estilo, **kwargs):\n",
    "        super().__init__(**kwargs)\n",
    "        self.estilo_baile = estilo\n",
    "        self.horas_entrenamiento = 5\n",
    "    \n",
    "    def presentacion(self):\n",
    "        Artista.presentacion(self)\n",
    "        print(f'Soy bailarin de {self.estilo_baile} y entreno {self.horas_entrenamiento} horas al día.')\n",
    "\n",
    "        \n",
    "class Actor(Artista):\n",
    "\n",
    "    def __init__(self, numero_peliculas, numero_series, **kwargs):\n",
    "        super().__init__(**kwargs)\n",
    "        self.peliculas = numero_peliculas\n",
    "        self.series = numero_series\n",
    "    \n",
    "    def presentacion(self):\n",
    "        Artista.presentacion(self)\n",
    "        print(f'Soy actor, he salido en {self.peliculas} peliculas y {self.series} series.')"
   ]
  },
  {
   "cell_type": "code",
   "execution_count": 14,
   "metadata": {
    "slideshow": {
     "slide_type": "slide"
    }
   },
   "outputs": [],
   "source": [
    "class Famoso(Cantante, Bailarin, Actor):\n",
    "\n",
    "    def __init__(self, premios, **kwargs):\n",
    "        # Solo un llamado, con todos los argumentos de las clases anteriores\n",
    "        super().__init__(**kwargs)\n",
    "        self.premios = premios\n",
    "    \n",
    "    def presentacion(self):\n",
    "        Cantante.presentacion(self)\n",
    "        Bailarin.presentacion(self)\n",
    "        Actor.presentacion(self)\n",
    "        print(f\"He ganado {self.premios} premios.\")"
   ]
  },
  {
   "cell_type": "code",
   "execution_count": 15,
   "metadata": {
    "slideshow": {
     "slide_type": "-"
    }
   },
   "outputs": [],
   "source": [
    "famoso = Famoso(\n",
    "    17, nombre=\"Chayanne\", tiempo=43, musica=\"pop latino\", numero_albumes=22,\n",
    "    estilo=\"pop\", numero_peliculas=4, numero_series=10\n",
    "    )"
   ]
  },
  {
   "cell_type": "markdown",
   "metadata": {
    "slideshow": {
     "slide_type": "slide"
    }
   },
   "source": [
    "¡Super! Ahora hagamos que el famoso se presente (finjamos que no sabemos quien es chayanne)"
   ]
  },
  {
   "cell_type": "code",
   "execution_count": 16,
   "metadata": {
    "slideshow": {
     "slide_type": "slide"
    }
   },
   "outputs": [
    {
     "name": "stdout",
     "output_type": "stream",
     "text": [
      "Hola! Me llamo Chayanne y llevo 43 años de carrera como artista.\n",
      "Soy cantante de pop latino y he grabado 22 albumes.\n",
      "Hola! Me llamo Chayanne y llevo 43 años de carrera como artista.\n",
      "Soy bailarin de pop y entreno 5 horas al día.\n",
      "Hola! Me llamo Chayanne y llevo 43 años de carrera como artista.\n",
      "Soy actor, he salido en 4 peliculas y 10 series.\n",
      "He ganado 17 premios.\n"
     ]
    }
   ],
   "source": [
    "famoso.presentacion()"
   ]
  },
  {
   "cell_type": "markdown",
   "metadata": {
    "slideshow": {
     "slide_type": "slide"
    }
   },
   "source": [
    "### ¡Problema del diamante! 😨\n",
    "\n",
    "Como podemos observar, el método presentación que está en Artista es llamado 3 veces, cada uno hecho por las subclases Cantante, Bailarín y Actor."
   ]
  },
  {
   "cell_type": "markdown",
   "metadata": {
    "slideshow": {
     "slide_type": "slide"
    }
   },
   "source": [
    "### Solución 🙌\n",
    "Nuestro prolema se soluciona ocupando ```super()``` de python. Veamos:"
   ]
  },
  {
   "cell_type": "code",
   "execution_count": 17,
   "metadata": {
    "slideshow": {
     "slide_type": "slide"
    }
   },
   "outputs": [],
   "source": [
    "class Cantante(Artista):\n",
    "\n",
    "    def __init__(self, musica, numero_albumes, **kwargs):\n",
    "        super().__init__(**kwargs)\n",
    "        self.estilo_musica = musica\n",
    "        self.albumes = numero_albumes\n",
    "        \n",
    "    def presentacion(self):\n",
    "        super().presentacion() # before was Artista.presetacion(self)\n",
    "        print(f'Soy cantante de {self.estilo_musica} y he grabado {self.albumes} albumes.')\n",
    "\n",
    "class Bailarin(Artista):\n",
    "\n",
    "    def __init__(self, estilo, **kwargs):\n",
    "        super().__init__(**kwargs)\n",
    "        self.estilo_baile = estilo\n",
    "        self.horas_entrenamiento = 5\n",
    "    \n",
    "    def presentacion(self):\n",
    "        super().presentacion()\n",
    "        print(f'Soy bailarin de {self.estilo_baile} y entreno {self.horas_entrenamiento} horas al día.')\n",
    "\n",
    "class Actor(Artista):\n",
    "\n",
    "    def __init__(self, numero_peliculas, numero_series, **kwargs):\n",
    "        super().__init__(**kwargs)\n",
    "        self.peliculas = numero_peliculas\n",
    "        self.series = numero_series\n",
    "    \n",
    "    def presentacion(self):\n",
    "        super().presentacion()\n",
    "        print(f'Soy actor, he salido en {self.peliculas} peliculas y {self.series} series.')"
   ]
  },
  {
   "cell_type": "code",
   "execution_count": 18,
   "metadata": {
    "slideshow": {
     "slide_type": "slide"
    }
   },
   "outputs": [
    {
     "name": "stdout",
     "output_type": "stream",
     "text": [
      "Hola! Me llamo Chayanne y llevo 43 años de carrera como artista.\n",
      "Soy actor, he salido en 4 peliculas y 10 series.\n",
      "Soy bailarin de pop y entreno 5 horas al día.\n",
      "Soy cantante de pop latino y he grabado 22 albumes.\n",
      "He ganado 17 premios.\n"
     ]
    }
   ],
   "source": [
    "class Famoso(Cantante, Bailarin, Actor):\n",
    "\n",
    "    def __init__(self, premios, **kwargs):\n",
    "        # Solo un llamado, con todos los argumentos de las clases anteriores\n",
    "        super().__init__(**kwargs)\n",
    "        self.premios = premios\n",
    "    \n",
    "    def presentacion(self):\n",
    "        super().presentacion() # acá tambien esta super, antes llamaba cada uno de los métodos de las clases hijas\n",
    "        print(f\"He ganado {self.premios} premios.\")\n",
    "\n",
    "famoso = Famoso(\n",
    "    17, nombre=\"Chayanne\", tiempo=43, musica=\"pop latino\", numero_albumes=22,\n",
    "    estilo=\"pop\", numero_peliculas=4, numero_series=10\n",
    "    )\n",
    "\n",
    "\n",
    "famoso.presentacion()"
   ]
  },
  {
   "cell_type": "markdown",
   "metadata": {
    "slideshow": {
     "slide_type": "slide"
    }
   },
   "source": [
    "# Clases abstractas"
   ]
  },
  {
   "cell_type": "markdown",
   "metadata": {
    "slideshow": {
     "slide_type": "slide"
    }
   },
   "source": [
    "## ¿Qué son?\n",
    "\n",
    "Son clases que **no pueden ser instanciadas** y tienen como propósito modelar el comportamiento base de un sistema, para luego ser heredadas por clases específicas.\n",
    "\n",
    "La gran diferencia entre heredar desde una clase normal y una clase abstracta\n",
    "es que esta última puede definir **métodos y propiedades que obligatioriamente deben implementar sus clases hijas**.\n",
    "Estos se llaman ***abstractmethod*** y ***abstractproperty***. "
   ]
  },
  {
   "cell_type": "markdown",
   "metadata": {
    "slideshow": {
     "slide_type": "slide"
    }
   },
   "source": [
    "## ¿Cuándo usarlas?\n",
    "\n",
    "El mejor uso para una clase abstracta es para definir el comportamiento base de una familia de clases que comparten cierta lógica en sus atributos y métodos. La clase abstracta actúa como un \"plano\", que contiene todas las características en común de esta familia de clases. Al utilizar clases abstractas, se reduce el *boilerplate* (código repetitivo), se facilita la refactorización de las clases y permite realizar cambios sin romper la implementación actual del sistema."
   ]
  },
  {
   "cell_type": "markdown",
   "metadata": {
    "slideshow": {
     "slide_type": "slide"
    }
   },
   "source": [
    "## ¿Cómo creo clases abstractas?\n",
    "\n",
    "Aquí veremos unos ejemplos :)"
   ]
  },
  {
   "cell_type": "markdown",
   "metadata": {
    "slideshow": {
     "slide_type": "slide"
    }
   },
   "source": [
    "<img src=\"img/Amongus.png\" width=\"700\">"
   ]
  },
  {
   "cell_type": "code",
   "execution_count": 18,
   "metadata": {
    "slideshow": {
     "slide_type": "slide"
    }
   },
   "outputs": [],
   "source": [
    "from abc import ABC, abstractmethod\n",
    "from secrets import choice\n",
    "\n",
    "\n",
    "class Personaje(ABC):\n",
    "    def __init__(self,nombre, color, tareas):\n",
    "        self.color = color #str\n",
    "        self.tareas = tareas #list (tarea,lugar)\n",
    "        self.nombre = nombre\n",
    "\n",
    "    @abstractmethod\n",
    "    def hacer_tareas(self):\n",
    "        pass\n",
    "\n",
    "    @abstractmethod\n",
    "    def habilidad_especial(self):\n",
    "        print(f\"{self.nombre} utiliza su habilidad especial 😈\")\n",
    "    \n",
    "    def presionar_boton(self):\n",
    "        print(f\"¡¡{self.nombre} llamo a una reunion urgente!!\")\n",
    "\n",
    "    def revisar_camaras(self):\n",
    "        print(f\"{self.nombre} revisa las camaras 🎥\")\n",
    "    \n",
    "    def revisar_registros(self):\n",
    "        print(f\"{self.nombre} revisa el registro de ingresos📖\")\n",
    "    \n",
    "    def revisar_administracion(self):\n",
    "        print(f\"{self.nombre} revisa el panel de admin y ve a todos en el mapa 🗺\")\n",
    "    \n",
    "    def reportar(self,color,lugar):\n",
    "        print(f\"¡¡{self.nombre} encontró un cuerpo {color} en el {lugar}!!\")\n",
    "    "
   ]
  },
  {
   "cell_type": "code",
   "execution_count": 19,
   "metadata": {
    "slideshow": {
     "slide_type": "slide"
    }
   },
   "outputs": [],
   "source": [
    "class Impostor(Personaje):\n",
    "    def __init__(self, *args, **kwargs):\n",
    "        super().__init__(*args, **kwargs)\n",
    "        self.sabotajes={\n",
    "            \"puertas\":\"¡¡se cerraron las puertas en la habitación!!\",\n",
    "            \"electricidad\":\"¡¡se cortó la electricidad en la nave!!\",\n",
    "            \"reactor\":\"¡¡el reactor esta fallando!!\",\n",
    "            \"camaras\": \"¡¡las camaras se apagaron!!\"}\n",
    "    \n",
    "    def hacer_tareas(self):\n",
    "        super().hacer_tareas()\n",
    "\n",
    "    def habilidad_especial(self, destino):\n",
    "        super().habilidad_especial()\n",
    "        print(f\"{self.nombre} ingresa a las alcantarillas y se dirije a {destino}\")\n",
    "    \n",
    "    def sabotear(self, key):\n",
    "        if key in self.sabotajes.keys:\n",
    "            print(self.sabotajes[key])\n",
    "    \n",
    "    def matar_tripulante(self, tripulante):\n",
    "        print(f\"el impostor asesinó al tripulante {tripulante.nombre}\")"
   ]
  },
  {
   "cell_type": "code",
   "execution_count": 20,
   "metadata": {
    "slideshow": {
     "slide_type": "slide"
    }
   },
   "outputs": [],
   "source": [
    "class Tripulante(Personaje):\n",
    "\n",
    "    def __init__(self,*args,**kwargs):\n",
    "    \n",
    "        super().__init__(*args,*kwargs)\n",
    "        self.habilidad=False\n",
    "    \n",
    "    def hacer_tareas(self):\n",
    "        super().hacer_tareas()\n",
    "\n",
    "    def habilidad_especial(self, destino):\n",
    "        super().habilidad_especial()\n",
    "        if not(self.habilidad):\n",
    "            print(\"pero no tiene habilidad :(\")"
   ]
  },
  {
   "cell_type": "code",
   "execution_count": 21,
   "metadata": {
    "slideshow": {
     "slide_type": "slide"
    }
   },
   "outputs": [],
   "source": [
    "class Cientifico(Tripulante):\n",
    "    def __init__(self, *args, **kwargs):\n",
    "        super().__init__(*args, **kwargs)\n",
    "        self.habilidad==True\n",
    "    \n",
    "    def hacer_tareas(self):\n",
    "        super().hacer_tareas()\n",
    "    \n",
    "    def habilidad_especial(self, destino):\n",
    "        super().habilidad_especial(destino)\n",
    "        print(\"y revisa el estado de todos los miembros de la nave 🏥\")"
   ]
  },
  {
   "cell_type": "code",
   "execution_count": 22,
   "metadata": {
    "slideshow": {
     "slide_type": "slide"
    }
   },
   "outputs": [],
   "source": [
    "class Fantasma(Tripulante, Impostor):\n",
    "    def __init__(self,tipo_miembro, *args, **kwargs):\n",
    "        super().__init__(*args, **kwargs)\n",
    "        self.habilidad==True\n",
    "        self.tipo_miembro=tipo_miembro\n",
    "    \n",
    "    def hacer_tareas(self):\n",
    "        self.tipo_miembro.hacer_tareas()\n",
    "    \n",
    "    def habilidad_especial(self):\n",
    "        Tripulante.habilidad_especial()\n",
    "\n",
    "    def sabotear(self, key):\n",
    "        if self.tipo_miembro == Impostor:\n",
    "            self.tipo_miembro.sabotear()\n",
    "        else:\n",
    "            print(\"No puedes hacer eso :(\")\n",
    "    \n",
    "    def matar_tripulante(self, tripulante):\n",
    "        print(\"No puedes hacer eso :(\")\n",
    "\n",
    "    def reportar(self, color, lugar):\n",
    "        print(\"ya no puedes hacer eso :(\")\n",
    "    \n",
    "    def presionar_boton(self):\n",
    "        print(\"ya no puedes hacer eso :(\")"
   ]
  },
  {
   "cell_type": "markdown",
   "metadata": {
    "slideshow": {
     "slide_type": "slide"
    }
   },
   "source": [
    "Ahora probemos nuestro codigo :D"
   ]
  },
  {
   "cell_type": "code",
   "execution_count": 23,
   "metadata": {
    "slideshow": {
     "slide_type": "slide"
    }
   },
   "outputs": [
    {
     "name": "stdout",
     "output_type": "stream",
     "text": [
      "Juanitox777 utiliza su habilidad especial 😈\n",
      "Juanitox777 ingresa a las alcantarillas y se dirije a DCC\n"
     ]
    }
   ],
   "source": [
    "impostor=Impostor(\"Juanitox777\",\"Rojo\",[(\"limpiar hojas\",\"Reactor\"),(\"Pasar tarjeta\",\"Admin\"),(\"Unir cables\",\"Electricidad\"),(\"Escanearse\",\"Enfermeria\")])   \n",
    "\n",
    "impostor.habilidad_especial(\"DCC\")\n",
    "impostor.hacer_tareas()"
   ]
  },
  {
   "cell_type": "markdown",
   "metadata": {
    "slideshow": {
     "slide_type": "slide"
    }
   },
   "source": [
    "# Ahora pongamos a prueba lo que aprendimos 🙌\n",
    "\n",
    "Debemos recrear el siguiente diagrama utilizando todos los contenidos antes vistos :D\n",
    "\n",
    "<img src=\"img/vehiculos.png\" width=\"600\">"
   ]
  },
  {
   "cell_type": "code",
   "execution_count": 24,
   "metadata": {
    "slideshow": {
     "slide_type": "slide"
    }
   },
   "outputs": [],
   "source": [
    "from abc import ABC, abstractmethod\n",
    "\n",
    "class Vehiculo(ABC):\n",
    "    def __init__(self, peso, hp, capacidad):\n",
    "        self.peso = peso\n",
    "        self.hp = hp\n",
    "        self.capacidad = capacidad\n",
    "        self.__kilometraje = 0\n",
    "\n",
    "    @property\n",
    "    def kilometraje(self):\n",
    "        return self.__kilometraje\n",
    "\n",
    "    @abstractmethod\n",
    "    def conducir(self, distancia):\n",
    "        self.__kilometraje += distancia\n",
    "        return self.peso\n",
    "        "
   ]
  },
  {
   "cell_type": "markdown",
   "metadata": {
    "slideshow": {
     "slide_type": "slide"
    }
   },
   "source": [
    "Luego, creamos las clases que heredarán de *Vehiculo*, en este caso serán *Moto*, *Auto* y *Camion*."
   ]
  },
  {
   "cell_type": "code",
   "execution_count": 25,
   "metadata": {
    "slideshow": {
     "slide_type": "slide"
    }
   },
   "outputs": [],
   "source": [
    "import random\n",
    "import string\n",
    "\n",
    "class Moto(Vehiculo):\n",
    "    def __init__(self, peso, hp, capacidad):\n",
    "        super().__init__(peso, hp, capacidad)\n",
    "        self.ruedas = 2\n",
    "\n",
    "    def conducir(self, distancia):\n",
    "        super().conducir(distancia)\n",
    "        print(f\"La moto condujo {distancia} kilómetros. En total, ha conducido {self.kilometraje} kilómetros.\")\n",
    "\n",
    "class Camion(Vehiculo):\n",
    "    def __init__(self, peso, hp, capacidad):\n",
    "        super().__init__(peso, hp, capacidad)\n",
    "        self.ruedas = 6\n",
    "\n",
    "    def conducir(self, distancia):\n",
    "        peso = super().conducir(distancia)\n",
    "        print(f\"El camión condujo {distancia} kilómetros. En total, ha conducido {self.kilometraje} kilómetros.\")"
   ]
  },
  {
   "cell_type": "code",
   "execution_count": 26,
   "metadata": {
    "slideshow": {
     "slide_type": "slide"
    }
   },
   "outputs": [],
   "source": [
    "class Auto(Vehiculo):\n",
    "    def __init__(self, *args, **kwargs):\n",
    "        super().__init__(*args, **kwargs)\n",
    "        self.ruedas = 4\n",
    "        self.__patente = self.generar_patente()\n",
    "\n",
    "    @property\n",
    "    def patente(self):\n",
    "        return f\"{self.__patente[0:2]}-{self.__patente[2:4]}-{self.__patente[4:6]}\"\n",
    "\n",
    "    def conducir(self, distancia):\n",
    "        super().conducir(distancia)\n",
    "        print(f\"El auto {self.patente} condujo {distancia} kilómetros. En total, ha conducido {self.kilometraje} kilómetros.\")\n",
    "\n",
    "    def generar_patente(self):\n",
    "        patente = \"\"\n",
    "        for i in range(4):\n",
    "            letra = random.choice(string.ascii_uppercase)\n",
    "            patente += letra\n",
    "\n",
    "        for i in range(2):\n",
    "            numero = random.choice([0,1,2,3,4,5,6,7,8,9])\n",
    "            patente += str(numero)\n",
    "\n",
    "        return patente"
   ]
  },
  {
   "cell_type": "markdown",
   "metadata": {
    "slideshow": {
     "slide_type": "slide"
    }
   },
   "source": [
    "En el código anterior, las tres clases heredadas añaden un ``print`` personalizado al método heredado ``conducir``. La clase ``Auto`` cuenta con el atributo *patente*, un método que la genera, y una property que nos facilita el formato al momento de consultar su patente."
   ]
  },
  {
   "cell_type": "code",
   "execution_count": 27,
   "metadata": {
    "slideshow": {
     "slide_type": "slide"
    }
   },
   "outputs": [
    {
     "name": "stdout",
     "output_type": "stream",
     "text": [
      "La moto condujo 200 kilómetros. En total, ha conducido 200 kilómetros.\n",
      "El auto RE-YB-63 condujo 350 kilómetros. En total, ha conducido 350 kilómetros.\n",
      "El camión condujo 800 kilómetros. En total, ha conducido 800 kilómetros.\n"
     ]
    }
   ],
   "source": [
    "# Se instancian las clases\n",
    "moto = Moto(500, 200, 1)\n",
    "auto = Auto(2300, 250, 4)\n",
    "camion = Camion(6400, 500, 2)\n",
    "\n",
    "# Testeamos\n",
    "moto.conducir(200)\n",
    "auto.conducir(350)\n",
    "camion.conducir(800)"
   ]
  },
  {
   "cell_type": "markdown",
   "metadata": {
    "slideshow": {
     "slide_type": "slide"
    }
   },
   "source": [
    "Ahora, crearemos una clase *SuzukiSPresso* (o mejor conocido como \"Ñuñuki\") que herede la clase *Auto*"
   ]
  },
  {
   "cell_type": "code",
   "execution_count": 28,
   "metadata": {
    "slideshow": {
     "slide_type": "slide"
    }
   },
   "outputs": [],
   "source": [
    "class SuzukiSpresso(Auto):\n",
    "    \n",
    "    def __init__(self, porcentaje_belleza, *args, **kwargs):\n",
    "        super().__init__(*args, **kwargs)\n",
    "        self.porcentaje_belleza = porcentaje_belleza\n",
    "    \n",
    "    def indicar_belleza(self):\n",
    "        patente = super().patente\n",
    "        print(f\"El ñuñuki patente {patente} es {self.porcentaje_belleza}% bello\")"
   ]
  },
  {
   "cell_type": "code",
   "execution_count": 29,
   "metadata": {
    "slideshow": {
     "slide_type": "slide"
    }
   },
   "outputs": [
    {
     "name": "stdout",
     "output_type": "stream",
     "text": [
      "El ñuñuki patente DT-GW-81 es 0% bello\n"
     ]
    }
   ],
   "source": [
    "# Se instancia la clase\n",
    "nunuki = SuzukiSpresso(0, 2300, 250, 4)\n",
    "\n",
    "# Testeamos\n",
    "nunuki.indicar_belleza() "
   ]
  },
  {
   "cell_type": "markdown",
   "metadata": {
    "slideshow": {
     "slide_type": "slide"
    }
   },
   "source": [
    "# Ahora modelemos otro ejemplo 🐱‍👤\n"
   ]
  },
  {
   "cell_type": "markdown",
   "metadata": {
    "slideshow": {
     "slide_type": "subslide"
    }
   },
   "source": [
    "<img src=\"img/Avatar.jpg\" width=\"600\" hight=\"100\" align=\"center\">"
   ]
  },
  {
   "cell_type": "code",
   "execution_count": 30,
   "metadata": {
    "slideshow": {
     "slide_type": "subslide"
    }
   },
   "outputs": [],
   "source": [
    "class Humano(ABC):\n",
    "    def __init__(self, nombre):\n",
    "        self.nombre = nombre\n",
    "        \n",
    "    def saludar(self):\n",
    "        print(f\"Hola!! mi nombre es {self.nombre}\")\n",
    "        \n",
    "class MaestroFuego(Humano):\n",
    "    def __init__(self, poder_de_fuego, *args, **kwargs):\n",
    "        super().__init__(*args, **kwargs)\n",
    "        self.fuego = poder_de_fuego\n",
    "        \n",
    "    def saludar(self):\n",
    "        print(f\"Hola!! mi nombre es {self.nombre} y soy un maestro fuego\")\n",
    "        \n",
    "    def atacar(self):\n",
    "        print(f\"{self.nombre} ha lanzado una bola de fuego con poder {self.fuego}\")\n",
    "        \n",
    "        \n",
    "        \n",
    "        "
   ]
  },
  {
   "cell_type": "code",
   "execution_count": 31,
   "metadata": {
    "slideshow": {
     "slide_type": "subslide"
    }
   },
   "outputs": [],
   "source": [
    "class MaestroAgua(Humano):\n",
    "    def __init__(self, poder_de_agua, *args, **kwargs):\n",
    "        super().__init__(*args, **kwargs)\n",
    "        self.agua = poder_de_agua\n",
    "        \n",
    "    def saludar(self):\n",
    "        print(f\"Hola!! mi nombre es {self.nombre} y soy un maestro agua\")\n",
    "        \n",
    "    def atacar(self):\n",
    "        print(f\"{self.nombre} ha lanzado un chorro de agua con poder {self.agua}\")\n",
    "        \n",
    "\n",
    "class MaestroTierra(Humano):\n",
    "    def __init__(self, poder_de_tierra, *args, **kwargs):\n",
    "        super().__init__(*args, **kwargs)\n",
    "        self.tierra = poder_de_tierra\n",
    "        \n",
    "    def saludar(self):\n",
    "        print(f\"Hola!! mi nombre es {self.nombre} y soy un maestro tierra\")\n",
    "        \n",
    "    def atacar(self):\n",
    "        print(f\"{self.nombre} ha lanzado una roca con poder {self.tierra}\")\n",
    "        "
   ]
  },
  {
   "cell_type": "code",
   "execution_count": 35,
   "metadata": {
    "slideshow": {
     "slide_type": "subslide"
    }
   },
   "outputs": [],
   "source": [
    "class MaestroAire(Humano):\n",
    "    def __init__(self, poder_de_aire, *args, **kwargs):\n",
    "        super().__init__(*args, **kwargs)\n",
    "        self.aire = poder_de_aire\n",
    "        \n",
    "    def saludar(self):\n",
    "        print(f\"Hola!! mi nombre es {self.nombre} y soy un maestro fuego\")\n",
    "        \n",
    "    def atacar(self):\n",
    "        print(f\"{self.nombre} ha lanzado una rafaga de aire con poder {self.aire}\")\n",
    "\n",
    "class Avatar(MaestroFuego, MaestroAgua, MaestroTierra, MaestroAire):\n",
    "    def __init__(self, *args, **kwargs):\n",
    "        super().__init__(*args, **kwargs)\n",
    "        \n",
    "    def saludar(self):\n",
    "        print(f\"Hola, soy el avatar y soy el maestro de los cuatro elementos\")\n",
    "        \n",
    "    def atacar(self):\n",
    "        super().atacar()"
   ]
  },
  {
   "cell_type": "code",
   "execution_count": 36,
   "metadata": {
    "slideshow": {
     "slide_type": "subslide"
    }
   },
   "outputs": [
    {
     "name": "stdout",
     "output_type": "stream",
     "text": [
      "Hola, soy el avatar y soy el maestro de los cuatro elementos\n",
      "Hola!! mi nombre es Zuco y soy un maestro fuego\n",
      "Zuco ha lanzado una bola de fuego con poder 100\n",
      "Aang ha lanzado una bola de fuego con poder 20\n"
     ]
    }
   ],
   "source": [
    "el_ultimo_maestro_aire = Avatar(nombre=\"Aang\", poder_de_aire=100, poder_de_agua=80, poder_de_tierra=50, poder_de_fuego=20)\n",
    "el_principe_de_fuego = MaestroFuego(nombre=\"Zuco\", poder_de_fuego=100)\n",
    "\n",
    "el_ultimo_maestro_aire.saludar()\n",
    "el_principe_de_fuego.saludar()\n",
    "\n",
    "el_principe_de_fuego.atacar()\n",
    "el_ultimo_maestro_aire.atacar()"
   ]
  },
  {
   "cell_type": "code",
   "execution_count": 39,
   "metadata": {
    "slideshow": {
     "slide_type": "subslide"
    }
   },
   "outputs": [],
   "source": [
    "class Avatar(MaestroFuego, MaestroAgua, MaestroTierra, MaestroAire):\n",
    "    def __init__(self, *args, **kwargs):\n",
    "        super().__init__(*args, **kwargs)\n",
    "        \n",
    "    def saludar(self):\n",
    "        print(f\"Hola, soy el avatar y soy el maestro de los cuatro elementos\")\n",
    "        \n",
    "    def atacar(self):\n",
    "        MaestroFuego.atacar(self)\n",
    "        MaestroAgua.atacar(self)\n",
    "        MaestroTierra.atacar(self)\n",
    "        MaestroAire.atacar(self)"
   ]
  },
  {
   "cell_type": "code",
   "execution_count": 40,
   "metadata": {},
   "outputs": [
    {
     "name": "stdout",
     "output_type": "stream",
     "text": [
      "Aang ha lanzado una bola de fuego con poder 20\n",
      "Aang ha lanzado un chorro de agua con poder 80\n",
      "Aang ha lanzado una roca con poder 50\n",
      "Aang ha lanzado una rafaga de aire con poder 100\n"
     ]
    }
   ],
   "source": [
    "el_ultimo_maestro_aire = Avatar(nombre=\"Aang\", poder_de_aire=100, poder_de_agua=80, poder_de_tierra=50, poder_de_fuego=20)\n",
    "el_ultimo_maestro_aire.atacar()"
   ]
  }
 ],
 "metadata": {
  "celltoolbar": "Slideshow",
  "kernelspec": {
   "display_name": "Python 3 (ipykernel)",
   "language": "python",
   "name": "python3"
  },
  "language_info": {
   "codemirror_mode": {
    "name": "ipython",
    "version": 3
   },
   "file_extension": ".py",
   "mimetype": "text/x-python",
   "name": "python",
   "nbconvert_exporter": "python",
   "pygments_lexer": "ipython3",
   "version": "3.10.5"
  },
  "vscode": {
   "interpreter": {
    "hash": "3f17306e7d2cb3af2234d421104d8b0dc3dd1fc08bbb60e5010bc77bb79a25a8"
   }
  }
 },
 "nbformat": 4,
 "nbformat_minor": 2
}
