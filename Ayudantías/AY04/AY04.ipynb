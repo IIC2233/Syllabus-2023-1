{
 "cells": [
  {
   "cell_type": "markdown",
   "id": "c7230ce0",
   "metadata": {
    "slideshow": {
     "slide_type": "slide"
    }
   },
   "source": [
    "# Ayudantía 05: Interfaces Gráficas I\n",
    "\n",
    "### **Autores:** \n",
    "- Julio Huerta\n",
    "- Maria José Millán \n",
    "- Felipe Vidal\n",
    "\n",
    "\n",
    "#### **Original**\n",
    "- Juan Fernández  y Diego Millaa\n",
    " \n"
   ]
  },
  {
   "cell_type": "markdown",
   "id": "df4cf4eb",
   "metadata": {
    "slideshow": {
     "slide_type": "slide"
    }
   },
   "source": [
    "   # 🚧**IMPORTANTE** 🚧 \n",
    "**Desde esta ayudantía y por el resto del semestre, utilizarán interfaces gráficas para su desarrollo. Por lo tanto, es necesaria la instalación y posterior importación de la librería ``PyQt5`` en python. Si aún no tienes instalada esta librería, puedes hacerlo mediante las indicaciones en el canvas del curso**."
   ]
  },
  {
   "cell_type": "markdown",
   "id": "96265bc0",
   "metadata": {
    "slideshow": {
     "slide_type": "slide"
    }
   },
   "source": [
    "### Interfaces Gráficas\n",
    "\n",
    "\n",
    "Las interfaces gráficas son todos aquellos **elementos visuales** que nos permiten interactuar con un *software*, no usando la terminal del computador, sino que utilizando **elementos gráficos** como botones, cuadros de texto, imágenes, y mucho más. Esto se hace mediante el *framework* [PyQt](https://riverbankcomputing.com/software/pyqt/intro), el cual contiene un conjunto de módulos que proveen distintas funcionalidades para poder construir interfaces gráficas."
   ]
  },
  {
   "cell_type": "markdown",
   "id": "6fd39b01",
   "metadata": {
    "slideshow": {
     "slide_type": "subslide"
    }
   },
   "source": [
    "### PyQt5\n",
    "\n",
    "**Módulos:**\n",
    "\n",
    "* `QtWidgets`: Contine la gran mayoría de los elementos gráficos a utilizar. Algunos de ellos son:\n",
    "    * `QApplication`: Es la clase principal de las demas, la cual es siempre necesario instanciar para poder generar la interfaz.\n",
    "    * `QWidget`: Es la clase base para todos los demás widgets, la cual representa una ventana en la pantalla.\n",
    "    * `QLabel`: Es el widget que permite mostrar texto e imagenes.\n",
    "    * `QLineEdit`: Este widget sirve para obtener una entrada de texto de una linea.\n",
    "    * `QPushButton`: Solo un botón."
   ]
  },
  {
   "cell_type": "markdown",
   "id": "26deb714",
   "metadata": {
    "slideshow": {
     "slide_type": "subslide"
    }
   },
   "source": [
    "* `QtGui`: Contiene algunos elemenos gráficos útiles para una interfáz.\n",
    "    * `QPixmap`: Es una clase que permite cargar imagenes.\n",
    "    \n",
    "\n",
    "\n",
    "* `QtCore`: Contiene algunos elemenos de Qt que sirven para el manejo de las interfaces.\n",
    "    * `pyqtSignal`: Esta son las señales de PyQt, las cueles reciben un atributo opcional que indica la clase del objeto que transportarán, es importante indicar que clase estarán transportando."
   ]
  },
  {
   "cell_type": "markdown",
   "id": "3ee98702",
   "metadata": {},
   "source": [
    "**Cómo se deben importar estos elementos:**"
   ]
  },
  {
   "cell_type": "code",
   "execution_count": null,
   "id": "0059a30b",
   "metadata": {
    "slideshow": {
     "slide_type": "subslide"
    }
   },
   "outputs": [],
   "source": [
    "import sys\n",
    "from PyQt5.QtWidgets import (QApplication, QWidget, QLabel, QPushButton)\n",
    "from PyQt5.QtGui import (QPixmap)\n",
    "from PyQt5.QtCore import (pyqtSignal)"
   ]
  },
  {
   "cell_type": "markdown",
   "id": "0807b004",
   "metadata": {
    "slideshow": {
     "slide_type": "slide"
    }
   },
   "source": [
    "## Ventana personalizada\n",
    "Utilizando PyQt5, ustedes pueden construir sus propias ventanas personalizadas. Para esto, simplemente tienen que heredar QWidget y definir los elementos que quieran que tenga su ventana."
   ]
  },
  {
   "cell_type": "code",
   "execution_count": null,
   "id": "d4794f06",
   "metadata": {
    "slideshow": {
     "slide_type": "subslide"
    }
   },
   "outputs": [],
   "source": [
    "import sys\n",
    "from PyQt5.QtWidgets import QWidget, QApplication, QLabel\n",
    "\n",
    "class MiVentana(QWidget):\n",
    "    def __init__(self):\n",
    "        super().__init__()\n",
    "        self.setGeometry(500, 200, 600, 600)\n",
    "        self.setWindowTitle('Ventana personalizada')\n",
    "        self.label_mensaje = QLabel('Hola hola buenas tardes',self)\n",
    "\n",
    "        \n",
    "if __name__ == '__main__':\n",
    "    app = QApplication([])\n",
    "    ventana = MiVentana()\n",
    "    ventana.show()\n",
    "    sys.exit(app.exec_())"
   ]
  },
  {
   "cell_type": "markdown",
   "id": "48edc40d",
   "metadata": {
    "slideshow": {
     "slide_type": "slide"
    }
   },
   "source": [
    "### *Imágenes*\n",
    "Para agregar imágenes a una ventana de ```PyQt```, se puede usar la clase `QPixmap` del módulo `QtGui`. Este carga un conjunto de pixeles que pueden originarse de un archivo de imagen. Para agregarlo a la ventana, deben cargarse esos pixeles dentro de un elemento QLabel. El siguiente ejemplo muestra una pequeña ventana que carga y muestra una imagen de Buzz Lightyear:"
   ]
  },
  {
   "cell_type": "code",
   "execution_count": null,
   "id": "d0079d13",
   "metadata": {
    "slideshow": {
     "slide_type": "subslide"
    }
   },
   "outputs": [],
   "source": [
    "import sys\n",
    "import os\n",
    "from PyQt5.QtWidgets import QWidget, QApplication, QLabel, QPushButton\n",
    "from PyQt5.QtGui import QPixmap\n",
    "\n",
    "class MiVentana(QWidget):\n",
    "    def __init__(self):\n",
    "        super().__init__()\n",
    "        self.setGeometry(500, 200, 600, 600)\n",
    "        self.setWindowTitle('Ventana personalizada bien')\n",
    "        self.label_mensaje = QLabel('Hola hola buenas tardes',self)\n",
    "        \n",
    "        # Creamos el QLabel que contendrá la imagen y definimos su tamaño\n",
    "        self.label_imagen = QLabel(self)\n",
    "        self.label_imagen.setGeometry(50, 50, 450, 450)\n",
    "        \n",
    "        # Escribimos la ruta al archivo que contiene la imagen.\n",
    "        ruta_imagen = os.path.join('img', 'cheems.png')\n",
    "        \n",
    "        # Cargamos la imagen como pixeles \n",
    "        pixeles = QPixmap(ruta_imagen)\n",
    "        \n",
    "        # Agregamos los pixeles al elemento QLabel\n",
    "        self.label_imagen.setPixmap(pixeles)\n",
    "        \n",
    "        # Finalmente, ajustamos tamaño de contenido al tamaño del elemento\n",
    "        self.label_imagen.setScaledContents(True)"
   ]
  },
  {
   "cell_type": "code",
   "execution_count": null,
   "id": "4b69578d",
   "metadata": {
    "slideshow": {
     "slide_type": "skip"
    }
   },
   "outputs": [],
   "source": [
    "if __name__ == '__main__':\n",
    "    app = QApplication([])\n",
    "    ventana = MiVentana()\n",
    "    ventana.show()\n",
    "    sys.exit(app.exec_())"
   ]
  },
  {
   "cell_type": "markdown",
   "id": "f6833d89",
   "metadata": {},
   "source": [
    "##### **🚧  Cuidado 🚧**\n",
    "Trabajando con imagenes, es muy probable que algunas veces estas no se muestren en la ventana. Por lo general esto no es un error en el codigo, sino que un problema de ruta a la imagen, segun de donde estan ejecutando el programa."
   ]
  },
  {
   "cell_type": "markdown",
   "id": "4ac43e4c",
   "metadata": {
    "slideshow": {
     "slide_type": "slide"
    }
   },
   "source": [
    "### *Botones*\n",
    "Para crear botones, se utiliza el widget QPushButton. Este widget recibe un texto inicial, y el widget que lo contiene (su parent, en otras palabras, el *self*).\n"
   ]
  },
  {
   "cell_type": "code",
   "execution_count": null,
   "id": "4d5deffd",
   "metadata": {
    "slideshow": {
     "slide_type": "subslide"
    }
   },
   "outputs": [],
   "source": [
    "import sys\n",
    "import os\n",
    "from PyQt5.QtWidgets import QWidget, QApplication, QLabel, QPushButton\n",
    "from PyQt5.QtGui import QPixmap\n",
    "\n",
    "class MiVentana(QWidget):\n",
    "    def __init__(self):\n",
    "        super().__init__()\n",
    "        self.setGeometry(500, 200, 600, 600)\n",
    "        self.setWindowTitle('Ventana bien personalizada')\n",
    "        self.label_mensaje = QLabel('Hola hola buenas tardes',self)\n",
    "        \n",
    "        self.label_imagen = QLabel(self)\n",
    "        self.label_imagen.setGeometry(50, 50, 450, 450)\n",
    "        ruta_imagen = os.path.join('img', 'cheems.png')\n",
    "        pixeles = QPixmap(ruta_imagen)\n",
    "        self.label_imagen.setPixmap(pixeles)\n",
    "        self.label_imagen.setScaledContents(True)\n",
    "        \n",
    "        #Creamos el botón\n",
    "        self.boton = QPushButton('Presióname', self)\n",
    "        self.boton.move(500,10)"
   ]
  },
  {
   "cell_type": "code",
   "execution_count": null,
   "id": "e286e8ca",
   "metadata": {
    "slideshow": {
     "slide_type": "skip"
    }
   },
   "outputs": [],
   "source": [
    "if __name__ == '__main__':\n",
    "    app = QApplication([])\n",
    "    ventana = MiVentana()\n",
    "    ventana.show()\n",
    "    sys.exit(app.exec_())"
   ]
  },
  {
   "cell_type": "markdown",
   "id": "62bbe179",
   "metadata": {
    "slideshow": {
     "slide_type": "slide"
    }
   },
   "source": [
    "### *Layouts*\n",
    "\n",
    "Los *layouts* permiten manejar de manera **más flexible** y **práctica** la **distribución de los *widgets*** en una ventana. Existen dos tipos básicos en PyQt que permiten alinear los *widgets* **horizontal** y **verticalmente**: ```QHBoxLayout``` y ```QVBoxLayout``` del módulo `QtWidgets`. Los objetos deben ser agregados a cada *layout* mediante el método ```addWidget(widget)```, y el método ``addStretch()`` nos permite incluir opcionalmente espaciadores. También se pueden agregar layouts creados a otros layouts con el método ``addLayout()`` Finalmente, el *box* definido debe ser cargado a la ventana usando ```self.setLayout()```."
   ]
  },
  {
   "cell_type": "code",
   "execution_count": null,
   "id": "e24366fc",
   "metadata": {
    "slideshow": {
     "slide_type": "subslide"
    }
   },
   "outputs": [],
   "source": [
    "import sys\n",
    "import os\n",
    "from PyQt5.QtWidgets import QWidget, QApplication, QLabel, QPushButton, QHBoxLayout, QVBoxLayout\n",
    "from PyQt5.QtGui import QPixmap\n",
    "\n",
    "class MiVentana(QWidget):\n",
    "    def __init__(self):\n",
    "        super().__init__()\n",
    "        self.setGeometry(500, 200, 600, 600)\n",
    "        self.setWindowTitle('Ventana personalizada bien')\n",
    "        self.label_mensaje = QLabel('Hola hola buenas tardes',self)\n",
    "        \n",
    "        self.label_imagen = QLabel(self)\n",
    "        #self.label_imagen.setGeometry(50, 50, 450, 450)\n",
    "        self.label_imagen.move(50, 50)\n",
    "        ruta_imagen = os.path.join('img', 'cheems.png')\n",
    "        pixeles = QPixmap(ruta_imagen)\n",
    "        self.label_imagen.setPixmap(pixeles)\n",
    "        self.label_imagen.setScaledContents(True)\n",
    "        \n",
    "        self.boton = QPushButton('Presióname', self)\n",
    "        self.boton.move(500,10)\n",
    "        hbox = QHBoxLayout()\n",
    "        hbox.addWidget(self.label_mensaje)\n",
    "        hbox.addWidget(self.boton)\n",
    "\n",
    "        #Ahora creamos el layout vertical entre 'hbox' y 'self.label_imagen'\n",
    "        vbox = QVBoxLayout()\n",
    "        vbox.addLayout(hbox)\n",
    "        vbox.addWidget(self.label_imagen)\n",
    "\n",
    "        #Definimos 'vbox' como el layout definitivo para la aplicación\n",
    "        self.setLayout(vbox)"
   ]
  },
  {
   "cell_type": "code",
   "execution_count": null,
   "id": "dfaf671e",
   "metadata": {
    "slideshow": {
     "slide_type": "skip"
    }
   },
   "outputs": [],
   "source": [
    "if __name__ == '__main__':\n",
    "    app = QApplication([])\n",
    "    ventana = MiVentana()\n",
    "    ventana.show()\n",
    "    sys.exit(app.exec_())"
   ]
  },
  {
   "cell_type": "markdown",
   "id": "52c3f3f1",
   "metadata": {},
   "source": [
    "### Arquitectura *Front-end* y *Back-end*\n",
    "\n",
    "* **Front-end:** Se puede definir como todo lo relacionado con la interfaz gráfica (lo visual), que es además con lo cual interactúa el usuario. Este solo muestra lo que se le indique y le avisa al *back-end* qué ha hecho el usuario.\n",
    "\n",
    "* **Back-end:** Es todo lo relacionado al procesamiento de los datos y la lógica detrás de la interfaz gráfica. Procesa información que el *front-end* le entrega y determina qué hacer al respecto. Le ordena al *front-end* qué mostarle al usuario.\n",
    "\n",
    "Esta arquitectura busca una **alta cohesión** y **bajo acoplamiento** en un programa. O sea, una **alta especificidad** y una **alta independencia** de las partes."
   ]
  },
  {
   "cell_type": "markdown",
   "id": "ceb659d8",
   "metadata": {
    "slideshow": {
     "slide_type": "slide"
    }
   },
   "source": [
    "### Eventos y señales\n",
    "En interfaces gráficas, la interacción de nuestro programa con las distintas ventanas y métodos se realiza mediante **eventos** y **señales**. Estas son muy importantes para su funcionalidad, ya que usualmente queremos que nuestro programa **reaccione** según lo que sucede en la ventana.\n",
    "\n",
    "Ej:\n",
    " 1. Click en `botón_cerrar_ventana` (*evento*)\n",
    " 2. Se envía senal ``senal_cerrar_ventana`` (*señal*)\n",
    " 3. Se ejecuta método ``cerrar_ventana()`` (*método*)\n",
    " 4. Ventana se cierra"
   ]
  },
  {
   "cell_type": "markdown",
   "id": "d77c669b",
   "metadata": {
    "slideshow": {
     "slide_type": "subslide"
    }
   },
   "source": [
    "La secuencia de trabajo tiene la siguiente forma:\n",
    "\n",
    "* Ocurre un evento $\\Large\\rightarrow$ Se envía señal $\\Large\\rightarrow$ Se ejecuta ``metodo()`` "
   ]
  },
  {
   "cell_type": "markdown",
   "id": "b5c5d019",
   "metadata": {
    "slideshow": {
     "slide_type": "subslide"
    }
   },
   "source": [
    "Ej:\n",
    "* Click en ``boton_sumar_numeros`` $\\Large\\rightarrow$ Se envía señal ``senal_sumar_numeros`` $\\Large\\rightarrow$ Se ejecuta ``sumar_numeros()`` \n",
    "\n",
    "* El booleano ``self.oveja`` se hace ``True`` $\\Large\\rightarrow$ Se envía señal ``senal_oveja`` $\\Large\\rightarrow$ Se ejecuta ``acariciar_oveja()``\n",
    "\n",
    "* El contador ``self.contador_autos`` alcanza su valor máximo $\\Large\\rightarrow$ Se envía señal ``senal_max_autos`` $\\Large\\rightarrow$ Se ejecuta ``destruir_autos()``"
   ]
  },
  {
   "cell_type": "markdown",
   "id": "17922836",
   "metadata": {
    "slideshow": {
     "slide_type": "slide"
    }
   },
   "source": [
    "Agreguemos un contador que aumente su valor cada vez que se presiona el botón."
   ]
  },
  {
   "cell_type": "code",
   "execution_count": 1,
   "id": "a25237f0",
   "metadata": {
    "slideshow": {
     "slide_type": "subslide"
    }
   },
   "outputs": [
    {
     "ename": "SystemExit",
     "evalue": "0",
     "output_type": "error",
     "traceback": [
      "An exception has occurred, use %tb to see the full traceback.\n",
      "\u001b[1;31mSystemExit\u001b[0m\u001b[1;31m:\u001b[0m 0\n"
     ]
    },
    {
     "name": "stderr",
     "output_type": "stream",
     "text": [
      "C:\\Users\\Felipe\\AppData\\Local\\Programs\\Python\\Python310\\lib\\site-packages\\IPython\\core\\interactiveshell.py:3468: UserWarning: To exit: use 'exit', 'quit', or Ctrl-D.\n",
      "  warn(\"To exit: use 'exit', 'quit', or Ctrl-D.\", stacklevel=1)\n"
     ]
    }
   ],
   "source": [
    "import sys\n",
    "import os\n",
    "from PyQt5.QtWidgets import QWidget, QApplication, QLabel, QPushButton, QHBoxLayout, QVBoxLayout\n",
    "from PyQt5.QtGui import QPixmap\n",
    "\n",
    "class MiVentana(QWidget):\n",
    "    def __init__(self):\n",
    "        super().__init__()\n",
    "        self.setGeometry(500, 200, 600, 600)\n",
    "        self.setWindowTitle('Ventana personalizada bien')\n",
    "        self.label_mensaje = QLabel('Hola hola buenas tardes',self)\n",
    "        \n",
    "        self.label_imagen = QLabel(self)\n",
    "        self.label_imagen.setGeometry(50, 50, 450, 450)\n",
    "        ruta_imagen = os.path.join('img', 'cheems.png')\n",
    "        pixeles = QPixmap(ruta_imagen)\n",
    "        self.label_imagen.setPixmap(pixeles)\n",
    "        self.label_imagen.setScaledContents(True)\n",
    "\n",
    "        self.boton = QPushButton('Presióname', self)\n",
    "        self.boton.move(500,10)\n",
    "\n",
    "        hbox = QHBoxLayout()\n",
    "        hbox.addWidget(self.label_mensaje)\n",
    "        hbox.addWidget(self.boton)\n",
    "\n",
    "        vbox = QVBoxLayout()\n",
    "        vbox.addLayout(hbox)\n",
    "        vbox.addWidget(self.label_imagen)\n",
    "\n",
    "        #Creamos un nuevo atributo y label para nuestro contador\n",
    "        self.contador = 1\n",
    "        self.label_contador = QLabel(f'contador: {self.contador}', self)\n",
    "        \n",
    "        #Lo agregamos al layout\n",
    "        vbox2 = QVBoxLayout()\n",
    "        vbox2.addLayout(vbox)\n",
    "        vbox2.addWidget(self.label_contador)\n",
    "        self.setLayout(vbox2)\n",
    "\n",
    "        #Conectamos el botón con el método 'sumar_contador()'\n",
    "        self.boton.clicked.connect(self.sumar_contador)\n",
    "\n",
    "    def sumar_contador(self):\n",
    "        self.contador += 1\n",
    "        self.label_contador.setText(f'contador: {self.contador}')\n",
    "\n",
    "\n",
    "if __name__ == '__main__':\n",
    "    app = QApplication([])\n",
    "    ventana = MiVentana()\n",
    "    ventana.show()\n",
    "    sys.exit(app.exec_())"
   ]
  },
  {
   "cell_type": "markdown",
   "id": "6ca4fb6b",
   "metadata": {
    "slideshow": {
     "slide_type": "slide"
    }
   },
   "source": [
    "### Señales personalizadas\n",
    "\n",
    "Para cumplir con un paradigma de *front-end* / *back-end*, es necesario **separar** la parte gráfica del programa de la parte lógica. Pero si es así, ¿que pasaría en un ejemplo como el anterior? ¿Qué pasaría si queremos hacer un cálculo más complejo que no pueda hacerse en la interfaz gráfica? 😟"
   ]
  },
  {
   "cell_type": "markdown",
   "id": "b6172789",
   "metadata": {
    "slideshow": {
     "slide_type": "fragment"
    }
   },
   "source": [
    "En tal caso, deberíamos desplazar todo aquello relacionado a la lógica a su propio archivo. Tendremos entonces un archivo ```ventana.py``` y otro ```logica.py```. Pero entonces, ¿cómo se conectan los módulos? 😰"
   ]
  },
  {
   "cell_type": "markdown",
   "id": "2df7ee27",
   "metadata": {
    "slideshow": {
     "slide_type": "slide"
    }
   },
   "source": [
    "La solución la tiene el mismo PyQt! Pues dentro del módulo ```PyQt5.QtCore``` podemos importar a ```pyqtSignal```, un objeto que podemos utilizar para crear señales, emitirlas con la información que necesitemos, y luego conectarlas de forma externa."
   ]
  },
  {
   "cell_type": "code",
   "execution_count": 1,
   "id": "b8a76605",
   "metadata": {
    "slideshow": {
     "slide_type": "fragment"
    }
   },
   "outputs": [],
   "source": [
    "from PyQt5.QtCore import pyqtSignal"
   ]
  },
  {
   "cell_type": "markdown",
   "id": "130769ae",
   "metadata": {
    "slideshow": {
     "slide_type": "slide"
    }
   },
   "source": [
    "Luego, en nuestra ventana o lógica, podemos crear señales y emitirlas luego de que suceda algún evento.\n",
    "\n",
    "En ```ventana.py``` tendríamos algo así:"
   ]
  },
  {
   "cell_type": "code",
   "execution_count": null,
   "id": "6ba4070f",
   "metadata": {
    "slideshow": {
     "slide_type": "fragment"
    }
   },
   "outputs": [],
   "source": [
    "from PyQt5.QtCore import pyqtSignal\n",
    "\n",
    "class MiVentana(QWidget):\n",
    "    senal_actualizar_contador = pyqtSignal()\n",
    "    \n",
    "    def __init__(self):\n",
    "        super().__init__()\n",
    "        self.setGeometry(500, 200, 600, 600)\n",
    "        self.label_contador = QLabel('0', self)\n",
    "        ...\n",
    "        \n",
    "    def sumar_contador(self):\n",
    "        self.senal_actualizar_contador.emit()\n",
    "        \n",
    "    def actualizar_contador(self, numero):\n",
    "        self.label_contador.setText(str(numero))\n",
    "        "
   ]
  },
  {
   "cell_type": "markdown",
   "id": "b95ade28",
   "metadata": {
    "slideshow": {
     "slide_type": "slide"
    }
   },
   "source": [
    "Mientras que en ```logica.py``` se tendría algo como lo siguiente:"
   ]
  },
  {
   "cell_type": "code",
   "execution_count": null,
   "id": "d53dfd45",
   "metadata": {
    "slideshow": {
     "slide_type": "fragment"
    }
   },
   "outputs": [],
   "source": [
    "from PyQt5.QtCore import QObject, pyqtSignal\n",
    "\n",
    "class MiLogica(QObject):\n",
    "    senal_enviar_contador = pyqtSignal(int)\n",
    "    \n",
    "    def __init__(self):\n",
    "        super().__init__()\n",
    "        self.contador = 0\n",
    "        \n",
    "    def actualizar_contador(self):\n",
    "        self.contador += 1\n",
    "        self.senal_enviar_contador.emit(contador)"
   ]
  },
  {
   "cell_type": "markdown",
   "id": "33141321",
   "metadata": {
    "slideshow": {
     "slide_type": "slide"
    }
   },
   "source": [
    "Finalmente, desde un archivo externo como ```main.py```, se conectaría de la siguiente forma:"
   ]
  },
  {
   "cell_type": "code",
   "execution_count": null,
   "id": "e1b1da37",
   "metadata": {
    "slideshow": {
     "slide_type": "fragment"
    }
   },
   "outputs": [],
   "source": [
    "from ventana import MiVentana\n",
    "from logica import MiLogica\n",
    "\n",
    "class MiAplicacion(QObject):\n",
    "    \n",
    "    def __init__(self):\n",
    "        ventana = MiVentana()\n",
    "        logica = MiLogica()\n",
    "        \n",
    "        self.conectar_senales()\n",
    "        \n",
    "    def conectar_senales(self):\n",
    "        ventana.senal_actualizar_contador.connect(logica.sumar_contador)\n",
    "        logica.senal_enviar_contador.connect(ventana.actualizar_contador)"
   ]
  },
  {
   "attachments": {},
   "cell_type": "markdown",
   "id": "c090797e",
   "metadata": {
    "slideshow": {
     "slide_type": "slide"
    }
   },
   "source": [
    "## ACTIVIDAD: DCCitas"
   ]
  },
  {
   "attachments": {},
   "cell_type": "markdown",
   "id": "27839599",
   "metadata": {},
   "source": [
    "El cuerpo de ayudantes ha estado trabajando en una innovadora app para conocer gente: DCCitas. A pesar de que la aplicación aun se encuentra en fase de desarrollo Alfa, un recorrido a travez de ella te ayudara a entender mejor los conceptos de Elementos Graficos, eventos y señales"
   ]
  }
 ],
 "metadata": {
  "celltoolbar": "Slideshow",
  "kernelspec": {
   "display_name": "Python 3 (ipykernel)",
   "language": "python",
   "name": "python3"
  },
  "language_info": {
   "codemirror_mode": {
    "name": "ipython",
    "version": 3
   },
   "file_extension": ".py",
   "mimetype": "text/x-python",
   "name": "python",
   "nbconvert_exporter": "python",
   "pygments_lexer": "ipython3",
   "version": "3.10.0"
  },
  "vscode": {
   "interpreter": {
    "hash": "e119bc4a7770495676f1c48529cfd8e2f70445fd1f64697d7cdc8ed7ad48c334"
   }
  }
 },
 "nbformat": 4,
 "nbformat_minor": 5
}
