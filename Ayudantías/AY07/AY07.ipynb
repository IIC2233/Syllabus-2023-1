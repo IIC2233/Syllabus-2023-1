{
 "cells": [
  {
   "attachments": {},
   "cell_type": "markdown",
   "metadata": {},
   "source": [
    "# Ayudantía 9: Estructuras Nodales I\n",
    "\n",
    "### Autores\n",
    "* Felipe Guerrero: [@SALBUTAMOL12](https://github.com/SALBUTAMOL12)\n",
    "* Patricio Hinostroza: [@Dvckhv](https://github.com/Dvckhv)\n",
    "* Julio Huerta: [@Julius9](https://github.com/Julius9)\n",
    "* Stephen Pugh: [@stephenwpugh](https://github.com/stephenwpugh)"
   ]
  },
  {
   "attachments": {},
   "cell_type": "markdown",
   "id": "69c51303",
   "metadata": {},
   "source": [
    "## Estructuras de Datos\n",
    "\n",
    "Hasta el momento hemos visto estructuras que permiten almacenar información y su eficiencia viene dada por el contexto a utilizar. Usualmente trabajamos con:\n",
    "\n",
    "- Listas\n",
    "- Diccionarios\n",
    "- Sets\n",
    "- Tuplas\n",
    "- Clases \n",
    "- Strings"
   ]
  },
  {
   "attachments": {},
   "cell_type": "markdown",
   "id": "0d13182f",
   "metadata": {},
   "source": [
    "## Estructuras Nodales\n",
    "\n",
    "Ahora, queremos crear nuestras propias estructuras de almacenamiento de información a partir de lo que sabemos de objetos y un poco más. Utilizando Nodos y relaciones entre ellos."
   ]
  },
  {
   "attachments": {},
   "cell_type": "markdown",
   "metadata": {},
   "source": [
    "### Estructura principal: Nodo\n",
    " #### ¿Qué es un nodo?\n",
    " Son objetos simples que pueden ser relacionados entre sí para crear estructuras más complejas\n"
   ]
  },
  {
   "attachments": {},
   "cell_type": "markdown",
   "metadata": {},
   "source": [
    "<img src=\"img/nodo.png\"/>"
   ]
  },
  {
   "attachments": {},
   "cell_type": "markdown",
   "metadata": {},
   "source": [
    "Un nodo *simple* tiene las siguientes propiedades:\n",
    "- **Valor** : Es el valor contenido en el nodo (tal como una variable o un elemento de una lista)\n",
    "- **Puntero** : Es una *referencia* a el(los) nodo(s) vecinos/hijos. Puede ser una lista con los nodos vecinos o tomar otra forma según el contexto.\n",
    "\n",
    "- **Llave/Id** (Opcional)  : Es un valor único que se le da a cada nodo dentro de un grafo, nos puede servir para diferenciar nodos parecidos."
   ]
  },
  {
   "cell_type": "code",
   "execution_count": 2,
   "metadata": {},
   "outputs": [],
   "source": [
    "# Estructura básica de un nodo con un vecino\n",
    "\n",
    "class Nodo:\n",
    "    def __init__(self, valor=None, siguiente=None):\n",
    "        self.valor = valor # El valor de este nodo\n",
    "        self.nodo_siguiente = siguiente # El nodo vecino"
   ]
  },
  {
   "cell_type": "code",
   "execution_count": 3,
   "metadata": {},
   "outputs": [],
   "source": [
    "# Un Nodo con un número arbitrario de vecinos\n",
    "\n",
    "class Nodo:\n",
    "    def __init__(self, valor=None):\n",
    "        self.valor = valor\n",
    "        self.nodos_vecinos = [] # Los vecinos\n",
    "\n",
    "    def agregar_vecino(self, nuevo_vecino):\n",
    "        # Agrega un vecino a la lista de vecinos\n",
    "        self.nodos_vecinos.append(nuevo_vecino)\n",
    "\n",
    "    def __repr__(self):\n",
    "        return f\"Nodo con el valor {self.valor}\""
   ]
  },
  {
   "attachments": {},
   "cell_type": "markdown",
   "metadata": {},
   "source": [
    "## Listas Ligadas\n",
    "Las listas ligadas son secuencias de nodos en forma lineal (cada nodo tiene un *puntero* excepto el último nodo de la lista). Se las pueden imaginar como lo siguiente:"
   ]
  },
  {
   "attachments": {},
   "cell_type": "markdown",
   "metadata": {},
   "source": [
    "<img src= \"img/ListaLigadaEj.png\" />"
   ]
  },
  {
   "attachments": {},
   "cell_type": "markdown",
   "metadata": {},
   "source": [
    "#### ¿En que se diferencian con una lista normal?\n",
    "\n",
    "se diferencian principalmente en la forma en que se almacenan en la memoria.\n",
    "\n",
    "Así se ve una lista normal:\n",
    "<br>\n",
    "\n",
    "<img src=\"img/ArrayList.png\" />\n",
    "<br>\n",
    "\n",
    "Y así se ve una lista ligada:\n",
    "<br>\n",
    "\n",
    "<img src=\"img/LinkedList.png\" />"
   ]
  },
  {
   "attachments": {},
   "cell_type": "markdown",
   "metadata": {},
   "source": [
    "### Construyamos una lista ligada paso a paso\n",
    "En primer lugar, tenemos que crear una estructura nodal que represente cada elemento de nuestra lista ligada"
   ]
  },
  {
   "cell_type": "code",
   "execution_count": 3,
   "metadata": {},
   "outputs": [],
   "source": [
    "class Nodo:\n",
    "    def __init__(self, valor):\n",
    "        self.valor = valor\n",
    "        self.siguiente = None"
   ]
  },
  {
   "attachments": {},
   "cell_type": "markdown",
   "metadata": {},
   "source": [
    "Luego, creamos una estructura para guardar nuestra lista y así poder accederla. En este caso guardaremos una referencia solo al **primer elemento** de la lista, al que llamaremos *cabeza*. A partir del primer nodo podemos llegar a todos los otros elementos de la lista. También guardaremos la cantidad de elementos que tiene la lista"
   ]
  },
  {
   "cell_type": "code",
   "execution_count": 9,
   "metadata": {},
   "outputs": [],
   "source": [
    "class ListaLigada:\n",
    "    def __init__(self):\n",
    "        self.cabeza = None\n",
    "        self.largo = 0\n",
    "    \n",
    "    # Añadimos un método para agregarle nodos a la lista\n",
    "    def agregar_elemento(self, valor):\n",
    "        if self.cabeza is None:\n",
    "            self.cabeza = Nodo(valor)\n",
    "        else:\n",
    "            antigua_cabeza = self.cabeza\n",
    "            self.cabeza = Nodo(valor)\n",
    "            self.cabeza.siguiente = antigua_cabeza\n",
    "        self.largo += 1\n",
    "    \n",
    "    # o para quitarle el ultimo nodo\n",
    "    def quitar_elemento(self):\n",
    "        self.largo -= 1\n",
    "        nodo_actual = self.cabeza\n",
    "        if nodo_actual is not None:\n",
    "            self.cabeza = nodo_actual.siguiente\n",
    "        return nodo_actual.valor"
   ]
  },
  {
   "attachments": {},
   "cell_type": "markdown",
   "metadata": {},
   "source": [
    "Notemos que en este caso el nodo *cabeza* va cambiando a medida que se le agregan o quitan elementos a la lista, esto significa que la *cabeza* será el último nodo que agregamos, y será el primer nodo que eliminemos.\n",
    "\n",
    "Y así implementamos un *stack* eficiente! Veámoslo en acción:"
   ]
  },
  {
   "cell_type": "code",
   "execution_count": 10,
   "metadata": {},
   "outputs": [
    {
     "name": "stdout",
     "output_type": "stream",
     "text": [
      "3\n",
      "2\n",
      "1\n"
     ]
    }
   ],
   "source": [
    "lista = ListaLigada()\n",
    "lista.agregar_elemento(1)\n",
    "lista.agregar_elemento(2)\n",
    "lista.agregar_elemento(3)\n",
    "\n",
    "while lista.largo != 0:\n",
    "  print(lista.quitar_elemento())"
   ]
  },
  {
   "attachments": {},
   "cell_type": "markdown",
   "metadata": {},
   "source": [
    "Además se pueden hacer **listas ligadas circulares**, donde el puntero del último elemento referencia al primero, de esta forma se puede recorrer cíclicamente la lista (pero sólo en una dirección)"
   ]
  },
  {
   "attachments": {},
   "cell_type": "markdown",
   "metadata": {},
   "source": [
    "## Listas doblemente ligadas\n",
    "La lista doblemente ligada se diferencia de la lista ligada en que contiene una referencia al **primer y último** nodo de la lista, y cada nodo tiene referencia al nodo que lo **precede** y que lo **antecede**. Te la puedes imaginar como lo siguiente:\n",
    "<br>\n",
    "\n",
    "<img src=\"img/ListasDobles.jpg\"/>\n",
    "\n",
    "Implementemos una cola con esta estructura:\n",
    "\n",
    "Primero, creamos la estructura de cada nodo (notar que ahora también existe el atributo ``self.anterior`` para referirse al nodo anterior en la lista)"
   ]
  },
  {
   "cell_type": "code",
   "execution_count": 12,
   "metadata": {},
   "outputs": [],
   "source": [
    "class Nodo:\n",
    "    def __init__(self, valor):\n",
    "        self.valor = valor\n",
    "        self.siguiente = None\n",
    "        self.anterior = None"
   ]
  },
  {
   "attachments": {},
   "cell_type": "markdown",
   "metadata": {},
   "source": [
    "Y luego creamos nuestra lista doblemente ligada (notar que ahora también existe el atributo ``self.cola`` para referirse al último nodo de la lista)"
   ]
  },
  {
   "cell_type": "code",
   "execution_count": 13,
   "metadata": {},
   "outputs": [],
   "source": [
    "class ListaDoblementeLigada:\n",
    "    def __init__(self):\n",
    "        self.cabeza = None\n",
    "        self.cola = None\n",
    "        self.largo = 0\n",
    "\n",
    "    # Añadimos un método para agregar nodos a la lista\n",
    "    def agregar_elemento(self, valor):\n",
    "        if self.cabeza is None: # si cabeza es None cola también lo será\n",
    "            self.cabeza = Nodo(valor)\n",
    "            self.cola = self.cabeza\n",
    "        else:\n",
    "            antigua_cabeza = self.cabeza\n",
    "            self.cabeza = Nodo(valor)\n",
    "            self.cabeza.siguiente = antigua_cabeza\n",
    "            antigua_cabeza.anterior = self.cabeza\n",
    "        self.largo += 1\n",
    "    \n",
    "    # o para quitarlos (ojo que en este ejemplo quitamos el primer nodo (cabeza))\n",
    "    def quitar_elemento(self):\n",
    "        if self.cola is None:\n",
    "            return None\n",
    "        valor = self.cola.valor\n",
    "        self.cola = self.cola.anterior\n",
    "        if self.cola is not None:\n",
    "            self.cola.siguiente = None\n",
    "        else:\n",
    "            self.cabeza = None\n",
    "        self.largo -= 1\n",
    "        return valor"
   ]
  },
  {
   "attachments": {},
   "cell_type": "markdown",
   "metadata": {},
   "source": [
    "Y así tenemos una cola (*queue*) eficiente! Veamosla en acción:"
   ]
  },
  {
   "cell_type": "code",
   "execution_count": 15,
   "metadata": {},
   "outputs": [
    {
     "name": "stdout",
     "output_type": "stream",
     "text": [
      "1\n",
      "2\n",
      "3\n"
     ]
    }
   ],
   "source": [
    "cola = ListaDoblementeLigada()\n",
    "\n",
    "cola.agregar_elemento(1)\n",
    "cola.agregar_elemento(2)\n",
    "cola.agregar_elemento(3)\n",
    "\n",
    "while cola.largo != 0:\n",
    "  print(cola.quitar_elemento())"
   ]
  },
  {
   "attachments": {},
   "cell_type": "markdown",
   "metadata": {},
   "source": [
    "#### Otras implementaciones de las listas doblemente ligadas\n",
    " Existen varias implementaciones de las listas ligadas/doblemente ligadas, dejamos la implementación de varios métodos de éstas últimas (no las implementaremos en la ayudantía, pero quedarán acá para l@s curios@s, son **muy** útiles)"
   ]
  },
  {
   "cell_type": "code",
   "execution_count": 16,
   "metadata": {},
   "outputs": [],
   "source": [
    "class ListaDoblementeLigadaV2(ListaDoblementeLigada):\n",
    "\n",
    "    # recuperar el valor del nodo en una posición dada\n",
    "    # notar que se cuenta la posición desde la *cola* de la lista \n",
    "    # (considerando n = posicion) el valor retornado es el que se obtendría de quitar n nodos de la lista\n",
    "    def recuperar_valor(self, posicion):\n",
    "        if posicion >= self.largo:\n",
    "            raise IndexError\n",
    "        nodo = self.cola\n",
    "        for _ in range(posicion):\n",
    "            nodo = nodo.anterior # avanzamos la cantidad de nodos necesaria para llegar a la posicion\n",
    "        return nodo.valor      # retornamos el valor\n",
    "\n",
    "    # insertar un valor (nodo) en una posición dada\n",
    "    def insertar_valor(self, valor, posicion):\n",
    "        if posicion > self.largo:\n",
    "            raise IndexError\n",
    "        nodo = self.cola\n",
    "        if posicion == 0: # insertar al comienzo de nuestra cola (luego de insertarlo, éste será el primer nodo en salir (con self.quitar_elemento ))\n",
    "            if nodo is None: # caso borde, no hay nodos en la lista\n",
    "                self.cola = Nodo(valor)\n",
    "                self.cabeza = self.cola\n",
    "            else: # Hay nodos en la lista pero agregamos al comienzo (en la *cola* de nuestra lista doblemente ligada)\n",
    "                nodo.siguiente = Nodo(valor)\n",
    "                nodo.siguiente.anterior = nodo\n",
    "                self.cola = nodo.siguiente\n",
    "        else:\n",
    "            for _ in range(posicion - 1):\n",
    "                nodo = nodo.anterior # avanzamos para llegar hasta un nodo antes del nodo deseado\n",
    "            anterior = nodo.anterior\n",
    "            nodo.anterior = Nodo(valor) # agregamos el nodo en la posición correcta (1 despues del que buscamos)\n",
    "            nodo.anterior.siguiente = nodo # hacemos las conexiones necesarias\n",
    "            nodo.anterior.anterior = anterior\n",
    "            if anterior is not None:\n",
    "                anterior.siguiente = nodo.anterior\n",
    "            else: # caso borde, estamos ingresando al final de la lista\n",
    "                self.cabeza = nodo.anterior\n",
    "        self.largo += 1\n",
    "    \n",
    "    # Eliminar el elemento (nodo) en una posición dada\n",
    "    def eliminar_posicion(self, posicion):\n",
    "        if posicion >= self.largo:\n",
    "            raise IndexError\n",
    "        if posicion == 0:\n",
    "            if self.largo == 1: # Caso borde, la lista tiene un solo elemento\n",
    "                valor = self.cola.valor\n",
    "                self.cabeza = None\n",
    "                self.cola = None\n",
    "            else: # Eliminamos el primer elemento y hay elementos en la lista\n",
    "                valor = self.cola.valor\n",
    "                self.cola = self.cola.anterior\n",
    "                self.cola.siguiente = None\n",
    "        else:\n",
    "            nodo = self.cola\n",
    "            for _ in range(posicion - 1):\n",
    "                nodo = nodo.anterior # Nos movemos hasta uno antes del nodo que queremos eliminar\n",
    "            valor = nodo.anterior.valor\n",
    "            nodo.anterior = nodo.anterior.anterior # desconectamos el nodo\n",
    "            if nodo.anterior is not None:\n",
    "                nodo.anterior.siguiente = nodo\n",
    "            else: # caso borde, estamos eliminando el ultimo nodo\n",
    "                self.cabeza = nodo\n",
    "        self.largo -= 1\n",
    "        return valor\n",
    "\n",
    "    # para imprimir la lista (se muestra como una lista común)\n",
    "    def __str__(self): \n",
    "        n = self.cola\n",
    "        s = \"[\"\n",
    "        while n is not None:\n",
    "            s += str(n.valor) + (\", \" if n.anterior is not None else \"\")\n",
    "            n = n.anterior\n",
    "        s += \"]\"\n",
    "        return s"
   ]
  },
  {
   "attachments": {},
   "cell_type": "markdown",
   "metadata": {},
   "source": [
    "Veamos estos métodos en acción:"
   ]
  },
  {
   "cell_type": "code",
   "execution_count": 17,
   "metadata": {},
   "outputs": [
    {
     "name": "stdout",
     "output_type": "stream",
     "text": [
      "[2, 8, 4]\n",
      "2\n",
      "8\n",
      "4\n"
     ]
    }
   ],
   "source": [
    "lista = ListaDoblementeLigadaV2()\n",
    "\n",
    "lista.agregar_elemento(1) # -> [1]\n",
    "lista.agregar_elemento(2) # -> [1 , 2]\n",
    "lista.agregar_elemento(3) # -> [1, 2, 3]\n",
    "lista.quitar_elemento() # quitamos el primer elemento -> [2, 3]\n",
    "lista.insertar_valor(4, 2) # agregamos un 4 en la posición 2 (última) -> [2, 3, 4]\n",
    "lista.insertar_valor(8, 2) # insertamos un 8 en la posición 2 -> [2, 3, 8, 4]\n",
    "lista.eliminar_posicion(1) # eliminamos el nodo de la posición 1 -> [2, 8, 4]\n",
    "\n",
    "# imprimimos la lista resultante\n",
    "print(lista)\n",
    "\n",
    "# recupera el valor de las posiciones de nuestra lista\n",
    "print(lista.recuperar_valor(0))\n",
    "print(lista.recuperar_valor(1))\n",
    "print(lista.recuperar_valor(2))"
   ]
  },
  {
   "attachments": {},
   "cell_type": "markdown",
   "id": "5a6f2a55",
   "metadata": {},
   "source": [
    "## Árboles ##\n",
    "Al contrario de las Listas Ligadas, los árboles son estructuras **no lineales**, y estos siguen una estructura jerárquica. De esta forma, los nodos se ordenan a través de relaciones padre-hijo.\n",
    "\n",
    "\n",
    "- Tiene un nodo **raíz**, sin un padre.\n",
    "- Todos los demás nodos poseen un sólo padre.\n",
    "- Como consecuencia de lo anterior, **los árboles no poseen ciclos**.\n",
    "<!-- -->\n",
    "- **Árboles Binarios:** cada nodo puede poseer a lo más dos hijos (uno izquierdo y otro derecho).\n",
    "\n",
    "Con estas propiedades existen otros conceptos que se pueden aplicar a los árboles, tales como ancestros, descendientes, niveles, nodos hoja, etc."
   ]
  },
  {
   "cell_type": "code",
   "execution_count": 12,
   "id": "6ce613d7",
   "metadata": {},
   "outputs": [],
   "source": [
    "\n",
    "class Nodo:\n",
    "    \n",
    "    def __init__(self, llave, valor, padre=None):\n",
    "        self.padre = padre\n",
    "        self.hijos = []\n",
    "        self.llave = llave\n",
    "        self.valor = valor\n",
    "        \n",
    "    ## Imprime la descendencia de un nodo\n",
    "    def diagrama_desendencia(self, indent=0):\n",
    "        diagrama = str(self)\n",
    "        for hijo in self.hijos:\n",
    "            diagrama += \"\\n\" + indent * \"    \" + \"└───\" + hijo.diagrama_desendencia(indent + 1)\n",
    "        return diagrama\n",
    "    \n",
    "    ## Equivalente a __str__. Imprime la llave del nodo junto con su valor\n",
    "    def __repr__(self):\n",
    "        return str(self.llave) + \"[\" + str(self.valor) + \"]\"\n",
    "\n",
    "class Arbol:\n",
    "\n",
    "    \n",
    "    def __init__(self, raiz = None):\n",
    "        self.raiz = raiz\n",
    "\n",
    "    ## Reprsentación del árbol. Imprime la descendencia de la raiz.\n",
    "    def __repr__(self, indent=0):\n",
    "        return self.raiz.diagrama_desendencia()"
   ]
  },
  {
   "cell_type": "code",
   "execution_count": 18,
   "id": "01767f67",
   "metadata": {},
   "outputs": [
    {
     "name": "stdout",
     "output_type": "stream",
     "text": [
      "0[0]\n",
      "└───1[8]\n",
      "    └───2[5]\n",
      "        └───3[3]\n",
      "            └───6[3]\n",
      "                └───11[3]\n",
      "                └───12[3]\n",
      "        └───4[5]\n",
      "            └───7[5]\n",
      "            └───8[7]\n",
      "            └───9[6]\n",
      "        └───5[4]\n",
      "            └───10[6]\n"
     ]
    }
   ],
   "source": [
    "### Poblamos el árbol ###\n",
    "\n",
    "from random import seed, randint\n",
    "# Se determinan los siguientes procesos aleatorios\n",
    "seed(2233)\n",
    "\n",
    "arbol = Arbol()\n",
    "arbol.raiz = Nodo(0, 0)\n",
    "nodos = [arbol.raiz]\n",
    "id_actual = 1\n",
    "for i in range(10):\n",
    "    if nodos:\n",
    "        nodo = nodos.pop(0)\n",
    "    # Le agregamos entre 0 y 3 hijos\n",
    "    for i in range(randint(0,3)):\n",
    "        # usamos valores aleatorios entre 1 y 9\n",
    "        hijo = Nodo(llave=id_actual, valor=randint(1,9), padre=nodo)\n",
    "        id_actual += 1\n",
    "        nodos.append(hijo)\n",
    "        nodo.hijos.append(hijo)\n",
    "print(arbol)\n",
    "\n"
   ]
  },
  {
   "attachments": {},
   "cell_type": "markdown",
   "id": "dcbb2c86",
   "metadata": {},
   "source": [
    "## Depth First Search (DFS)\n",
    "\n",
    "Traducido del inglés, significa \"búsqueda por profundidad primero\". Recorre los nodos a lo largo de cada rama del árbol, llegando al punto más profundo de cada una.\n"
   ]
  },
  {
   "cell_type": "code",
   "execution_count": 14,
   "id": "130dad7c",
   "metadata": {},
   "outputs": [],
   "source": [
    "from collections import deque   "
   ]
  },
  {
   "cell_type": "code",
   "execution_count": 20,
   "id": "b92855c2",
   "metadata": {},
   "outputs": [
    {
     "name": "stdout",
     "output_type": "stream",
     "text": [
      "0[0]\n",
      "1[8]\n",
      "2[5]\n",
      "5[4]\n",
      "Nodo encontrado: 5[4]\n"
     ]
    }
   ],
   "source": [
    "def dfs(arbol, id):\n",
    "    pendientes = deque()\n",
    "    pendientes.append(arbol.raiz)\n",
    "\n",
    "    while pendientes:\n",
    "        nodo = pendientes.pop()\n",
    "        print(nodo)\n",
    "        if nodo.llave == id:\n",
    "            return nodo\n",
    "        for hijo in nodo.hijos:\n",
    "            pendientes.append(hijo)\n",
    "        \n",
    "print(\"Nodo encontrado:\", dfs(arbol, 5))"
   ]
  },
  {
   "attachments": {},
   "cell_type": "markdown",
   "id": "c8b44220",
   "metadata": {},
   "source": [
    "## Breadth First Search (BFS)\n",
    "\n",
    "Traducido del inglés, significa \"búsqueda por anchura primero\". Recorre los nodos descendiendo a través de los niveles del árbol. Busca los nodos según su distancia a la raíz."
   ]
  },
  {
   "cell_type": "code",
   "execution_count": null,
   "id": "d1598dc0",
   "metadata": {},
   "outputs": [],
   "source": [
    "from collections import deque   "
   ]
  },
  {
   "cell_type": "code",
   "execution_count": 22,
   "id": "5a9b381c",
   "metadata": {},
   "outputs": [
    {
     "name": "stdout",
     "output_type": "stream",
     "text": [
      "0[0]\n",
      "1[8]\n",
      "2[5]\n",
      "3[3]\n",
      "4[5]\n",
      "5[4]\n",
      "Nodo encontrado: 5[4]\n"
     ]
    }
   ],
   "source": [
    "def bfs(arbol, id):\n",
    "    pendientes = deque()\n",
    "    pendientes.append(arbol.raiz)\n",
    "\n",
    "    while pendientes:\n",
    "        nodo = pendientes.popleft()\n",
    "        print(nodo)\n",
    "        if nodo.llave == id:\n",
    "            return nodo\n",
    "        for hijo in nodo.hijos:\n",
    "            pendientes.append(hijo)\n",
    "        \n",
    "print(\"Nodo encontrado:\", bfs(arbol, 5))"
   ]
  }
 ],
 "metadata": {
  "kernelspec": {
   "display_name": "Python 3",
   "language": "python",
   "name": "python3"
  },
  "language_info": {
   "codemirror_mode": {
    "name": "ipython",
    "version": 3
   },
   "file_extension": ".py",
   "mimetype": "text/x-python",
   "name": "python",
   "nbconvert_exporter": "python",
   "pygments_lexer": "ipython3",
   "version": "3.10.0"
  },
  "vscode": {
   "interpreter": {
    "hash": "b0fa6594d8f4cbf19f97940f81e996739fb7646882a419484c72d19e05852a7e"
   }
  }
 },
 "nbformat": 4,
 "nbformat_minor": 5
}
