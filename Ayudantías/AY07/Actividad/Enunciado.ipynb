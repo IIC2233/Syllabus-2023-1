{
 "cells": [
  {
   "attachments": {},
   "cell_type": "markdown",
   "metadata": {},
   "source": [
    "# Enunciado Actividad AY07"
   ]
  },
  {
   "attachments": {},
   "cell_type": "markdown",
   "metadata": {},
   "source": [
    "Te encuentras asimilando que se terminó el receso y que hoy se entregó el enunciado de la Tarea 2. Trabajar con `PyQt5` puede ser difícil y entender cómo lee la ruta hacia las imágenes, puede ser aun peor. Pero afortunadamente como recién aprendiste Estructuras Nodales I, decides organizar los diferentes archivos y carpetas de la tarea como un  `Árbol` 🤯.\n",
    "\n"
   ]
  },
  {
   "attachments": {},
   "cell_type": "markdown",
   "metadata": {},
   "source": [
    "Debido a que los ayudantes sabían que esto podía pasar por la mente de algun joven programador (guiño guiño), se adjuntó un archivo .csv que poseía el nombre de cada carpeta/archivo y su respectivo padre. El árbol resultante se puede ver en la siguiente imagen\n",
    "\n",
    "![Arbol de archivos T2](arbol_T2.jpeg)"
   ]
  },
  {
   "attachments": {},
   "cell_type": "markdown",
   "metadata": {},
   "source": [
    "Además, se entrega la siguiente función para transformar un archivo .csv a una lista de listas"
   ]
  },
  {
   "cell_type": "code",
   "execution_count": 1,
   "metadata": {},
   "outputs": [],
   "source": [
    "def leer_archivo(archivo):\n",
    "    with open(archivo) as f:\n",
    "        return [(lista.strip().split(\", \")) for lista in f]"
   ]
  },
  {
   "attachments": {},
   "cell_type": "markdown",
   "metadata": {},
   "source": [
    "Junto con la estructura base de la clase `Arbol` y la función explorador, utilizada para testear lo creado:"
   ]
  },
  {
   "cell_type": "code",
   "execution_count": 2,
   "metadata": {},
   "outputs": [],
   "source": [
    "from estructuras import Arbol, explorador"
   ]
  },
  {
   "attachments": {},
   "cell_type": "markdown",
   "metadata": {},
   "source": [
    "Específicamente, usted deberá crear lo siguiente:\n",
    "\n",
    "- método para definir profundidad del nodo\n",
    "- agregar nodo al árbol\n",
    "- obtener nodo por valor"
   ]
  },
  {
   "attachments": {},
   "cell_type": "markdown",
   "metadata": {},
   "source": [
    "Creamos todo nuestro árbol y lo mostramos:"
   ]
  },
  {
   "cell_type": "code",
   "execution_count": 3,
   "metadata": {},
   "outputs": [
    {
     "name": "stdout",
     "output_type": "stream",
     "text": [
      "0[T2/]\n",
      "└───1[main.py]\n",
      "└───1[frontend/]\n",
      "    └───2[codes/]\n",
      "    └───2[assets/]\n",
      "        └───3[audio/]\n",
      "            └───4[mujeres_y_cerveza.wav]\n",
      "            └───4[intro.wav]\n",
      "        └───3[imgs/]\n",
      "            └───4[koopa.png]\n",
      "            └───4[mario.png]\n",
      "            └───4[ladrillo.png]\n",
      "└───1[backend/]\n",
      "    └───2[inicio.py]\n",
      "    └───2[juego.py]\n",
      "    └───2[final.py]\n",
      "    └───2[logica_inicio.py]\n",
      "    └───2[logica_juego.py]\n",
      "    └───2[utils/]\n",
      "        └───3[objetos.py]\n",
      "        └───3[personajes.py]\n"
     ]
    }
   ],
   "source": [
    "tree = Arbol(\"T2/\")\n",
    "for nodo, padre in leer_archivo(\"nodos.csv\"):\n",
    "    tree.agregar_nodo(nodo, padre)\n",
    "print(tree)"
   ]
  },
  {
   "attachments": {},
   "cell_type": "markdown",
   "metadata": {},
   "source": [
    "Hacemos consultas de diferentes archivos:"
   ]
  },
  {
   "cell_type": "code",
   "execution_count": 4,
   "metadata": {},
   "outputs": [
    {
     "name": "stdout",
     "output_type": "stream",
     "text": [
      "la ruta es: T2/main.py\n",
      "ERROR: No se encontró el archivo: luigi.png\n",
      "ERROR: No se encontró el archivo: mario.py\n",
      "la ruta es: T2/frontend/assets/imgs/mario.png\n",
      "la ruta es: T2/frontend/assets/audio/mujeres_y_cerveza.wav\n",
      "la ruta es: T2/backend/logica_juego.py\n",
      "la ruta es: T2/backend/utils/objetos.py\n",
      "ERROR: No se encontró el archivo: logica_final_final.py\n"
     ]
    }
   ],
   "source": [
    "explorador(tree, \"main.py\", algoritmo=\"BFS\")\n",
    "explorador(tree, \"luigi.png\", algoritmo=\"BFS\")\n",
    "explorador(tree, \"mario.py\", algoritmo=\"BFS\")\n",
    "explorador(tree, \"mario.png\", algoritmo=\"BFS\")\n",
    "explorador(tree, \"mujeres_y_cerveza.wav\",algoritmo=\"BFS\")\n",
    "explorador(tree, \"logica_juego.py\", algoritmo=\"BFS\")\n",
    "explorador(tree, \"objetos.py\", algoritmo=\"BFS\")\n",
    "explorador(tree, \"logica_final_final.py\", algoritmo=\"BFS\")"
   ]
  },
  {
   "attachments": {},
   "cell_type": "markdown",
   "metadata": {},
   "source": [
    "Lo intentamos ahora con `DFS`"
   ]
  },
  {
   "cell_type": "code",
   "execution_count": 5,
   "metadata": {},
   "outputs": [
    {
     "name": "stdout",
     "output_type": "stream",
     "text": [
      "la ruta es: T2/main.py\n",
      "ERROR: No se encontró el archivo: luigi.png\n",
      "ERROR: No se encontró el archivo: mario.py\n",
      "la ruta es: T2/frontend/assets/imgs/mario.png\n",
      "la ruta es: T2/frontend/assets/audio/mujeres_y_cerveza.wav\n",
      "la ruta es: T2/backend/logica_juego.py\n",
      "la ruta es: T2/backend/utils/objetos.py\n",
      "ERROR: No se encontró el archivo: logica_final_final.py\n"
     ]
    }
   ],
   "source": [
    "explorador(tree, \"main.py\", algoritmo=\"DFS\")\n",
    "explorador(tree, \"luigi.png\", algoritmo=\"DFS\")\n",
    "explorador(tree, \"mario.py\", algoritmo=\"DFS\")\n",
    "explorador(tree, \"mario.png\", algoritmo=\"DFS\")\n",
    "explorador(tree, \"mujeres_y_cerveza.wav\",algoritmo=\"DFS\")\n",
    "explorador(tree, \"logica_juego.py\", algoritmo=\"DFS\")\n",
    "explorador(tree, \"objetos.py\", algoritmo=\"DFS\")\n",
    "explorador(tree, \"logica_final_final.py\", algoritmo=\"DFS\")"
   ]
  }
 ],
 "metadata": {
  "kernelspec": {
   "display_name": "Python 3",
   "language": "python",
   "name": "python3"
  },
  "language_info": {
   "codemirror_mode": {
    "name": "ipython",
    "version": 3
   },
   "file_extension": ".py",
   "mimetype": "text/x-python",
   "name": "python",
   "nbconvert_exporter": "python",
   "pygments_lexer": "ipython3",
   "version": "3.10.0"
  },
  "orig_nbformat": 4,
  "vscode": {
   "interpreter": {
    "hash": "b0fa6594d8f4cbf19f97940f81e996739fb7646882a419484c72d19e05852a7e"
   }
  }
 },
 "nbformat": 4,
 "nbformat_minor": 2
}
