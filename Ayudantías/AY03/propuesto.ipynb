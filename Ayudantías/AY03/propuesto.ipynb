{
 "cells": [
  {
   "cell_type": "markdown",
   "id": "836cc9bb",
   "metadata": {
    "slideshow": {
     "slide_type": "slide"
    }
   },
   "source": [
    "# Ejercicio Propuesto"
   ]
  },
  {
   "cell_type": "markdown",
   "id": "571f05fb",
   "metadata": {
    "slideshow": {
     "slide_type": "fragment"
    }
   },
   "source": [
    "Imagina que eres un estudiante que, dadas las circunstancias de cierto ramo (*ehem Desafíos o Innova...*) tuvo que viajar por la ciudad consiguiendo entrevistas. Terminado tu tour por la capital, debes volver a tu casa a resumir la información, pero es tarde y no sabes si el recorrido de bus todavía está en funcionamiento!"
   ]
  },
  {
   "cell_type": "markdown",
   "id": "b8b0bba0",
   "metadata": {
    "slideshow": {
     "slide_type": "slide"
    }
   },
   "source": [
    "Para ayudar a este pobre estudiante, deberás programar una versión simplificada de la app de RED, donde __dado el código de un paradero, y el número de recorrido__, el programa verifique que este se encuentre __activo__, de lo contrario le hará notar al usuario mediante un error especial llamado ```BusNotFoundError```. "
   ]
  },
  {
   "cell_type": "markdown",
   "id": "73b6148b",
   "metadata": {
    "slideshow": {
     "slide_type": "fragment"
    }
   },
   "source": [
    "Además, te gustaría que este programa te indique si ese recorrido pasa o no por el paradero introducido (porque este estudiante está cansado y quizás caminó al paradero incorrecto). Si no es el caso, se le notificará mediante el error ```StopNotFoundError```, que además debe poder __entregar información acerca del paradero__, indicando cuales son los recorridos asignados a este."
   ]
  },
  {
   "cell_type": "markdown",
   "id": "bd3e1944",
   "metadata": {
    "slideshow": {
     "slide_type": "slide"
    }
   },
   "source": [
    "### Código Entregado\n",
    "\n",
    "Para lograrlo, la app viene con las clases ```Recorrido``` y ```Paradero```. La primera tiene por atributos el número y status. La segunda, el código del paradero y los recorridos asignados.\n",
    "\n",
    "Además, se entrega el flujo que recibe el input del usuario. \n",
    "\n",
    "Todos los paraderos creados son parte de un diccionario ```paraderos```. Lo mismo con los recorridos."
   ]
  },
  {
   "cell_type": "markdown",
   "id": "cc507e7e",
   "metadata": {
    "slideshow": {
     "slide_type": "slide"
    }
   },
   "source": [
    "### Lo que necesitas hacer:\n",
    "\n",
    "Completar el método ```buscar_bus(self, paradero)``` de la clase ```Recorrido```, para lanzar las excepciones correspondientes.\n",
    "\n",
    "Completar las definiciones de los errores ```BusNotFoundError``` y ```StopNotFoundError```. Recuerda que el segundo error debe ser capaz también de dar detalles sobre el problema!\n",
    "\n",
    "Crear el flujo de programa que permita verificar si existe un bus, una vez el usuario ha introducido los datos de paradero y recorrido.\n"
   ]
  },
  {
   "cell_type": "code",
   "execution_count": 23,
   "id": "9668f8e7",
   "metadata": {
    "slideshow": {
     "slide_type": "skip"
    }
   },
   "outputs": [],
   "source": [
    "class Recorrido:\n",
    "\n",
    "    def __init__(self, numero):\n",
    "        self.numero = numero\n",
    "        self.activo = False\n",
    "\n",
    "    def activar_recorrido(self):\n",
    "        self.activo = True\n",
    "\n",
    "    def detener_recorrido(self):\n",
    "        self.activo = False\n",
    "\n",
    "\n",
    "class Paradero:\n",
    "\n",
    "    def __init__(self, codigo, recorridos):\n",
    "        self.codigo = codigo\n",
    "        self.recorridos = recorridos\n",
    "        \n",
    "    def buscar_bus(self, recorrido):\n",
    "        if not recorrido.activo:\n",
    "            ### Completar aquí\n",
    "            pass\n",
    "         \n",
    "        elif recorrido not in self.recorridos:\n",
    "            ### Completar aquí\n",
    "            pass\n",
    "        \n",
    "        else:\n",
    "            return True\n"
   ]
  },
  {
   "cell_type": "code",
   "execution_count": 24,
   "id": "14c47a2b",
   "metadata": {
    "slideshow": {
     "slide_type": "skip"
    }
   },
   "outputs": [],
   "source": [
    "\n",
    "\n",
    "class BusNotFoundError(Exception):\n",
    "    ### Completar aquí\n",
    "    pass\n",
    "\n",
    "        \n",
    "class StopNotFoundError(Exception):\n",
    "    ### Completar aquí\n",
    "    pass\n",
    "\n"
   ]
  },
  {
   "cell_type": "code",
   "execution_count": 25,
   "id": "5a597953",
   "metadata": {
    "slideshow": {
     "slide_type": "skip"
    }
   },
   "outputs": [],
   "source": [
    "# Recorridos\n",
    "\n",
    "def crear_recorrido(dict_recorridos: dict, numero: int):\n",
    "    nuevo_recorrido = Recorrido(numero)\n",
    "    dict_recorridos[str(numero)] = nuevo_recorrido\n",
    "    \n",
    "    \n",
    "recorridos = {} \n",
    "\n",
    "crear_recorrido(recorridos, 506)\n",
    "crear_recorrido(recorridos, 425)\n",
    "crear_recorrido(recorridos, 555)\n",
    "\n",
    "recorridos[\"506\"].activar_recorrido()\n",
    "recorridos[\"425\"].activar_recorrido()\n",
    "\n",
    "# Paraderos\n",
    "\n",
    "def crear_paradero(dict_paraderos: dict, codigo: str, recorridos: list):\n",
    "    nuevo_paradero = Paradero(codigo, recorridos)\n",
    "    dict_paraderos[codigo] = nuevo_paradero\n",
    "\n",
    "paraderos = {}\n",
    "\n",
    "crear_paradero(paraderos, \"A1\", [recorridos[\"506\"]])\n",
    "crear_paradero(paraderos, \"A2\", [recorridos[\"506\"]])\n",
    "crear_paradero(paraderos, \"B1\", [recorridos[\"425\"]])    \n",
    "crear_paradero(paraderos, \"B2\", [recorridos[\"425\"]])    \n",
    "crear_paradero(paraderos, \"B3\", [recorridos[\"555\"]])    \n",
    "crear_paradero(\n",
    "    paraderos, \"AB\", [recorridos[\"506\"], recorridos[\"425\"], recorridos[\"555\"]]\n",
    ")\n"
   ]
  },
  {
   "cell_type": "code",
   "execution_count": 26,
   "id": "29009167",
   "metadata": {
    "slideshow": {
     "slide_type": "slide"
    }
   },
   "outputs": [
    {
     "name": "stdout",
     "output_type": "stream",
     "text": [
      "Introduzca el código de su paradero: A1\n",
      "Introduzca el recorrido que busca: 506\n",
      "Hay buses de este recorrido para este paradero :D\n"
     ]
    }
   ],
   "source": [
    "\n",
    "continuar = True\n",
    "while continuar:\n",
    "    try:\n",
    "        paradero_str = input(\"Introduzca el código de su paradero: \")\n",
    "        recorrido_str = input(\"Introduzca el recorrido que busca: \")\n",
    "        paradero = paraderos[paradero_str.upper()]\n",
    "        recorrido = recorridos[recorrido_str]\n",
    "        continuar = False\n",
    "\n",
    "    except KeyError:\n",
    "        print(\"Datos inválidos, intente nuevamente\")\n",
    "\n",
    "        \n",
    "### Completar aquí\n"
   ]
  }
 ],
 "metadata": {
  "celltoolbar": "Slideshow",
  "kernelspec": {
   "display_name": "Python 3 (ipykernel)",
   "language": "python",
   "name": "python3"
  },
  "language_info": {
   "codemirror_mode": {
    "name": "ipython",
    "version": 3
   },
   "file_extension": ".py",
   "mimetype": "text/x-python",
   "name": "python",
   "nbconvert_exporter": "python",
   "pygments_lexer": "ipython3",
   "version": "3.10.10"
  }
 },
 "nbformat": 4,
 "nbformat_minor": 5
}
