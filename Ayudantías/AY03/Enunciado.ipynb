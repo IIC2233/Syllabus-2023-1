{
 "cells": [
  {
   "cell_type": "markdown",
   "id": "395b64e2",
   "metadata": {
    "slideshow": {
     "slide_type": "slide"
    }
   },
   "source": [
    "# Ayudantía 03: Excepciones 🤓\n",
    "\n",
    "## Autores: [@catalinamirandah](https://github.com/catalinamirandah), [@MaxAl100](https://github.com/MaxAl100) & [@fvidalf](https://github.com/fvidalf)"
   ]
  },
  {
   "cell_type": "markdown",
   "id": "33bc95cd",
   "metadata": {
    "slideshow": {
     "slide_type": "slide"
    }
   },
   "source": [
    "## ¿Qué son las excepciones? 🤔\n",
    "\n",
    "\n",
    "Las excepciones son situaciones anómalas o inesperadas que pueden ocurrir en un proceso de cómputo. Estos eventos surgen cuando ocurren condiciones que alteran el flujo normal o esperado de un programa, o alguna acción no pudo ser ejecutada tal como se esperaba. A las excepciones uno les suele llamar comúnmente como \"errores\".\n",
    "\n",
    "Para controlar las excepciones, Python utiliza un objeto llamado **Exception**. Así, cuando ocurre un error en el programa, Python crea (levanta) una excepción, la que después podemos manejar a través de un bloque **try/except**."
   ]
  },
  {
   "cell_type": "markdown",
   "id": "e952bba5",
   "metadata": {
    "slideshow": {
     "slide_type": "slide"
    }
   },
   "source": [
    "\n",
    "### ¿Qué pasa si no se maneja la excepción?\n",
    "\n",
    "Podemos ver qué ocurre con un ejemplo 👀"
   ]
  },
  {
   "cell_type": "markdown",
   "id": "091d846d",
   "metadata": {
    "slideshow": {
     "slide_type": "slide"
    }
   },
   "source": [
    "A Juanito le estaba yendo un poco mal en el semestre, por lo que creó un código para ver qué nota se debía sacar en el examen para pasar Dinámica. Él sabía que las notas se podían calcular como:\n",
    "\n",
    "NF = 25% I1 + 25% I2 + 20% Controles + 30% Examen"
   ]
  },
  {
   "cell_type": "code",
   "execution_count": 8,
   "id": "1713e0d5",
   "metadata": {
    "slideshow": {
     "slide_type": "slide"
    }
   },
   "outputs": [
    {
     "name": "stdout",
     "output_type": "stream",
     "text": [
      "Nota I1: 3\n",
      "Nota I2: 5\n",
      "Promedio controles: 3,8\n"
     ]
    },
    {
     "ename": "ValueError",
     "evalue": "could not convert string to float: '3,8'",
     "output_type": "error",
     "traceback": [
      "\u001b[1;31m---------------------------------------------------------------------------\u001b[0m",
      "\u001b[1;31mValueError\u001b[0m                                Traceback (most recent call last)",
      "Cell \u001b[1;32mIn[8], line 3\u001b[0m\n\u001b[0;32m      1\u001b[0m i1 \u001b[38;5;241m=\u001b[39m \u001b[38;5;28mfloat\u001b[39m(\u001b[38;5;28minput\u001b[39m(\u001b[38;5;124m'\u001b[39m\u001b[38;5;124mNota I1: \u001b[39m\u001b[38;5;124m'\u001b[39m))\n\u001b[0;32m      2\u001b[0m i2 \u001b[38;5;241m=\u001b[39m \u001b[38;5;28mfloat\u001b[39m(\u001b[38;5;28minput\u001b[39m(\u001b[38;5;124m'\u001b[39m\u001b[38;5;124mNota I2: \u001b[39m\u001b[38;5;124m'\u001b[39m))\n\u001b[1;32m----> 3\u001b[0m controles \u001b[38;5;241m=\u001b[39m \u001b[38;5;28;43mfloat\u001b[39;49m\u001b[43m(\u001b[49m\u001b[38;5;28;43minput\u001b[39;49m\u001b[43m(\u001b[49m\u001b[38;5;124;43m'\u001b[39;49m\u001b[38;5;124;43mPromedio controles: \u001b[39;49m\u001b[38;5;124;43m'\u001b[39;49m\u001b[43m)\u001b[49m\u001b[43m)\u001b[49m\n\u001b[0;32m      5\u001b[0m examen \u001b[38;5;241m=\u001b[39m \u001b[38;5;241m10\u001b[39m \u001b[38;5;241m*\u001b[39m (\u001b[38;5;241m4\u001b[39m \u001b[38;5;241m-\u001b[39m (i1 \u001b[38;5;241m/\u001b[39m \u001b[38;5;241m4\u001b[39m) \u001b[38;5;241m-\u001b[39m (i2 \u001b[38;5;241m/\u001b[39m \u001b[38;5;241m4\u001b[39m) \u001b[38;5;241m-\u001b[39m (controles \u001b[38;5;241m/\u001b[39m \u001b[38;5;241m5\u001b[39m)) \u001b[38;5;241m/\u001b[39m \u001b[38;5;241m3\u001b[39m\n\u001b[0;32m      7\u001b[0m \u001b[38;5;28mprint\u001b[39m(\u001b[38;5;124mf\u001b[39m\u001b[38;5;124m'\u001b[39m\u001b[38;5;124mEn el examen necesita un \u001b[39m\u001b[38;5;132;01m{\u001b[39;00m\u001b[38;5;28mround\u001b[39m(examen,\u001b[38;5;250m \u001b[39m\u001b[38;5;241m1\u001b[39m)\u001b[38;5;132;01m}\u001b[39;00m\u001b[38;5;124m'\u001b[39m)\n",
      "\u001b[1;31mValueError\u001b[0m: could not convert string to float: '3,8'"
     ]
    }
   ],
   "source": [
    "i1 = float(input('Nota I1: '))\n",
    "i2 = float(input('Nota I2: '))\n",
    "controles = float(input('Promedio controles: '))\n",
    "\n",
    "examen = 10 * (4 - (i1 / 4) - (i2 / 4) - (controles / 5)) / 3\n",
    "\n",
    "print(f'En el examen necesita un {round(examen, 1)}')"
   ]
  },
  {
   "cell_type": "markdown",
   "id": "9c2f135a",
   "metadata": {
    "slideshow": {
     "slide_type": "slide"
    }
   },
   "source": [
    "La forma correcta de escribir los números decimales en python es con un \".\", no con una \",\", por ende, el programa de Juanito le tiró un error."
   ]
  },
  {
   "cell_type": "markdown",
   "id": "ba7ae1e1",
   "metadata": {
    "slideshow": {
     "slide_type": "slide"
    }
   },
   "source": [
    "## Tipos de errores 💀\n",
    "\n",
    "### `SyntaxError`\n",
    "\n",
    "Son los errores más comunes a la hora de aprender Python. Son los que podemos apreciar repasando el código, por ejemplo al dejar un paréntesis abierto o al escribir mal un comando:"
   ]
  },
  {
   "cell_type": "code",
   "execution_count": 9,
   "id": "535f7010",
   "metadata": {
    "slideshow": {
     "slide_type": "-"
    }
   },
   "outputs": [
    {
     "ename": "SyntaxError",
     "evalue": "invalid syntax (1417785961.py, line 1)",
     "output_type": "error",
     "traceback": [
      "\u001b[1;36m  Cell \u001b[1;32mIn[9], line 1\u001b[1;36m\u001b[0m\n\u001b[1;33m    fro i in range(10):\u001b[0m\n\u001b[1;37m        ^\u001b[0m\n\u001b[1;31mSyntaxError\u001b[0m\u001b[1;31m:\u001b[0m invalid syntax\n"
     ]
    }
   ],
   "source": [
    "fro i in range(10):\n",
    "    print(\"contando\", i)"
   ]
  },
  {
   "cell_type": "markdown",
   "id": "f53c1bf9",
   "metadata": {
    "slideshow": {
     "slide_type": "slide"
    }
   },
   "source": [
    "### `NameError`\n",
    "\n",
    "Se genera cuando no se encuentra un nombre local o global. Esto se aplica solo a nombres no calificados. El valor asociado es un mensaje de error que incluye el nombre que no se pudo encontrar."
   ]
  },
  {
   "cell_type": "code",
   "execution_count": 10,
   "id": "ad745063",
   "metadata": {
    "slideshow": {
     "slide_type": "-"
    }
   },
   "outputs": [
    {
     "ename": "NameError",
     "evalue": "name 'dos' is not defined",
     "output_type": "error",
     "traceback": [
      "\u001b[1;31m---------------------------------------------------------------------------\u001b[0m",
      "\u001b[1;31mNameError\u001b[0m                                 Traceback (most recent call last)",
      "Cell \u001b[1;32mIn[10], line 2\u001b[0m\n\u001b[0;32m      1\u001b[0m uno \u001b[38;5;241m=\u001b[39m \u001b[38;5;241m1\u001b[39m\n\u001b[1;32m----> 2\u001b[0m suma \u001b[38;5;241m=\u001b[39m \u001b[38;5;241m2\u001b[39m \u001b[38;5;241m+\u001b[39m \u001b[43mdos\u001b[49m\n\u001b[0;32m      3\u001b[0m \u001b[38;5;28mprint\u001b[39m(suma)\n",
      "\u001b[1;31mNameError\u001b[0m: name 'dos' is not defined"
     ]
    }
   ],
   "source": [
    "uno = 1\n",
    "suma = 2 + dos\n",
    "print(suma)"
   ]
  },
  {
   "cell_type": "markdown",
   "id": "1fe98400",
   "metadata": {
    "slideshow": {
     "slide_type": "slide"
    }
   },
   "source": [
    "### `ZeroDivisionError`\n",
    "\n",
    "Se genera cuando el segundo argumento de una operación de división o módulo es cero. El valor asociado es una cadena que indica el tipo de operandos y la operación."
   ]
  },
  {
   "cell_type": "code",
   "execution_count": 11,
   "id": "84d14d8c",
   "metadata": {
    "slideshow": {
     "slide_type": "-"
    }
   },
   "outputs": [
    {
     "name": "stdout",
     "output_type": "stream",
     "text": [
      "0\n"
     ]
    },
    {
     "ename": "ZeroDivisionError",
     "evalue": "integer division or modulo by zero",
     "output_type": "error",
     "traceback": [
      "\u001b[1;31m---------------------------------------------------------------------------\u001b[0m",
      "\u001b[1;31mZeroDivisionError\u001b[0m                         Traceback (most recent call last)",
      "Cell \u001b[1;32mIn[11], line 5\u001b[0m\n\u001b[0;32m      2\u001b[0m   \u001b[38;5;28;01mreturn\u001b[39;00m a \u001b[38;5;241m%\u001b[39m b\n\u001b[0;32m      4\u001b[0m \u001b[38;5;28mprint\u001b[39m(modulo(\u001b[38;5;241m10\u001b[39m, \u001b[38;5;241m2\u001b[39m))\n\u001b[1;32m----> 5\u001b[0m \u001b[38;5;28mprint\u001b[39m(\u001b[43mmodulo\u001b[49m\u001b[43m(\u001b[49m\u001b[38;5;241;43m10\u001b[39;49m\u001b[43m,\u001b[49m\u001b[43m \u001b[49m\u001b[38;5;241;43m0\u001b[39;49m\u001b[43m)\u001b[49m)\n",
      "Cell \u001b[1;32mIn[11], line 2\u001b[0m, in \u001b[0;36mmodulo\u001b[1;34m(a, b)\u001b[0m\n\u001b[0;32m      1\u001b[0m \u001b[38;5;28;01mdef\u001b[39;00m \u001b[38;5;21mmodulo\u001b[39m(a, b):\n\u001b[1;32m----> 2\u001b[0m   \u001b[38;5;28;01mreturn\u001b[39;00m \u001b[43ma\u001b[49m\u001b[43m \u001b[49m\u001b[38;5;241;43m%\u001b[39;49m\u001b[43m \u001b[49m\u001b[43mb\u001b[49m\n",
      "\u001b[1;31mZeroDivisionError\u001b[0m: integer division or modulo by zero"
     ]
    }
   ],
   "source": [
    "def modulo(a, b):\n",
    "  return a % b\n",
    "\n",
    "print(modulo(10, 2))\n",
    "print(modulo(10, 0))"
   ]
  },
  {
   "cell_type": "markdown",
   "id": "1a0f28a8",
   "metadata": {
    "slideshow": {
     "slide_type": "slide"
    }
   },
   "source": [
    "### `IndexError`\n",
    "\n",
    "Se genera cuando un subíndice de secuencia está fuera del rango. (Los índices de la rebanada son truncados silenciosamente para caer en el intervalo permitido; si un índice no es un entero, se genera TypeError.)"
   ]
  },
  {
   "cell_type": "code",
   "execution_count": 12,
   "id": "9b8fbf54",
   "metadata": {
    "slideshow": {
     "slide_type": "-"
    }
   },
   "outputs": [
    {
     "ename": "IndexError",
     "evalue": "list index out of range",
     "output_type": "error",
     "traceback": [
      "\u001b[1;31m---------------------------------------------------------------------------\u001b[0m",
      "\u001b[1;31mIndexError\u001b[0m                                Traceback (most recent call last)",
      "Cell \u001b[1;32mIn[12], line 3\u001b[0m\n\u001b[0;32m      1\u001b[0m lista \u001b[38;5;241m=\u001b[39m [\u001b[38;5;241m1\u001b[39m,\u001b[38;5;241m2\u001b[39m,\u001b[38;5;241m3\u001b[39m,\u001b[38;5;241m4\u001b[39m,\u001b[38;5;241m5\u001b[39m]\n\u001b[1;32m----> 3\u001b[0m \u001b[38;5;28mprint\u001b[39m(\u001b[38;5;124mf\u001b[39m\u001b[38;5;124m\"\u001b[39m\u001b[38;5;124mValor de lista en posición (-6) es\u001b[39m\u001b[38;5;124m\"\u001b[39m, \u001b[43mlista\u001b[49m\u001b[43m[\u001b[49m\u001b[38;5;241;43m-\u001b[39;49m\u001b[38;5;241;43m6\u001b[39;49m\u001b[43m]\u001b[49m)\n",
      "\u001b[1;31mIndexError\u001b[0m: list index out of range"
     ]
    }
   ],
   "source": [
    "lista = [1, 2, 3, 4, 5]\n",
    "\n",
    "print(f\"Valor de lista en posición (-6) es\", lista[-6])"
   ]
  },
  {
   "cell_type": "markdown",
   "id": "ccece1eb",
   "metadata": {
    "slideshow": {
     "slide_type": "slide"
    }
   },
   "source": [
    "### `KeyError`\n",
    "\n",
    "Se genera cuando no se encuentra una clave de asignación (diccionario) en el conjunto de claves existentes (mapa)."
   ]
  },
  {
   "cell_type": "code",
   "execution_count": 14,
   "id": "d6afa92e",
   "metadata": {
    "slideshow": {
     "slide_type": "-"
    }
   },
   "outputs": [
    {
     "ename": "KeyError",
     "evalue": "'Argentina'",
     "output_type": "error",
     "traceback": [
      "\u001b[1;31m---------------------------------------------------------------------------\u001b[0m",
      "\u001b[1;31mKeyError\u001b[0m                                  Traceback (most recent call last)",
      "Cell \u001b[1;32mIn[14], line 6\u001b[0m\n\u001b[0;32m      3\u001b[0m capitales[\u001b[38;5;124m\"\u001b[39m\u001b[38;5;124mEspaña\u001b[39m\u001b[38;5;124m\"\u001b[39m] \u001b[38;5;241m=\u001b[39m \u001b[38;5;124m\"\u001b[39m\u001b[38;5;124mMadrid\u001b[39m\u001b[38;5;124m\"\u001b[39m\n\u001b[0;32m      4\u001b[0m capitales[\u001b[38;5;124m\"\u001b[39m\u001b[38;5;124mChile\u001b[39m\u001b[38;5;124m\"\u001b[39m] \u001b[38;5;241m=\u001b[39m \u001b[38;5;124m\"\u001b[39m\u001b[38;5;124mSantiago\u001b[39m\u001b[38;5;124m\"\u001b[39m\n\u001b[1;32m----> 6\u001b[0m \u001b[38;5;28mprint\u001b[39m(\u001b[38;5;124m\"\u001b[39m\u001b[38;5;124mLa capital de Argentina es\u001b[39m\u001b[38;5;124m\"\u001b[39m, \u001b[43mcapitales\u001b[49m\u001b[43m[\u001b[49m\u001b[38;5;124;43m\"\u001b[39;49m\u001b[38;5;124;43mArgentina\u001b[39;49m\u001b[38;5;124;43m\"\u001b[39;49m\u001b[43m]\u001b[49m)\n",
      "\u001b[1;31mKeyError\u001b[0m: 'Argentina'"
     ]
    }
   ],
   "source": [
    "capitales = dict()\n",
    "capitales[\"Francia\"] = \"Paris\"\n",
    "capitales[\"España\"] = \"Madrid\"\n",
    "capitales[\"Chile\"] = \"Santiago\"\n",
    "\n",
    "print(\"La capital de Argentina es\", capitales[\"Argentina\"])"
   ]
  },
  {
   "cell_type": "markdown",
   "id": "9b5ea778",
   "metadata": {
    "slideshow": {
     "slide_type": "slide"
    }
   },
   "source": [
    "### `AttributeError`\n",
    "\n",
    "Se genera cuando se produce un error en una referencia de atributo (ver Referencias de atributos) o la asignación falla."
   ]
  },
  {
   "cell_type": "code",
   "execution_count": 17,
   "id": "85e3fc87",
   "metadata": {
    "slideshow": {
     "slide_type": "-"
    }
   },
   "outputs": [
    {
     "ename": "AttributeError",
     "evalue": "'Estudiante' object has no attribute 'numero_estudiante'",
     "output_type": "error",
     "traceback": [
      "\u001b[1;31m---------------------------------------------------------------------------\u001b[0m",
      "\u001b[1;31mAttributeError\u001b[0m                            Traceback (most recent call last)",
      "Cell \u001b[1;32mIn[17], line 11\u001b[0m\n\u001b[0;32m      8\u001b[0m     \u001b[38;5;28mself\u001b[39m\u001b[38;5;241m.\u001b[39mpromedio \u001b[38;5;241m=\u001b[39m \u001b[38;5;28msum\u001b[39m(\u001b[38;5;28mself\u001b[39m\u001b[38;5;241m.\u001b[39mnotas)\u001b[38;5;241m/\u001b[39m\u001b[38;5;28mlen\u001b[39m(\u001b[38;5;28mself\u001b[39m\u001b[38;5;241m.\u001b[39mnotas)\n\u001b[0;32m     10\u001b[0m juanito \u001b[38;5;241m=\u001b[39m Estudiante(\u001b[38;5;124m\"\u001b[39m\u001b[38;5;124mJuanito\u001b[39m\u001b[38;5;124m\"\u001b[39m, [\u001b[38;5;241m5\u001b[39m, \u001b[38;5;241m6\u001b[39m, \u001b[38;5;241m7\u001b[39m, \u001b[38;5;241m1\u001b[39m])\n\u001b[1;32m---> 11\u001b[0m \u001b[38;5;28mprint\u001b[39m(\u001b[43mjuanito\u001b[49m\u001b[38;5;241;43m.\u001b[39;49m\u001b[43mnumero_estudiante\u001b[49m)\n",
      "\u001b[1;31mAttributeError\u001b[0m: 'Estudiante' object has no attribute 'numero_estudiante'"
     ]
    }
   ],
   "source": [
    "class Estudiante:\n",
    "  def __init__(self, nombre, notas):\n",
    "    self.nombre = nombre\n",
    "    self.notas = notas\n",
    "    self.promedio = 0\n",
    "  \n",
    "  def calcular_promedio(self):\n",
    "    self.promedio = sum(self.notas)/len(self.notas)\n",
    "\n",
    "juanito = Estudiante(\"Juanito\", [5, 6, 7, 1])\n",
    "print(juanito.numero_estudiante)"
   ]
  },
  {
   "cell_type": "markdown",
   "id": "c73f06dd",
   "metadata": {
    "slideshow": {
     "slide_type": "slide"
    }
   },
   "source": [
    "### `TypeError`\n",
    "\n",
    "Se genera cuando una operación o función se aplica a un objeto de tipo inapropiado. El valor asociado es una cadena que proporciona detalles sobre la falta de coincidencia de tipos."
   ]
  },
  {
   "cell_type": "code",
   "execution_count": 21,
   "id": "774475fd",
   "metadata": {
    "slideshow": {
     "slide_type": "-"
    }
   },
   "outputs": [
    {
     "ename": "TypeError",
     "evalue": "unsupported operand type(s) for /: 'str' and 'str'",
     "output_type": "error",
     "traceback": [
      "\u001b[1;31m---------------------------------------------------------------------------\u001b[0m",
      "\u001b[1;31mTypeError\u001b[0m                                 Traceback (most recent call last)",
      "Cell \u001b[1;32mIn[21], line 4\u001b[0m\n\u001b[0;32m      1\u001b[0m \u001b[38;5;28;01mdef\u001b[39;00m \u001b[38;5;21mdivision\u001b[39m(a, b):\n\u001b[0;32m      2\u001b[0m   \u001b[38;5;28;01mreturn\u001b[39;00m a \u001b[38;5;241m/\u001b[39m b\n\u001b[1;32m----> 4\u001b[0m \u001b[38;5;28mprint\u001b[39m(\u001b[43mdivision\u001b[49m\u001b[43m(\u001b[49m\u001b[38;5;124;43m\"\u001b[39;49m\u001b[38;5;124;43mHola\u001b[39;49m\u001b[38;5;124;43m\"\u001b[39;49m\u001b[43m,\u001b[49m\u001b[43m \u001b[49m\u001b[38;5;124;43m\"\u001b[39;49m\u001b[38;5;124;43mMundo\u001b[39;49m\u001b[38;5;124;43m\"\u001b[39;49m\u001b[43m)\u001b[49m)\n",
      "Cell \u001b[1;32mIn[21], line 2\u001b[0m, in \u001b[0;36mdivision\u001b[1;34m(a, b)\u001b[0m\n\u001b[0;32m      1\u001b[0m \u001b[38;5;28;01mdef\u001b[39;00m \u001b[38;5;21mdivision\u001b[39m(a, b):\n\u001b[1;32m----> 2\u001b[0m   \u001b[38;5;28;01mreturn\u001b[39;00m \u001b[43ma\u001b[49m\u001b[43m \u001b[49m\u001b[38;5;241;43m/\u001b[39;49m\u001b[43m \u001b[49m\u001b[43mb\u001b[49m\n",
      "\u001b[1;31mTypeError\u001b[0m: unsupported operand type(s) for /: 'str' and 'str'"
     ]
    }
   ],
   "source": [
    "def division(a, b):\n",
    "  return a / b\n",
    "\n",
    "print(division(\"Hola\", \"Mundo\"))"
   ]
  },
  {
   "cell_type": "markdown",
   "id": "b6ba51b8",
   "metadata": {
    "slideshow": {
     "slide_type": "slide"
    }
   },
   "source": [
    "### `ValueError`\n",
    "\n",
    "Se genera cuando una operación o función recibe un argumento que tiene el tipo correcto pero un valor inapropiado, y la situación no se describe con una excepción más precisa como IndexError."
   ]
  },
  {
   "cell_type": "code",
   "execution_count": 22,
   "id": "4e4bb619",
   "metadata": {
    "slideshow": {
     "slide_type": "-"
    }
   },
   "outputs": [
    {
     "name": "stdout",
     "output_type": "stream",
     "text": [
      "la raíz de 2 es 1.4142135623730951\n"
     ]
    },
    {
     "ename": "ValueError",
     "evalue": "math domain error",
     "output_type": "error",
     "traceback": [
      "\u001b[1;31m---------------------------------------------------------------------------\u001b[0m",
      "\u001b[1;31mValueError\u001b[0m                                Traceback (most recent call last)",
      "Cell \u001b[1;32mIn[22], line 6\u001b[0m\n\u001b[0;32m      3\u001b[0m raiz_de_dos \u001b[38;5;241m=\u001b[39m math\u001b[38;5;241m.\u001b[39msqrt(\u001b[38;5;241m2\u001b[39m)\n\u001b[0;32m      4\u001b[0m \u001b[38;5;28mprint\u001b[39m(\u001b[38;5;124mf\u001b[39m\u001b[38;5;124m\"\u001b[39m\u001b[38;5;124mla raíz de 2 es \u001b[39m\u001b[38;5;132;01m{\u001b[39;00mraiz_de_dos\u001b[38;5;132;01m}\u001b[39;00m\u001b[38;5;124m\"\u001b[39m)\n\u001b[1;32m----> 6\u001b[0m raiz_de_menos_dos \u001b[38;5;241m=\u001b[39m \u001b[43mmath\u001b[49m\u001b[38;5;241;43m.\u001b[39;49m\u001b[43msqrt\u001b[49m\u001b[43m(\u001b[49m\u001b[38;5;241;43m-\u001b[39;49m\u001b[38;5;241;43m2\u001b[39;49m\u001b[43m)\u001b[49m\n\u001b[0;32m      7\u001b[0m \u001b[38;5;28mprint\u001b[39m(\u001b[38;5;124mf\u001b[39m\u001b[38;5;124m\"\u001b[39m\u001b[38;5;124mla raíz de -2 es \u001b[39m\u001b[38;5;132;01m{\u001b[39;00mraiz_de_menos_dos\u001b[38;5;132;01m}\u001b[39;00m\u001b[38;5;124m\"\u001b[39m)\n",
      "\u001b[1;31mValueError\u001b[0m: math domain error"
     ]
    }
   ],
   "source": [
    "import math\n",
    "\n",
    "raiz_de_dos = math.sqrt(2)\n",
    "print(f\"la raíz de 2 es {raiz_de_dos}\")\n",
    "\n",
    "raiz_de_menos_dos = math.sqrt(-2)\n",
    "print(f\"la raíz de -2 es {raiz_de_menos_dos}\")"
   ]
  },
  {
   "cell_type": "markdown",
   "id": "24629aa4",
   "metadata": {
    "slideshow": {
     "slide_type": "slide"
    }
   },
   "source": [
    "Otros ejemplos de tipos de errores pueden ser `EOFError`, `KeyBoardInterrupt` o `RecursionError`. Para ver una lista completa puedes visitar https://docs.python.org/es/3/library/exceptions.html. (La información fue sacada de este sitio)"
   ]
  },
  {
   "cell_type": "markdown",
   "id": "5048bfb1",
   "metadata": {
    "slideshow": {
     "slide_type": "slide"
    }
   },
   "source": [
    "# Levantando excepciones: `raise`\n",
    "\n",
    "Se puede generar una excepción en el momento que queramos creando una nueva instancia de la excepción, y utilizando la sentencia **`raise`**. La forma de hacerlo es la siguiente:"
   ]
  },
  {
   "cell_type": "code",
   "execution_count": null,
   "id": "c227dd92",
   "metadata": {
    "slideshow": {
     "slide_type": "fragment"
    }
   },
   "outputs": [],
   "source": [
    "raise NombreExcepcion('Mensaje de error')"
   ]
  },
  {
   "cell_type": "markdown",
   "id": "26d3a690",
   "metadata": {
    "slideshow": {
     "slide_type": "subslide"
    }
   },
   "source": [
    "A continuación se muestra un ejemplo:"
   ]
  },
  {
   "cell_type": "code",
   "execution_count": null,
   "id": "876f995b",
   "metadata": {
    "slideshow": {
     "slide_type": "fragment"
    }
   },
   "outputs": [],
   "source": [
    "def suma(x, y):\n",
    "    \n",
    "    # Si el input no es del tipo esperado\n",
    "    check = isinstance(x, int) and isinstance(y, int)\n",
    "    if not check:\n",
    "        raise TypeError('Ambos argumentos deben ser tipo int')\n",
    "\n",
    "    return x + y"
   ]
  },
  {
   "cell_type": "code",
   "execution_count": null,
   "id": "7a790e68",
   "metadata": {
    "slideshow": {
     "slide_type": "fragment"
    }
   },
   "outputs": [],
   "source": [
    "suma(\"hola\", 3)"
   ]
  },
  {
   "cell_type": "markdown",
   "id": "50cc01dd",
   "metadata": {
    "slideshow": {
     "slide_type": "slide"
    }
   },
   "source": [
    "# Manejo de Excepciones: \n",
    "Cada vez que se **levanta** una excepción, es posible **atraparla** mediante el uso de las sentencias `try` y `except`.\n",
    "\n",
    "**Funcionamiento:** si se levanta una excepción dentro del *scope* de `try`, entonces la excepción es **capturada**, y debe seguir una o más instrucciones `except`. Si no ocurre ningún problema, el programa sigue su flujo.\n"
   ]
  },
  {
   "cell_type": "code",
   "execution_count": null,
   "id": "6ba052fb",
   "metadata": {
    "slideshow": {
     "slide_type": "fragment"
    }
   },
   "outputs": [],
   "source": [
    "A continuación veremos como se levanta una excepción *(x = 0)*:"
   ]
  },
  {
   "cell_type": "markdown",
   "id": "ab4ce7d3",
   "metadata": {
    "slideshow": {
     "slide_type": "subslide"
    }
   },
   "source": [
    "Dentro del bloque **try** ejecutamos el código que PODRÍA arrojar una excepción:"
   ]
  },
  {
   "cell_type": "code",
   "execution_count": null,
   "id": "36bba372",
   "metadata": {
    "slideshow": {
     "slide_type": "fragment"
    }
   },
   "outputs": [],
   "source": [
    "try:\n",
    "    x = 0\n",
    "    print(f\"El número elegido es {x}\")\n",
    "    print(f\"Resultado operación: {1/x}\")\n",
    "\n",
    "except (ZeroDivisionError) as error:\n",
    "    print(f\"Error: {error} -> no se puede dividir por cero\")\n",
    "\n",
    "print(\"El programa continúa después del try/except\")"
   ]
  },
  {
   "cell_type": "markdown",
   "id": "093724ad",
   "metadata": {
    "slideshow": {
     "slide_type": "fragment"
    }
   },
   "source": [
    "Mientras que en el bloque **except** se maneja la excepción que pueda ser lanzada en el bloque anterior. Si ocurre un error del tipo ZeroDivisionError, este bloque se ejecuta y el resto del programa continúa su ejecución normal.\n",
    "\n",
    "La excepción, como objeto, se puede acceder con la variable error."
   ]
  },
  {
   "cell_type": "markdown",
   "id": "d3d7f893",
   "metadata": {
    "slideshow": {
     "slide_type": "subslide"
    }
   },
   "source": [
    "También existen las sentencias complementarias **`else`** y **`finally`**:\n",
    "\n",
    "- `else`: instrucciones se ejecutarán **siempre y cuando no se haya lanzado ninguna excepción**.\n",
    "- `finally`: instrucciones se realizan **siempre, independientemente de si ocurrió una excepción o no**."
   ]
  },
  {
   "cell_type": "code",
   "execution_count": null,
   "id": "d2b8ae36",
   "metadata": {
    "scrolled": true,
    "slideshow": {
     "slide_type": "subslide"
    }
   },
   "outputs": [],
   "source": [
    "try:\n",
    "    x = 1\n",
    "    print(f\"El número elegido es {x}\")\n",
    "    print(f\"Resultado operación: {1/x}\")\n",
    "    \n",
    "except (ZeroDivisionError) as error:\n",
    "    print(f\"Error: {error}, no se puede dividir por cero\")\n",
    "\n",
    "else:\n",
    "    # Si no hay errores, se ejecuta este bloque\n",
    "    # Si se colocara un return después de la operación y esta es correcta, \n",
    "    # entonces nunca se ejecutará este punto.\n",
    "    print(\"¡Todo OK! La división se hizo correctamente\")\n",
    "        \n",
    "finally:\n",
    "    # Este bloque siempre se ejecuta\n",
    "    print(\"Recuerde SIEMPRE usar excepciones para manejar los errores de su programa\")\n",
    "\n",
    "print(\"El programa continúa después del try/except\")"
   ]
  },
  {
   "cell_type": "markdown",
   "id": "f97f06f5",
   "metadata": {
    "slideshow": {
     "slide_type": "subslide"
    }
   },
   "source": [
    "**RESUMEN:**"
   ]
  },
  {
   "cell_type": "code",
   "execution_count": null,
   "id": "3faf8667",
   "metadata": {
    "slideshow": {
     "slide_type": "fragment"
    }
   },
   "outputs": [],
   "source": [
    "try:\n",
    "    # Lineas de codigo\n",
    "except:\n",
    "    # Se ejecuta si se levanta una excepcion dentro de try\n",
    "except:\n",
    "    # Se pueden tener múltiples excepciones para distintos errores\n",
    "else:\n",
    "    # Se ejecuta si no se levanta una excepcion dentro de try\n",
    "finally:\n",
    "    # Se ejecuta SIEMPRE"
   ]
  },
  {
   "cell_type": "markdown",
   "id": "537e0c4b",
   "metadata": {
    "slideshow": {
     "slide_type": "slide"
    }
   },
   "source": [
    "# Excepciones Personalizadas"
   ]
  },
  {
   "cell_type": "markdown",
   "id": "8cf5bb02",
   "metadata": {
    "slideshow": {
     "slide_type": "fragment"
    }
   },
   "source": [
    "En python, todas las excepciones heredan de `BaseException`, y a partir de ella existen tres tipos de excepciones. Todas aquellas excepciones que se generan por errores durante la ejecución de un código son subclases de **`Exception`**."
   ]
  },
  {
   "cell_type": "markdown",
   "id": "ea39cdb5",
   "metadata": {
    "slideshow": {
     "slide_type": "fragment"
    }
   },
   "source": [
    "#### ¡Heredando de `Exception` podemos crear excepciones personalizadas!"
   ]
  },
  {
   "cell_type": "code",
   "execution_count": null,
   "id": "243d9949",
   "metadata": {
    "slideshow": {
     "slide_type": "subslide"
    }
   },
   "outputs": [],
   "source": [
    "class Excepcion1(Exception):\n",
    "    # Si no sobreescribimos nada, se hereda todo\n",
    "    # y obtenemos una excepción sin modificaciones\n",
    "    pass\n",
    "\n",
    "class Excepcion2(Exception):\n",
    "    def __init__(self, a, b):\n",
    "        #al sobreescribir __init__ podemos cambiar los parámetros\n",
    "        super().__init__(f\"Alguno de los valores ({a} o {b}) no es un número entero\")"
   ]
  },
  {
   "cell_type": "markdown",
   "id": "ce8124d5",
   "metadata": {
    "slideshow": {
     "slide_type": "subslide"
    }
   },
   "source": [
    "Usaremos las nuevas excepciones en caso de que ocurra algo indeseado en la función ```concatenar_numeros```:"
   ]
  },
  {
   "cell_type": "code",
   "execution_count": null,
   "id": "5f68e639",
   "metadata": {
    "slideshow": {
     "slide_type": "fragment"
    }
   },
   "outputs": [],
   "source": [
    "class Excepcion1(Exception):\n",
    "    # Si no sobreescribimos nada, se hereda todo\n",
    "    # y obtenemos una excepción sin modificaciones\n",
    "    pass\n",
    "\n",
    "class Excepcion2(Exception):\n",
    "    def __init__(self, a, b):\n",
    "        #al sobreescribir __init__ podemos cambiar los parámetros\n",
    "        super().__init__(f\"Alguno de los valores ({a} o {b}) no es un número entero\")\n",
    "\n",
    "def concatenar_numeros(a, b):\n",
    "    if (not isinstance(a, int)) or (not isinstance(b, int)):\n",
    "        # si alguno de los valores NO es entero se levanta la Excepcion2\n",
    "        raise Excepcion2(a, b)\n",
    "    \n",
    "    if a < 0 or b < 0:\n",
    "        # si alguno de los valores es negativo se levanta la Excepcion1\n",
    "        raise Excepcion1(\"¡no pueden haber valores negativos!\")\n",
    "    \n",
    "    # se retorna los números concatenados\n",
    "    c = str(a) + str(b)\n",
    "    return int(c)"
   ]
  },
  {
   "cell_type": "markdown",
   "id": "0a7e9e8e",
   "metadata": {
    "slideshow": {
     "slide_type": "subslide"
    }
   },
   "source": [
    "Probemos algunos ejemplos:"
   ]
  },
  {
   "cell_type": "code",
   "execution_count": null,
   "id": "6b8daca4",
   "metadata": {
    "slideshow": {
     "slide_type": "fragment"
    }
   },
   "outputs": [],
   "source": [
    "# Este ejemplo lanza una Excepcion1\n",
    "try:\n",
    "    print(concatenar_numeros(-73, 4))\n",
    "\n",
    "except Excepcion1 as err:\n",
    "    # Este bloque opera para la Excepcion1\n",
    "    print(f\"Error: {err}\")\n",
    "\n",
    "except Excepcion2 as err:\n",
    "    # Este bloque opera para Excepcion2 cuando los datos no son enteros\n",
    "    print(f\"Error: {err}\")"
   ]
  },
  {
   "cell_type": "code",
   "execution_count": null,
   "id": "34b01839",
   "metadata": {
    "slideshow": {
     "slide_type": "subslide"
    }
   },
   "outputs": [],
   "source": [
    "# Este ejempo lanza una Excepcion2\n",
    "try:\n",
    "    print(concatenar_numeros(\"alo\", 4))\n",
    "\n",
    "except Excepcion1 as err:\n",
    "    # Este bloque opera para la Excepcion1\n",
    "    print(f\"Error: {err}\")\n",
    "\n",
    "except Excepcion2 as err:\n",
    "    # Este bloque opera para Excepcion2 cuando los datos no son enteros\n",
    "    print(f\"Error: {err}\")"
   ]
  },
  {
   "cell_type": "markdown",
   "id": "693ae5c6",
   "metadata": {
    "slideshow": {
     "slide_type": "subslide"
    }
   },
   "source": [
    "También podemos definir comportamientos tal que nos permitan **recuperar información** a partir del error:"
   ]
  },
  {
   "cell_type": "code",
   "execution_count": null,
   "id": "fae4e28f",
   "metadata": {
    "slideshow": {
     "slide_type": "fragment"
    }
   },
   "outputs": [],
   "source": [
    "class ErrorSalarioFueraDeRango(Exception):\n",
    "\n",
    "    def __init__(self, salario, minimo, maximo):\n",
    "        # inicializamos la superclase\n",
    "        super().__init__(f\"El salario ${salario} es inválido\")\n",
    "\n",
    "        self.salario = salario\n",
    "        self.minimo = minimo\n",
    "        self.maximo = maximo\n",
    "\n",
    "    def diferencia(self):\n",
    "        #retorna la diferencia entre el salario y el rango (minimo, maximo)\n",
    "        if self.salario < self.minimo:\n",
    "            dif = self.minimo - self.salario\n",
    "        \n",
    "        if self.salario > self.maximo:\n",
    "            dif = self.salario - self.maximo\n",
    "        return dif\n",
    "\n",
    "    def arriba_o_abajo(self):\n",
    "        # retorna \"abajo\" si el salario es menor que el mínimo \n",
    "        if self.salario < self.minimo:\n",
    "            return \"abajo\"\n",
    "        \n",
    "        # retorna \"arriba\" si el salario es mayor que el máximo\n",
    "        if self.salario > self.maximo:\n",
    "            return \"arriba\""
   ]
  },
  {
   "cell_type": "markdown",
   "id": "ac4e62f7",
   "metadata": {
    "slideshow": {
     "slide_type": "subslide"
    }
   },
   "source": [
    "Incorporaremos este error personalizado a una nueva función ```definir_salario```. El error se **lanzará** si el último no es válido:"
   ]
  },
  {
   "cell_type": "code",
   "execution_count": null,
   "id": "1d65acec",
   "metadata": {
    "slideshow": {
     "slide_type": "fragment"
    }
   },
   "outputs": [],
   "source": [
    "def definir_salario(salario):\n",
    "\n",
    "    smin = 5000\n",
    "    smax = 15000\n",
    "\n",
    "    if salario < smin or salario > smax:\n",
    "        raise ErrorSalarioFueraDeRango(salario, smin, smax)\n",
    "    return \"¡Salario definido correctamente!\""
   ]
  },
  {
   "cell_type": "markdown",
   "id": "d5f600f4",
   "metadata": {
    "slideshow": {
     "slide_type": "subslide"
    }
   },
   "source": [
    "Probemos el siguiente ejemplo:"
   ]
  },
  {
   "cell_type": "code",
   "execution_count": null,
   "id": "1170f3a2",
   "metadata": {
    "slideshow": {
     "slide_type": "fragment"
    }
   },
   "outputs": [],
   "source": [
    "#Este ejemplo lanza la excepción ErrorSalarioFueraDeRango\n",
    "try:\n",
    "    s = 23150\n",
    "    print(definir_salario(s))\n",
    "\n",
    "except ErrorSalarioFueraDeRango as err:\n",
    "    # Atrapamos el error y lo usamos para encontrar información acerca de éste: \n",
    "    # como la diferencia entre el salario ingresado y el rango permitido\n",
    "    # y obtener si está por \"arriba\" o \"abajo\" de éste\n",
    "    print(f\"Error: {err}. Está ${err.diferencia()} por {err.arriba_o_abajo()} del rango permitido.\")\n",
    "\n"
   ]
  },
  {
   "cell_type": "markdown",
   "id": "358ef7a3",
   "metadata": {
    "slideshow": {
     "slide_type": "subslide"
    }
   },
   "source": [
    "## ¡Ahora puedes crear tus propias excepciones personalizadas!"
   ]
  }
 ],
 "metadata": {
  "celltoolbar": "Slideshow",
  "kernelspec": {
   "display_name": "Python 3 (ipykernel)",
   "language": "python",
   "name": "python3"
  },
  "language_info": {
   "codemirror_mode": {
    "name": "ipython",
    "version": 3
   },
   "file_extension": ".py",
   "mimetype": "text/x-python",
   "name": "python",
   "nbconvert_exporter": "python",
   "pygments_lexer": "ipython3",
   "version": "3.10.10"
  }
 },
 "nbformat": 4,
 "nbformat_minor": 5
}
