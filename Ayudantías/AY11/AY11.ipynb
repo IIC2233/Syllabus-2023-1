{
 "cells": [
  {
   "attachments": {},
   "cell_type": "markdown",
   "metadata": {},
   "source": [
    "# Ayudantía 11: \n",
    "## Iterables y Funcionales\n",
    "### Autores: [Patricio Hinostroza](https://github.com/dvckhv) - [Lucas VSJ](https://github.com/lucasvsj)"
   ]
  },
  {
   "attachments": {},
   "cell_type": "markdown",
   "metadata": {},
   "source": [
    "## Contenidos:\n",
    "\n",
    "- Iterables\n",
    "- Generadores\n",
    "- lambda functions\n",
    "- map - filter - reduce\n"
   ]
  },
  {
   "attachments": {},
   "cell_type": "markdown",
   "metadata": {},
   "source": [
    "# Iterables"
   ]
  },
  {
   "attachments": {},
   "cell_type": "markdown",
   "metadata": {},
   "source": [
    "## Iterar\n",
    "\n",
    "Antes de comenzar la ayudantía, definamos el concepto de **Iterar**.\n",
    "\n",
    "Segun [Wikipedia](https://es.wikipedia.org/wiki/Iteraci%C3%B3n), podemos definir **iteración** como: \n",
    "\n",
    "\"...repetir varias veces un proceso con la intención de alcanzar una meta deseada, objetivo o resultado\"\n",
    "\n",
    "Ahora llevándolo a código, **iterar** sería poder acceder a los elementos de una estructura de datos aplicando esencialmente algún algoritmo. "
   ]
  },
  {
   "attachments": {},
   "cell_type": "markdown",
   "metadata": {},
   "source": [
    "## Ahora veámoslo en nuestra propia estructura de datos\n",
    "Utilicemos una estructura de datos que ya conocemos, una `Lista Ligada`. Como ya vimos en ayudantias pasadas, podemos almacenar datos de manera secuencial en ella, pero la forma de acceder a ellos es un poco ineficiente, ya que debemos acceder a cada `Nodo` para poder avanzar hacia el siguiente."
   ]
  },
  {
   "cell_type": "code",
   "execution_count": 1,
   "metadata": {},
   "outputs": [],
   "source": [
    "class Nodo:\n",
    "    \n",
    "    def __init__(self, valor, siguiente):\n",
    "        # Cada nodo contiene un valor...\n",
    "        self.valor = valor\n",
    "        # ... y referencia al siguiente Nodo\n",
    "        self.siguiente = siguiente\n",
    "    \n",
    "    def __repr__(self):\n",
    "        return f\"{self.valor}\""
   ]
  },
  {
   "cell_type": "code",
   "execution_count": 2,
   "metadata": {},
   "outputs": [
    {
     "name": "stdout",
     "output_type": "stream",
     "text": [
      "1, 2, 3\n"
     ]
    }
   ],
   "source": [
    "# Avanzar de un nodo a otro\n",
    "my_ll = Nodo(1, Nodo(2, Nodo(3, Nodo(4, Nodo(5, None)))))\n",
    "valor_0 = my_ll.valor\n",
    "valor_1 = my_ll.siguiente.valor\n",
    "valor_2 = my_ll.siguiente.siguiente.valor\n",
    "print(f\"{valor_0}, {valor_1}, {valor_2}\")"
   ]
  },
  {
   "attachments": {},
   "cell_type": "markdown",
   "metadata": {},
   "source": [
    "Podemos notar que este método se vuelve tedioso rápidamente a medida que queremos ir accediendo a datos que se encuentran más lejanos a la cabeza de nuestra `Lista Ligada`. Para solucionar esto, la mejor forma que tenemos es *iterar* sobre la estructura, pero actualmente no podemos hacerlo."
   ]
  },
  {
   "cell_type": "code",
   "execution_count": 3,
   "metadata": {},
   "outputs": [
    {
     "ename": "TypeError",
     "evalue": "'Nodo' object is not iterable",
     "output_type": "error",
     "traceback": [
      "\u001b[1;31m---------------------------------------------------------------------------\u001b[0m",
      "\u001b[1;31mTypeError\u001b[0m                                 Traceback (most recent call last)",
      "\u001b[1;32mc:\\Users\\Pato\\Desktop\\Universida\\2023-1\\Ayudantias\\private\\Ayudantias\\AY11\\AY11.ipynb Cell 9\u001b[0m in \u001b[0;36m<cell line: 1>\u001b[1;34m()\u001b[0m\n\u001b[1;32m----> <a href='vscode-notebook-cell:/c%3A/Users/Pato/Desktop/Universida/2023-1/Ayudantias/private/Ayudantias/AY11/AY11.ipynb#X11sZmlsZQ%3D%3D?line=0'>1</a>\u001b[0m \u001b[39mfor\u001b[39;00m item \u001b[39min\u001b[39;00m my_ll:\n\u001b[0;32m      <a href='vscode-notebook-cell:/c%3A/Users/Pato/Desktop/Universida/2023-1/Ayudantias/private/Ayudantias/AY11/AY11.ipynb#X11sZmlsZQ%3D%3D?line=1'>2</a>\u001b[0m     \u001b[39mprint\u001b[39m(item)\n",
      "\u001b[1;31mTypeError\u001b[0m: 'Nodo' object is not iterable"
     ]
    }
   ],
   "source": [
    "for item in my_ll:\n",
    "    print(item)"
   ]
  },
  {
   "attachments": {},
   "cell_type": "markdown",
   "metadata": {},
   "source": [
    "Para poder solucionar esto, debemos \"transformar\" nuestra estructura en un `Iterable`, para así, poder **iterar** sobre esta."
   ]
  },
  {
   "attachments": {},
   "cell_type": "markdown",
   "metadata": {},
   "source": [
    "## Iterables\n",
    "\n",
    "Un `Iterable` es una estructura de datos sobre la cual podemos **iterar**, es decir, acceder a sus elementos de manera secuencial.\n",
    "\n",
    "\n",
    "### Build-ins iterables\n",
    "- Listas\n",
    "- Sets\n",
    "- Diccionarios\n",
    "- Deque\n",
    "- Strings\n",
    "\n",
    "Un iterable tiene definido el metodo `__iter__()` para poder ser iterable. Veamos el `Iterable` más famoso de `Python`, la `lista`. "
   ]
  },
  {
   "cell_type": "code",
   "execution_count": 4,
   "metadata": {},
   "outputs": [
    {
     "name": "stdout",
     "output_type": "stream",
     "text": [
      "__iter__\n",
      "46\n"
     ]
    }
   ],
   "source": [
    "my_lista = [1,2,3]\n",
    "l = [print(char) if char == '__iter__' else None for char in my_lista.__dir__()]\n",
    "print(len(l))"
   ]
  },
  {
   "attachments": {},
   "cell_type": "markdown",
   "metadata": {},
   "source": [
    "Como podemos ver a continuación, podemos **iterar** sobre `my_lista`"
   ]
  },
  {
   "cell_type": "code",
   "execution_count": 5,
   "metadata": {},
   "outputs": [
    {
     "name": "stdout",
     "output_type": "stream",
     "text": [
      "1\n",
      "2\n",
      "3\n"
     ]
    }
   ],
   "source": [
    "for elem in my_lista:\n",
    "    print(elem)"
   ]
  },
  {
   "attachments": {},
   "cell_type": "markdown",
   "metadata": {},
   "source": [
    "Esto lo logramos gracias al `Iterador` que está dentro de nustro `Iterable` (`my_lista`)."
   ]
  },
  {
   "cell_type": "code",
   "execution_count": 6,
   "metadata": {},
   "outputs": [
    {
     "name": "stdout",
     "output_type": "stream",
     "text": [
      "<list_iterator object at 0x000001837C706220>\n"
     ]
    }
   ],
   "source": [
    "print(my_lista.__iter__())"
   ]
  },
  {
   "attachments": {},
   "cell_type": "markdown",
   "metadata": {},
   "source": [
    "## Iteradores\n",
    "\n",
    "- Se define como un objeto que itera sobre un iterable.\n",
    "\n",
    "- El método `__iter__()` de un `Iterable` **debe** retonar su `Iterador`  y este debe tener definido el método `__next__()`.\n",
    "\n",
    "- Cuando el `Iterable` no tiene más elementos por recorrer con el método `__next__()` el objeto debe levantar una excepción del tipo `StopIteration`"
   ]
  },
  {
   "cell_type": "code",
   "execution_count": 7,
   "metadata": {},
   "outputs": [
    {
     "name": "stdout",
     "output_type": "stream",
     "text": [
      "<class 'list_iterator'>\n",
      "0, 1, 2, 3, 4, 5, 6, 7, 8, "
     ]
    },
    {
     "ename": "StopIteration",
     "evalue": "",
     "output_type": "error",
     "traceback": [
      "\u001b[1;31m---------------------------------------------------------------------------\u001b[0m",
      "\u001b[1;31mStopIteration\u001b[0m                             Traceback (most recent call last)",
      "\u001b[1;32mc:\\Users\\Pato\\Desktop\\Universida\\2023-1\\Ayudantias\\private\\Ayudantias\\AY11\\AY11.ipynb Cell 18\u001b[0m in \u001b[0;36m<cell line: 4>\u001b[1;34m()\u001b[0m\n\u001b[0;32m      <a href='vscode-notebook-cell:/c%3A/Users/Pato/Desktop/Universida/2023-1/Ayudantias/private/Ayudantias/AY11/AY11.ipynb#X23sZmlsZQ%3D%3D?line=2'>3</a>\u001b[0m \u001b[39mprint\u001b[39m(\u001b[39mtype\u001b[39m(iterador))\n\u001b[0;32m      <a href='vscode-notebook-cell:/c%3A/Users/Pato/Desktop/Universida/2023-1/Ayudantias/private/Ayudantias/AY11/AY11.ipynb#X23sZmlsZQ%3D%3D?line=3'>4</a>\u001b[0m \u001b[39mfor\u001b[39;00m _ \u001b[39min\u001b[39;00m \u001b[39mrange\u001b[39m(\u001b[39m10\u001b[39m):\n\u001b[1;32m----> <a href='vscode-notebook-cell:/c%3A/Users/Pato/Desktop/Universida/2023-1/Ayudantias/private/Ayudantias/AY11/AY11.ipynb#X23sZmlsZQ%3D%3D?line=4'>5</a>\u001b[0m     \u001b[39mprint\u001b[39m(\u001b[39mnext\u001b[39;49m(iterador),end \u001b[39m=\u001b[39m \u001b[39m\"\u001b[39m\u001b[39m, \u001b[39m\u001b[39m\"\u001b[39m)\n",
      "\u001b[1;31mStopIteration\u001b[0m: "
     ]
    }
   ],
   "source": [
    "L = list(range(9))\n",
    "iterador = iter(L)\n",
    "print(type(iterador))\n",
    "for _ in range(10):\n",
    "    print(next(iterador),end = \", \")"
   ]
  },
  {
   "attachments": {},
   "cell_type": "markdown",
   "metadata": {},
   "source": [
    "### Los iteradores se \"consumen\"\n",
    "\n",
    "Cada vez que iteramos sobre una estructura de datos debemos generar un nuevo `Iterador`, debido a que estos no se reinician una vez terminan de recorrer el objeto:"
   ]
  },
  {
   "cell_type": "code",
   "execution_count": 8,
   "metadata": {},
   "outputs": [
    {
     "ename": "StopIteration",
     "evalue": "",
     "output_type": "error",
     "traceback": [
      "\u001b[1;31m---------------------------------------------------------------------------\u001b[0m",
      "\u001b[1;31mStopIteration\u001b[0m                             Traceback (most recent call last)",
      "\u001b[1;32mc:\\Users\\Pato\\Desktop\\Universida\\2023-1\\Ayudantias\\private\\Ayudantias\\AY11\\AY11.ipynb Cell 20\u001b[0m in \u001b[0;36m<cell line: 1>\u001b[1;34m()\u001b[0m\n\u001b[1;32m----> <a href='vscode-notebook-cell:/c%3A/Users/Pato/Desktop/Universida/2023-1/Ayudantias/private/Ayudantias/AY11/AY11.ipynb#X25sZmlsZQ%3D%3D?line=0'>1</a>\u001b[0m \u001b[39mprint\u001b[39m(\u001b[39mnext\u001b[39;49m(iterador),end \u001b[39m=\u001b[39m \u001b[39m\"\u001b[39m\u001b[39m, \u001b[39m\u001b[39m\"\u001b[39m)\n",
      "\u001b[1;31mStopIteration\u001b[0m: "
     ]
    }
   ],
   "source": [
    "print(next(iterador),end = \", \")\n"
   ]
  },
  {
   "attachments": {},
   "cell_type": "markdown",
   "metadata": {},
   "source": [
    "## Podemos crear una estructura iterable\n",
    "\n",
    "Como mencionamos, para crear nuestro propio Iterable, necesitamos 2 conceptos claves:\n",
    "\n",
    "* Almacenar el objeto sobre el cual queremos iterar (en nuestro caso seria la `Lista Ligada`).\n",
    "* Implementar un `Iterador` dentro del método `__iter__`, el cual se encargara de iterar sobre nuestro `Iterable`."
   ]
  },
  {
   "attachments": {},
   "cell_type": "markdown",
   "metadata": {},
   "source": [
    "Comenzamos creando nuestro propio `Iterador`, el cual presenta 3 conceptos claves:\n",
    "\n",
    "* Almacenar el `Iterable` dentro de suyo.\n",
    "* Implementar el método `__iter__`, el cual solo retorna a sí mismo\n",
    "* Implementar el método `__next__`, el cual se encarga de entregar el siguiente elemento del Iterable y de levantar una `Exception` si es que se llega al final de nuestro Iterable (no quedan más elementos por los cuales iterar).\n"
   ]
  },
  {
   "cell_type": "code",
   "execution_count": 9,
   "metadata": {},
   "outputs": [],
   "source": [
    "class ListaLigada:\n",
    "    \n",
    "    def __init__(self, objeto):\n",
    "        self.cabeza = objeto\n",
    "    \n",
    "    def __iter__(self):\n",
    "        return IteradorLL(self.cabeza)\n",
    "    \n",
    "class IteradorLL:\n",
    "    \n",
    "    def __init__(self, iterable):\n",
    "        self.iterable = iterable\n",
    "    \n",
    "    def __iter__(self): # Siempre un iterador se retorna a si mismo aquí\n",
    "        return self\n",
    "    \n",
    "    def __next__(self, echo=False): \n",
    "        if self.iterable is None:\n",
    "            # Levantamos una excepción del tipo StopIteration\n",
    "            # con el mensaje \"Llegamos al final\".\n",
    "            raise StopIteration(\"Llegamos al final\")\n",
    "        else:\n",
    "            if echo:\n",
    "                print(\"Vamos a ir a buscar el siguiente Nodo de la LL\")           \n",
    "            valor = self.iterable\n",
    "            self.iterable = valor.siguiente\n",
    "            return valor"
   ]
  },
  {
   "attachments": {},
   "cell_type": "markdown",
   "metadata": {},
   "source": [
    "### Iteremos sobre nuestra Lista Ligada "
   ]
  },
  {
   "cell_type": "code",
   "execution_count": 10,
   "metadata": {},
   "outputs": [
    {
     "name": "stdout",
     "output_type": "stream",
     "text": [
      "1\n",
      "2\n",
      "3\n",
      "4\n",
      "5\n",
      "EMPEZAMOS DENUEVO\n",
      "1\n",
      "2\n",
      "3\n",
      "4\n",
      "5\n"
     ]
    }
   ],
   "source": [
    "iterable = ListaLigada(my_ll)\n",
    "for i in iterable:\n",
    "    print(i)\n",
    "\n",
    "print(\"EMPEZAMOS DE NUEVO\")\n",
    "for i in iterable:\n",
    "    print(i)"
   ]
  },
  {
   "attachments": {},
   "cell_type": "markdown",
   "metadata": {},
   "source": [
    "## Ya podemos iterar sobre nuestra propia estructura de datos!\n"
   ]
  },
  {
   "attachments": {},
   "cell_type": "markdown",
   "metadata": {},
   "source": [
    "## Generadores"
   ]
  },
  {
   "attachments": {},
   "cell_type": "markdown",
   "metadata": {},
   "source": [
    "Los generadores son un caso especial de los iteradores. Los generadores nos permiten iterar sobre secuencias de datos sin la necesidad de almacenarlos en alguna estructura especial, evitando el uso innecesario de memoria"
   ]
  },
  {
   "cell_type": "code",
   "execution_count": 11,
   "metadata": {},
   "outputs": [
    {
     "name": "stdout",
     "output_type": "stream",
     "text": [
      "<class 'generator'>\n",
      "0\n",
      "1\n"
     ]
    }
   ],
   "source": [
    "gen = (i for i in range(10))\n",
    "print(type(gen))\n",
    "print(next(gen))\n",
    "print(next(gen))"
   ]
  },
  {
   "attachments": {},
   "cell_type": "markdown",
   "metadata": {},
   "source": [
    "## Uso de memoria"
   ]
  },
  {
   "cell_type": "code",
   "execution_count": 12,
   "metadata": {},
   "outputs": [
    {
     "name": "stdout",
     "output_type": "stream",
     "text": [
      "Comparando Tamaño 1\n",
      "Tamaño Generador en bytes:112\n",
      "Tamaño lista en bytes:88\n",
      "----------\n",
      "Comparando Tamaño 10\n",
      "Tamaño Generador en bytes:112\n",
      "Tamaño lista en bytes:184\n",
      "----------\n",
      "Comparando Tamaño 100\n",
      "Tamaño Generador en bytes:112\n",
      "Tamaño lista en bytes:904\n",
      "----------\n",
      "Comparando Tamaño 1000\n",
      "Tamaño Generador en bytes:112\n",
      "Tamaño lista en bytes:9016\n",
      "----------\n"
     ]
    }
   ],
   "source": [
    "from sys import getsizeof\n",
    "for size in range(4):\n",
    "    print(f\"Comparando Tamaño {10**size}\")\n",
    "    g = (i**2 for i in range(10**size))\n",
    "    print(\"Tamaño Generador en bytes:\" + str(getsizeof(g)))\n",
    "    l = [i**2 for i in range(10**size)]\n",
    "    print(\"Tamaño lista en bytes:\" + str(getsizeof(l)))\n",
    "    print(\"-\"*10)"
   ]
  },
  {
   "attachments": {},
   "cell_type": "markdown",
   "metadata": {},
   "source": [
    "## Funciones Generadoras\n",
    "\n",
    "Las funciones en Python también tienen la posibilidad de funcionar como generadores, con la sentencia `yield`. \n",
    "\n",
    "El *statement* `yield` se encarga de **retornar** el valor, pero además guarda un estado, por lo que el siguiente llamado a la función partirá donde quedó en el llamado anterior. "
   ]
  },
  {
   "attachments": {},
   "cell_type": "markdown",
   "metadata": {},
   "source": [
    "### Creemos un generador para nuestra lista ligada"
   ]
  },
  {
   "cell_type": "code",
   "execution_count": 13,
   "metadata": {},
   "outputs": [
    {
     "name": "stdout",
     "output_type": "stream",
     "text": [
      "<generator object recorrido_LL at 0x000001837E2C92E0>\n",
      "Primera iteración\n",
      "1 2 3 4 5 \n",
      "Segunda iteración\n",
      "Los generadores se Consumen\n",
      "[1, 2, 3, 4, 5]\n",
      "[]\n"
     ]
    }
   ],
   "source": [
    "from copy import deepcopy\n",
    "def recorrido_LL(LL):\n",
    "    nodo = LL.cabeza\n",
    "    while nodo != None:\n",
    "        yield nodo.valor\n",
    "        nodo = nodo.siguiente\n",
    "\n",
    "gen = recorrido_LL(ListaLigada(my_ll)) #no comienza iterando!\n",
    "print(gen)\n",
    "print(\"Primera iteración\")\n",
    "for valor in gen:\n",
    "    print(valor,end = \" \")\n",
    "print(\"\\nSegunda iteración\")\n",
    "\n",
    "for valor in gen:\n",
    "    print(valor,end = \" \")\n",
    "print(\"Los generadores se Consumen\")\n",
    "\n",
    "gen = recorrido_LL(ListaLigada(my_ll)) \n",
    "print(list(gen))\n",
    "print(list(gen))"
   ]
  },
  {
   "attachments": {},
   "cell_type": "markdown",
   "metadata": {},
   "source": [
    "## Enviar valores a Funciones Generadoras\n",
    "\n",
    "Al igual que es posible sacar elementos de mi generador, tambien puedo enviarle información para cada iteración gracias al *statement* `yield` y el método `.send(data)` propio del generador."
   ]
  },
  {
   "cell_type": "code",
   "execution_count": 14,
   "metadata": {},
   "outputs": [
    {
     "name": "stdout",
     "output_type": "stream",
     "text": [
      "se crea el generador\n",
      "aun no se inicia\n",
      "Iniciamos generador\n",
      "se añadió el nodo de valor 3 a la cola\n",
      "se añadió el nodo de valor 4 a la cola\n",
      "se añadió el nodo de valor 5 a la cola\n",
      "se añadió el nodo de valor 6 a la cola\n",
      "se añadió el nodo de valor 7 a la cola\n",
      "se añadió el nodo de valor 8 a la cola\n",
      "se añadió el nodo de valor 9 a la cola\n",
      "ahora iteramos en nuestra Lista Ligada\n",
      "1, 3, 4, 5, 6, 7, 8, 9, "
     ]
    }
   ],
   "source": [
    "class ListaLigada_V2:\n",
    "    def __init__(self,nodo):\n",
    "        self.cabeza = nodo\n",
    "        self.cola = nodo\n",
    "    # ahora ponemos nuestro metodo generador como __iter__\n",
    "    def __iter__(self):\n",
    "        nodo = self.cabeza\n",
    "        while nodo != None:\n",
    "            yield nodo\n",
    "            nodo = nodo.siguiente\n",
    "\n",
    "    def añadir_nodo(self):\n",
    "        print(\"Iniciamos generador\")\n",
    "        while True:\n",
    "            nodo = yield\n",
    "            self.cola.siguiente = nodo\n",
    "            self.cola = self.cola.siguiente\n",
    "            print(f\"se añadió el nodo de valor {nodo.valor} a la cola\")\n",
    "\n",
    "my_LL2 = ListaLigada_V2(Nodo(1,None))\n",
    "print(\"se crea el generador\")\n",
    "manejo_nodos = my_LL2.añadir_nodo()\n",
    "print(\"aun no se inicia\")\n",
    "next(manejo_nodos)\n",
    "\n",
    "for i in range(3,10):\n",
    "    manejo_nodos.send(Nodo(i,None))\n",
    "\n",
    "print(\"ahora iteramos en nuestra Lista Ligada\")\n",
    "for nodo in my_LL2:\n",
    "    print(nodo.valor,end = \", \")\n",
    "            \n"
   ]
  },
  {
   "attachments": {},
   "cell_type": "markdown",
   "metadata": {},
   "source": [
    "## Built-ins \n",
    "\n",
    "Python tiene muchas funciones *built-ins utiles*, veremos los siguientes:\n",
    "- `__getitem__`: permite acceder a elementos de algun objeto mediante el método de indexación, las `Listas` y `Strings` tienen este método definido.\n",
    "\n",
    "- `__len__`: permite retornar el largo de un objeto, viene definida en todos las estructuras *built-in* de python\n",
    "- `__reversed__`: permite retornar una copia de un objeto iterable en orden inverso, es necesario que `__getitem__` y `__len__` se encuentren definidos por defecto. Se puede hacer *override*.\n",
    "\n",
    "- `enumerate`: retorna una tupla, en la que el primer elemento es el índice que va enumerando, y el segundo es el ítem original que está siendo numerado.\n",
    "\n",
    "- `zip`: toma dos o más iterables y junta su contenido en tuplas por índice."
   ]
  },
  {
   "attachments": {},
   "cell_type": "markdown",
   "metadata": {},
   "source": [
    "### Implementemos algunos *Built-ins* en nuestra Lista Ligada"
   ]
  },
  {
   "cell_type": "code",
   "execution_count": 15,
   "metadata": {},
   "outputs": [
    {
     "name": "stdout",
     "output_type": "stream",
     "text": [
      "se añadió el nodo de valor 3 a la cola\n",
      "se añadió el nodo de valor 4 a la cola\n",
      "se añadió el nodo de valor 5 a la cola\n",
      "se añadió el nodo de valor 6 a la cola\n",
      "se añadió el nodo de valor 7 a la cola\n",
      "se añadió el nodo de valor 8 a la cola\n",
      "se añadió el nodo de valor 9 a la cola\n",
      "8\n",
      "el cuarto elemento de mi Lista Ligada es 6\n",
      "[1, 3, 4, 5, 6, 7, 8, 9]\n",
      "[9, 8, 7, 6, 5, 4, 3, 1]\n",
      "43\n"
     ]
    }
   ],
   "source": [
    "class ListaLigada_V3:\n",
    "    def __init__(self,nodo):\n",
    "        self.cabeza = nodo\n",
    "        self.cola = nodo\n",
    "    def __iter__(self):\n",
    "        nodo = self.cabeza\n",
    "        while nodo != None:\n",
    "            yield nodo\n",
    "            nodo = nodo.siguiente\n",
    "\n",
    "    def añadir_nodo(self):\n",
    "        while True:\n",
    "            nodo = yield\n",
    "            self.cola.siguiente = nodo\n",
    "            self.cola = self.cola.siguiente\n",
    "            print(f\"se añadió el nodo de valor {nodo.valor} a la cola\")\n",
    "            \n",
    "    #nos aprovechamos de que las listas ya tienen esto implementado\n",
    "    # podemos hacerlo \"a mano\" pero es mas largo\n",
    "\n",
    "    def __len__(self):\n",
    "        gen = iter(self)\n",
    "        return len(list(gen))\n",
    "\n",
    "    def __getitem__(self,i):\n",
    "        gen = iter(self)\n",
    "        return list(gen)[i]\n",
    "\n",
    " # podemos definir conversión de tipos tambien\n",
    "    def __list__(self):\n",
    "        return list(iter(self)) \n",
    "\n",
    "    def __int__(self):\n",
    "        suma = 0\n",
    "        for nodo in self:\n",
    "            suma+=nodo.valor\n",
    "        return suma\n",
    "\n",
    "LL_3 = ListaLigada_V3(Nodo(1,None))\n",
    "manejo_nodos = LL_3.añadir_nodo()\n",
    "next(manejo_nodos)\n",
    "list(manejo_nodos.send(Nodo(i,None)) for i in range(3,10)) # esto tambien es un \n",
    "\n",
    "print(len(LL_3))\n",
    "print(\"el cuarto elemento de mi Lista Ligada es\",LL_3[4])\n",
    "print(list(LL_3))\n",
    "print(list(reversed(LL_3)))\n",
    "print(int(LL_3))"
   ]
  },
  {
   "attachments": {},
   "cell_type": "markdown",
   "metadata": {},
   "source": [
    "### Uso de enumerate"
   ]
  },
  {
   "cell_type": "code",
   "execution_count": 16,
   "metadata": {},
   "outputs": [
    {
     "name": "stdout",
     "output_type": "stream",
     "text": [
      "el valor del nodo de la posición 0 es 1\n",
      "el valor del nodo de la posición 1 es 3\n",
      "el valor del nodo de la posición 2 es 4\n",
      "el valor del nodo de la posición 3 es 5\n",
      "el valor del nodo de la posición 4 es 6\n",
      "el valor del nodo de la posición 5 es 7\n",
      "el valor del nodo de la posición 6 es 8\n",
      "el valor del nodo de la posición 7 es 9\n"
     ]
    }
   ],
   "source": [
    "for i,nodo in enumerate(LL_3):\n",
    "    print(f\"el valor del nodo de la posición {i} es {nodo.valor}\")"
   ]
  },
  {
   "attachments": {},
   "cell_type": "markdown",
   "metadata": {},
   "source": [
    "### Uso de zip\n",
    "\n",
    "Para instruir correctamente el uso de zip utilizaremos otro ejemplo, ya que no es muy pertinente el uso de nodos."
   ]
  },
  {
   "cell_type": "code",
   "execution_count": 17,
   "metadata": {},
   "outputs": [
    {
     "name": "stdout",
     "output_type": "stream",
     "text": [
      "[('a', 1, 'azul'), ('e', 2, 'verde'), ('i', 3, 'amarillo'), ('o', 4, 'morado'), ('u', 5, 'rojo')]\n"
     ]
    }
   ],
   "source": [
    "vocales = [\"a\",\"e\",\"i\",\"o\",\"u\"]\n",
    "numeros = range(1,10)\n",
    "colores = [\"azul\",\"verde\",\"amarillo\",\"morado\",\"rojo\",\"negro\",\"blanco\"]\n",
    "union = zip(vocales,numeros,colores)\n",
    "# Se truncan los valores dado el objeto mas corto a unir, en este caso las vocales\n",
    "print(list(union))"
   ]
  },
  {
   "attachments": {},
   "cell_type": "markdown",
   "metadata": {},
   "source": [
    "# Programación Funcional"
   ]
  },
  {
   "attachments": {},
   "cell_type": "markdown",
   "metadata": {},
   "source": [
    "## Lambda Functions"
   ]
  },
  {
   "attachments": {},
   "cell_type": "markdown",
   "metadata": {},
   "source": [
    "Para poder hablar de `lambda functions`, primero tenemos que entender que `Python` tiene **funciones de primera clase** (first-class functions), es decir, que las funciones son tratadas como cualquier otra variable (**objeto**). Esto nos permite manejarlas de la misma forma que cualquier otro objeto de `Python` (como las listas por ejemplo), otorgándonos la posibilidad de:\n",
    "\n",
    "* Asignarlas a una variable y usar la variable igual que una funcion.\n",
    "* Pasarlas como párametros de otras funciones.\n"
   ]
  },
  {
   "cell_type": "code",
   "execution_count": 18,
   "metadata": {},
   "outputs": [],
   "source": [
    "# Creamos funcion a aplicar sobre el iterable\n",
    "def calcular_total(iterable):\n",
    "    return sum(iterable)"
   ]
  },
  {
   "cell_type": "code",
   "execution_count": 19,
   "metadata": {},
   "outputs": [],
   "source": [
    "# Definimos la funcion que aplica la funcion anterior\n",
    "# sobre el iterable\n",
    "def monto_boleta(montos, calculadora):\n",
    "    resultado = calculadora(montos)\n",
    "    print(f'El total de la boleta fue {resultado}')\n",
    "    return resultado"
   ]
  },
  {
   "cell_type": "code",
   "execution_count": 20,
   "metadata": {},
   "outputs": [
    {
     "name": "stdout",
     "output_type": "stream",
     "text": [
      "El total de la boleta fue 21320\n",
      "El total de la boleta fue 6\n"
     ]
    },
    {
     "data": {
      "text/plain": [
       "6"
      ]
     },
     "execution_count": 20,
     "metadata": {},
     "output_type": "execute_result"
    }
   ],
   "source": [
    "# Vemos los resultados\n",
    "precios = [1200, 3500, 2980, 5990, 7650]\n",
    "monto_boleta(precios, calcular_total)\n",
    "monto_boleta(my_lista, calcular_total)"
   ]
  },
  {
   "attachments": {},
   "cell_type": "markdown",
   "metadata": {},
   "source": [
    "## Map"
   ]
  },
  {
   "attachments": {},
   "cell_type": "markdown",
   "metadata": {},
   "source": [
    "Map es una función *built-in* que **retorna un generador** creado a partir de la aplicacion de una **función** sobre cada elemento de uno o más **iterables**. Para esto, recibe como **parámetros** una **funcion** y uno a mas **iterables**."
   ]
  },
  {
   "cell_type": "code",
   "execution_count": 21,
   "metadata": {},
   "outputs": [
    {
     "name": "stdout",
     "output_type": "stream",
     "text": [
      "Generator with defined function: <map object at 0x000001837C7F9190>\n",
      "Generator with lambda function: <map object at 0x000001837C7061F0>\n",
      "\n",
      "@lucasvsj's Tip: Pythonic way to see results once\n",
      "Generator with defined function: [2, 4, 6, 8, 10]\n",
      "Generator with lambda function: [1, 4, 27, 256, 3125]\n"
     ]
    }
   ],
   "source": [
    "from copy import deepcopy\n",
    "\n",
    "# (Nos aseguramos de no cambiar la LL por\n",
    "# cada ejecucion de esta celda)\n",
    "iterable = ListaLigada(deepcopy(my_ll))\n",
    "\n",
    "# Puede recibir tanto una funcion definida\n",
    "def suma_de_a_pares(item_lista_1, item_lista_2):\n",
    "    return item_lista_1.valor + item_lista_2.valor\n",
    "\n",
    "def_func_result = map(suma_de_a_pares, iterable, iterable)\n",
    "\n",
    "\n",
    "# Puede recibir una lambda function\n",
    "lambda_func_result = map(lambda char: pow(char.valor, char.valor), iterable)\n",
    "\n",
    "# Vemos los resultados\n",
    "print(\n",
    "    f'Generator with defined function: {def_func_result}',\n",
    "    '\\n', \n",
    "    f'Generator with lambda function: {lambda_func_result}',\n",
    "    '\\n', \n",
    "    sep='',\n",
    ")\n",
    "\n",
    "print(\"@lucasvsj's Tip: Pythonic way to see results once\")\n",
    "\n",
    "print(\n",
    "    f'Generator with defined function: {[ char for char in def_func_result]}',\n",
    "    '\\n', \n",
    "    f'Generator with lambda function: {[ char for char in lambda_func_result]}',\n",
    "    sep=''\n",
    ")\n"
   ]
  },
  {
   "attachments": {},
   "cell_type": "markdown",
   "metadata": {},
   "source": [
    "## Filter"
   ]
  },
  {
   "attachments": {},
   "cell_type": "markdown",
   "metadata": {},
   "source": [
    "Esta funcion nos permite \"filtrar\" elementos de un iterable. Esto lo logra aplicando una función *booleana* sobre un **iterable**."
   ]
  },
  {
   "cell_type": "code",
   "execution_count": 22,
   "metadata": {},
   "outputs": [
    {
     "name": "stdout",
     "output_type": "stream",
     "text": [
      "Generator with defined function: <filter object at 0x000001837E2D9F40>\n",
      "Generator with lambda function: <filter object at 0x000001837C701D00>\n",
      "\n",
      "Generator with defined function: [Pedro, Perez]\n",
      "Generator with lambda function: [45]\n"
     ]
    }
   ],
   "source": [
    "from copy import deepcopy\n",
    "\n",
    "# (Nos aseguramos de no cambiar la LL por\n",
    "# cada ejecucion de esta celda)\n",
    "datos_1 = Nodo('_nombre', Nodo('Pedro', Nodo('_apellido', Nodo('Perez', Nodo('_score', Nodo(45, None))))))\n",
    "iterable_1 = ListaLigada(deepcopy(datos_1))\n",
    "\n",
    "# Puede recibir tanto una funcion definida\n",
    "def datos_personales(item_lista):\n",
    "    if isinstance(item_lista.valor, str):\n",
    "        return item_lista.valor[0] != '_'\n",
    "    return False\n",
    "\n",
    "def_func_result = filter(datos_personales, iterable_1)\n",
    "\n",
    "\n",
    "# Puede recibir una lambda function\n",
    "lambda_func_result = filter(lambda char: isinstance(char.valor, int), iterable_1)\n",
    "\n",
    "print(\n",
    "    f'Generator with defined function: {def_func_result}',\n",
    "    '\\n', \n",
    "    f'Generator with lambda function: {lambda_func_result}',\n",
    "    '\\n', \n",
    "    sep='',\n",
    ")\n",
    "\n",
    "print(\n",
    "    f'Generator with defined function: {[ char for char in def_func_result]}',\n",
    "    '\\n', \n",
    "    f'Generator with lambda function: {[ char for char in lambda_func_result]}',\n",
    "    sep=''\n",
    ")\n"
   ]
  },
  {
   "attachments": {},
   "cell_type": "markdown",
   "metadata": {},
   "source": [
    "## Reduce"
   ]
  },
  {
   "attachments": {},
   "cell_type": "markdown",
   "metadata": {},
   "source": [
    "`reduce` es una función de la libreria *built-in* `functools`. Esta se caracteriza por aplicar una función de manera iterativa sobre el resultado del output de la función aplicada anteriormente"
   ]
  },
  {
   "cell_type": "code",
   "execution_count": 23,
   "metadata": {},
   "outputs": [
    {
     "name": "stdout",
     "output_type": "stream",
     "text": [
      "Generator with defined function: 15\n",
      "Generator with lambda function: Mi nombre es Pedro Perez \n",
      "\n"
     ]
    }
   ],
   "source": [
    "from functools import reduce\n",
    "\n",
    "from copy import deepcopy\n",
    "\n",
    "# (Nos aseguramos de no cambiar la LL por\n",
    "# cada ejecucion de esta celda)\n",
    "iterable_1 = ListaLigada(deepcopy(my_ll))\n",
    "\n",
    "# Puede recibir tanto una funcion definida\n",
    "def llevar_cuenta(valor_acum, valor_nuevo):\n",
    "    if isinstance(valor_acum, Nodo):\n",
    "        return valor_acum.valor + valor_nuevo.valor\n",
    "    return valor_acum + valor_nuevo.valor\n",
    "\n",
    "def_func_result = reduce(llevar_cuenta, iterable_1)\n",
    "\n",
    "datos_1 = Nodo('Mi ', Nodo('nombre ', Nodo('es ', Nodo('Pedro ', Nodo('Perez ', None)))))\n",
    "iterable_1 = ListaLigada(deepcopy(datos_1))\n",
    "\n",
    "# Puede recibir una lambda function\n",
    "lambda_func_result = reduce(lambda x, y: x.valor + y.valor if isinstance(x, Nodo) else x + y.valor, iterable_1)\n",
    "\n",
    "print(\n",
    "    f'Generator with defined function: {def_func_result}',\n",
    "    '\\n', \n",
    "    f'Generator with lambda function: {lambda_func_result}',\n",
    "    '\\n', \n",
    "    sep='',\n",
    ")\n"
   ]
  }
 ],
 "metadata": {
  "kernelspec": {
   "display_name": "Python 3",
   "language": "python",
   "name": "python3"
  },
  "language_info": {
   "codemirror_mode": {
    "name": "ipython",
    "version": 3
   },
   "file_extension": ".py",
   "mimetype": "text/x-python",
   "name": "python",
   "nbconvert_exporter": "python",
   "pygments_lexer": "ipython3",
   "version": "3.8.10"
  },
  "orig_nbformat": 4
 },
 "nbformat": 4,
 "nbformat_minor": 2
}
