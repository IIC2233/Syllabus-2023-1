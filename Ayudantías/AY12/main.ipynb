{
 "cells": [
  {
   "cell_type": "markdown",
   "metadata": {},
   "source": [
    "# API"
   ]
  },
  {
   "cell_type": "markdown",
   "metadata": {},
   "source": [
    "## Libreria Requests"
   ]
  },
  {
   "cell_type": "code",
   "execution_count": 177,
   "metadata": {},
   "outputs": [
    {
     "name": "stdout",
     "output_type": "stream",
     "text": [
      "Defaulting to user installation because normal site-packages is not writeable\n",
      "Requirement already satisfied: requests in /home/lucasvsj/.local/lib/python3.10/site-packages (2.31.0)\n",
      "Requirement already satisfied: charset-normalizer<4,>=2 in /home/lucasvsj/.local/lib/python3.10/site-packages (from requests) (3.1.0)\n",
      "Requirement already satisfied: idna<4,>=2.5 in /home/lucasvsj/.local/lib/python3.10/site-packages (from requests) (3.4)\n",
      "Requirement already satisfied: urllib3<3,>=1.21.1 in /home/lucasvsj/.local/lib/python3.10/site-packages (from requests) (2.0.2)\n",
      "Requirement already satisfied: certifi>=2017.4.17 in /home/lucasvsj/.local/lib/python3.10/site-packages (from requests) (2023.5.7)\n",
      "Note: you may need to restart the kernel to use updated packages.\n"
     ]
    }
   ],
   "source": [
    "%pip install requests"
   ]
  },
  {
   "cell_type": "code",
   "execution_count": 178,
   "metadata": {},
   "outputs": [],
   "source": [
    "import requests"
   ]
  },
  {
   "cell_type": "markdown",
   "metadata": {},
   "source": [
    "## Datos API"
   ]
  },
  {
   "cell_type": "code",
   "execution_count": 179,
   "metadata": {},
   "outputs": [],
   "source": [
    "URL = 'http://localhost:3000'\n",
    "# URL =  \"https://raphael.chan.ing.puc.cl/iic2233-AY12\""
   ]
  },
  {
   "cell_type": "markdown",
   "metadata": {},
   "source": [
    "## Consultas"
   ]
  },
  {
   "cell_type": "markdown",
   "metadata": {},
   "source": [
    "### GET"
   ]
  },
  {
   "cell_type": "markdown",
   "metadata": {},
   "source": [
    "La request `GET` se utiliza cuando solo se quiere obtener información desde la URL. En la mayoría de los casos estas consultas no llevan un body, pero pueden tener tanto parametros de query `majors/q=major` o path parameters `majors/1`."
   ]
  },
  {
   "cell_type": "code",
   "execution_count": 180,
   "metadata": {},
   "outputs": [
    {
     "name": "stdout",
     "output_type": "stream",
     "text": [
      "{'nombre': 'Ingeniería de Software', 'requisitos': {'relacion': 'AND', 'subrequisitos': [{'nombre': 'Exploratorio', 'relacion': 'OR', 'subrequisitos': ['AQH0000', 'ICC2304', 'ICE2006', {'relacion': 'OR', 'subrequisitos': ['ICE2623', 'IMM2003']}, 'ICH1005', 'IBM1005', 'ICH1104', 'ICH2304', 'ICM1001', {'relacion': 'OR', 'subrequisitos': ['ICS1113', 'ICS113H']}, 'ICT2904', 'IEE1100', 'IIC1005', 'IIQ1001', 'IIQ2663', 'IMM1003', 'IMT1001', 'IDI1015', 'ING1024', {'relacion': 'OR', 'subrequisitos': ['IRB1001', 'IRB2001']}, 'IFI1001', 'ICC1001']}, {'nombre': 'Minimos de Major', 'relacion': 'AND', 'subrequisitos': ['IIC1253', 'IIC2113', 'IIC2133', 'IIC2143', 'IIC2173', 'IIC2233', 'IIC2413', 'IIC2513', 'IIC2713', 'IIC2154']}]}}\n"
     ]
    }
   ],
   "source": [
    "resp = requests.get(f'{URL}/major/software')\n",
    "print(resp.json())"
   ]
  },
  {
   "cell_type": "markdown",
   "metadata": {},
   "source": [
    "### POST"
   ]
  },
  {
   "cell_type": "markdown",
   "metadata": {},
   "source": [
    "La request `POST` se utiliza cuando se quiere enviar información para que la aplicación modifique algo o utilice dicha información de alguna manera. Estas requests se deben enviar con un body, el cual puede ser un json."
   ]
  },
  {
   "cell_type": "code",
   "execution_count": 181,
   "metadata": {},
   "outputs": [],
   "source": [
    "# Si eres ayudante, descomenta esto\n",
    "with open('private_key.txt', mode='r') as secret_key_file:\n",
    "    token = secret_key_file.read().strip()\n",
    "\n",
    "# Si eres ayudante, descomenta esto\n",
    "# token = '' # Ingresa tu numero de alumno"
   ]
  },
  {
   "cell_type": "code",
   "execution_count": 182,
   "metadata": {},
   "outputs": [
    {
     "name": "stdout",
     "output_type": "stream",
     "text": [
      "{'major': 'compu', 'aprobado': False}\n"
     ]
    }
   ],
   "source": [
    "headers = {\n",
    "    'Authorization' : f\"Bearer {token}\"\n",
    "}\n",
    "\n",
    "body = {\n",
    "    \"cursos_aprobados\" : [\n",
    "        \"IIC1253\",\n",
    "        \"IIC2233\",\n",
    "        \"IIC2133\",\n",
    "        \"IIC2143\",\n",
    "        \"IIC2413\",\n",
    "        \"IIC2513\",\n",
    "        \"IIC2154\",\n",
    "        \"AQH0000\",\n",
    "        \"IIC2304\",\n",
    "        \"ICE2006\",\n",
    "        \"ICE2623\",\n",
    "        \"IIC1005\",\n",
    "        \"IIC1006\",\n",
    "        \"IIC2343\",\n",
    "        \"IIC2333\",\n",
    "        \"IIC2613\"\n",
    "    ]\n",
    "}\n",
    "\n",
    "resp = requests.post(f'{URL}/major/compu/validate', json=body, headers=headers)\n",
    "print(resp.json())"
   ]
  },
  {
   "cell_type": "markdown",
   "metadata": {},
   "source": [
    "Ademas nuestra API posee una `POST` request para poder agregar mas tokens a un usuario  "
   ]
  },
  {
   "cell_type": "code",
   "execution_count": 183,
   "metadata": {},
   "outputs": [
    {
     "name": "stdout",
     "output_type": "stream",
     "text": [
      "{'numero_alumno': '17640040', 'tokens': 15, 'warning': 'Remember that the maximum amount of tokens is 15. If you want more tokens, email lfvansintjan@uc.cl'}\n"
     ]
    }
   ],
   "source": [
    "headers = {\n",
    "    'Authorization' : f\"Bearer {token}\"\n",
    "}\n",
    "\n",
    "body = {\n",
    "    \"numero_alumno\" : token,\n",
    "    \"tokens\" : 12\n",
    "}\n",
    "\n",
    "resp = requests.post(f'{URL}/tokens/add', json=body, headers=headers)\n",
    "print(resp.json())"
   ]
  },
  {
   "attachments": {},
   "cell_type": "markdown",
   "metadata": {},
   "source": [
    "### PUT"
   ]
  },
  {
   "attachments": {},
   "cell_type": "markdown",
   "metadata": {},
   "source": [
    "La request `PUT` se utiliza cuando se quiere actualizar información existente o, crear nueva informacion en el caso de que no esta no haya existido en la base de datos de la aplicación. Estas requests se deben enviar con un body, el cual puede ser un json."
   ]
  },
  {
   "cell_type": "code",
   "execution_count": 184,
   "metadata": {},
   "outputs": [
    {
     "name": "stdout",
     "output_type": "stream",
     "text": [
      "{'message': \"Major 'Major del alumno 17640040' updated successfully\"}\n"
     ]
    }
   ],
   "source": [
    "headers = {\n",
    "    'Authorization' : f\"Bearer {token}\"\n",
    "}\n",
    "\n",
    "# Forma segura de obtenerlo\n",
    "major_name = f\"Major del alumno {token.split('+')[0]}\"\n",
    "\n",
    "body = {\n",
    "    \"nombre\": major_name,\n",
    "    \"requisitos\": {\n",
    "        \"relacion\": \"AND\",\n",
    "        \"subrequisitos\": [\n",
    "            {\n",
    "                \"nombre\": \"Pack 1\",\n",
    "                \"relacion\": \"AND\",\n",
    "                \"subrequisitos\": [\n",
    "                    \"IIC2333\",\n",
    "                    \"ICE2164\",\n",
    "                    \"AFE4326\",\n",
    "                ]\n",
    "            },\n",
    "            {\n",
    "                \"nombre\": \"Pack 2\",\n",
    "                \"relacion\": \"AND\",\n",
    "                \"subrequisitos\": [\n",
    "                    \"IIC3257\",\n",
    "                    \"IGM6547\",\n",
    "                    \"IIC6424\"\n",
    "                ]\n",
    "            },\n",
    "            {\n",
    "                \"nombre\": \"Track\",\n",
    "                \"relacion\": \"OR\",\n",
    "                \"subrequisitos\": [\n",
    "                    {\n",
    "                        \"nombre\": \"Track 1\",\n",
    "                        \"relacion\": \"AND\",\n",
    "                        \"subrequisitos\": [\n",
    "                            \"IIC2343\",\n",
    "                            \"IIC2613\"\n",
    "                        ]\n",
    "                    },\n",
    "                    {\n",
    "                        \"nombre\": \"Track 2\",\n",
    "                        \"relacion\": \"AND\",\n",
    "                        \"subrequisitos\": [\n",
    "                            \"IIC2713\",\n",
    "                            \"IIC2733\",\n",
    "                        ]\n",
    "                    }\n",
    "                ]\n",
    "            }\n",
    "        ]\n",
    "    }\n",
    "}\n",
    "\n",
    "resp = requests.put(f'{URL}/major/{major_name}', json=body, headers=headers)\n",
    "print(resp.json())"
   ]
  },
  {
   "cell_type": "markdown",
   "metadata": {},
   "source": [
    "### DELETE"
   ]
  },
  {
   "cell_type": "markdown",
   "metadata": {},
   "source": [
    "La request `DELETE` se utiliza cuando se quiere eliminar información de la aplicación. Estas requests por lo general utilizan path params para identificar el objeto que se quiere eliminar `majors/23`."
   ]
  },
  {
   "cell_type": "code",
   "execution_count": 185,
   "metadata": {},
   "outputs": [
    {
     "name": "stdout",
     "output_type": "stream",
     "text": [
      "{'message': \"Course AQH0000 from Major 'compu' deleted successfully\"}\n"
     ]
    }
   ],
   "source": [
    "headers = {\n",
    "    'Authorization' : f\"Bearer {token}\"\n",
    "}\n",
    "\n",
    "resp = requests.delete(f'{URL}/major/compu/AQH0000', json=body, headers=headers)\n",
    "print(resp.json())"
   ]
  },
  {
   "attachments": {},
   "cell_type": "markdown",
   "metadata": {},
   "source": [
    "# RegEx"
   ]
  },
  {
   "attachments": {},
   "cell_type": "markdown",
   "metadata": {},
   "source": [
    "Las expresiones regulares (o RegEx por su sigla en inglés) nos ayudan a encontrar patrones dentro de *strings* para así poder filtrar los que necesitemos."
   ]
  },
  {
   "cell_type": "markdown",
   "metadata": {},
   "source": [
    "## Funciones necesarias"
   ]
  },
  {
   "attachments": {},
   "cell_type": "markdown",
   "metadata": {},
   "source": [
    "En esta parte definimos las librerías necesarias y funciones que nos ayudaran en los ejemplos que mostraremos"
   ]
  },
  {
   "cell_type": "code",
   "execution_count": 186,
   "metadata": {},
   "outputs": [],
   "source": [
    "import re"
   ]
  },
  {
   "cell_type": "code",
   "execution_count": 187,
   "metadata": {},
   "outputs": [
    {
     "name": "stdout",
     "output_type": "stream",
     "text": [
      "['AQH0000', 'ICC2304', 'ICE2006', 'ICE2623', 'IMM2003', 'ICH1005', 'IBM1005', 'ICH1104', 'ICH2304', 'ICM1001', 'ICS1113', 'ICS113H', 'ICT2904', 'IEE1100', 'IIC1005', 'IIQ1001', 'IIQ2663', 'IMM1003', 'IMT1001', 'IDI1015', 'ING1024', 'IRB1001', 'IRB2001', 'IFI1001', 'ICC1001', 'IIC1253', 'IIC2113', 'IIC2133', 'IIC2143', 'IIC2173', 'IIC2233', 'IIC2413', 'IIC2513', 'IIC2713', 'IIC2154']\n"
     ]
    }
   ],
   "source": [
    "\n",
    "def list_desempac(my_list, iterable):\n",
    "    for char in iterable:\n",
    "        for elem in char:\n",
    "            my_list.append(elem)\n",
    "\n",
    "headers = {\n",
    "    'Authorization' : f\"Bearer {token}\"\n",
    "}\n",
    "\n",
    "resp = requests.get(f'{URL}/major/software/packages', headers=headers)\n",
    "\n",
    "data = resp.json()\n",
    "packages = filter(lambda val: isinstance(val, dict), list(data.values())[1])\n",
    "\n",
    "all_courses = []\n",
    "[list_desempac(all_courses, char['courses'].values()) if char.get('courses') else [list_desempac(all_courses, elem[\"courses\"].values()) for elem in char['packages']] for char in packages]\n",
    "print(all_courses)"
   ]
  },
  {
   "cell_type": "markdown",
   "metadata": {},
   "source": [
    "## Consultas"
   ]
  },
  {
   "attachments": {},
   "cell_type": "markdown",
   "metadata": {},
   "source": [
    "### Ejemplo con `match`\n",
    "Buscamos todos los cursos que son del DCC (comienzan con IIC)"
   ]
  },
  {
   "cell_type": "code",
   "execution_count": 188,
   "metadata": {},
   "outputs": [
    {
     "data": {
      "text/plain": [
       "['IIC1005',\n",
       " 'IIC1253',\n",
       " 'IIC2113',\n",
       " 'IIC2133',\n",
       " 'IIC2143',\n",
       " 'IIC2173',\n",
       " 'IIC2233',\n",
       " 'IIC2413',\n",
       " 'IIC2513',\n",
       " 'IIC2713',\n",
       " 'IIC2154']"
      ]
     },
     "execution_count": 188,
     "metadata": {},
     "output_type": "execute_result"
    }
   ],
   "source": [
    "doct_courses = filter(lambda course: re.match(r'^IIC.*', course), all_courses)\n",
    "[char for char in doct_courses]"
   ]
  },
  {
   "attachments": {},
   "cell_type": "markdown",
   "metadata": {},
   "source": [
    "Analicemos la búsqueda RegEx de `^IIC.*` 🔬\n",
    "\n",
    "El `^` especifica que lo que buscamos está **al principio** del string, en este caso, queremos buscar algo que **parta** con `IIC`\n",
    "\n",
    "Luego, los caracteres `.*` indican que lo siguiente que buscamos puede ser **cualquier cosa** y de **cualquier longitud**."
   ]
  },
  {
   "attachments": {},
   "cell_type": "markdown",
   "metadata": {},
   "source": [
    "### Ejemplo con `fullmatch`\n",
    "\n",
    "Ahora, imaginemos que todas las siglas de los cursos primero contienen 3 letras y luego 4 números (formato ABC1234), por lo que queremos filtrar los valores en que esto no pasa.\n",
    "\n",
    "Usamos `fullmatch()` para esto, ya que queremos que el **string completo** cumpla con este patrón, y no solo un *substring*. En nuestro ejemplo, recibimos una lista de 35 cursos a través de nuestra consulta, y buscamos cuántos cumplen con el formato indicado"
   ]
  },
  {
   "cell_type": "code",
   "execution_count": 189,
   "metadata": {},
   "outputs": [
    {
     "name": "stdout",
     "output_type": "stream",
     "text": [
      "34\n"
     ]
    }
   ],
   "source": [
    "course_syntax = filter(lambda course: re.fullmatch(r'^[A-Z]+[0-9]{4}', course), all_courses)\n",
    "cursos_validos = [char for char in course_syntax]\n",
    "print(len(cursos_validos))"
   ]
  },
  {
   "attachments": {},
   "cell_type": "markdown",
   "metadata": {},
   "source": [
    "El resultado es 34 porque el curso que no cumple exactamente con el formato es ICS113H, el amado y odiado Opti Honors 📚, ya que contiene una H al final en vez de un número."
   ]
  },
  {
   "attachments": {},
   "cell_type": "markdown",
   "metadata": {},
   "source": [
    "### Ejemplo con `search`\n",
    "\n",
    "Esta función funciona de manera similar a `match`, con la diferencia de que no necesariamente busca la expresión regular **al inicio** del *string*.\n",
    "\n",
    "Pediremos todos los cursos que sean \"introductorios\", lo que definimos como que la parte numérica de su sigla sea un valor 1000 y algo."
   ]
  },
  {
   "cell_type": "code",
   "execution_count": 190,
   "metadata": {},
   "outputs": [
    {
     "data": {
      "text/plain": [
       "['ICH1005',\n",
       " 'IBM1005',\n",
       " 'ICH1104',\n",
       " 'ICM1001',\n",
       " 'ICS1113',\n",
       " 'IEE1100',\n",
       " 'IIC1005',\n",
       " 'IIQ1001',\n",
       " 'IMM1003',\n",
       " 'IMT1001',\n",
       " 'IDI1015',\n",
       " 'ING1024',\n",
       " 'IRB1001',\n",
       " 'IFI1001',\n",
       " 'ICC1001',\n",
       " 'IIC1253']"
      ]
     },
     "execution_count": 190,
     "metadata": {},
     "output_type": "execute_result"
    }
   ],
   "source": [
    "intro_courses = filter(lambda course: re.search(r'1[0-9]{3}', course), all_courses)\n",
    "[char for char in intro_courses]"
   ]
  },
  {
   "attachments": {},
   "cell_type": "markdown",
   "metadata": {},
   "source": [
    "Como pueden ver, el filtro solo buscaba un patrón numérico, que no necesariamente estaba al inicio del string (de hecho, no lo está en ningun caso). Si ese mismo filtro se hiciera con `match` o `fullmatch`, retornaría vació. Si quieres puedes probarlo por tu cuenta 😉."
   ]
  },
  {
   "attachments": {},
   "cell_type": "markdown",
   "metadata": {},
   "source": [
    "### Ejemplo `sub`\n",
    "\n",
    "La función `sub` busca cierto patrón y lo **reemplaza** con otro indicado. Puede ser útil para cambiar formatos directamente, o eliminar caracteres indeseados (reemplazando un valor con `''`)\n",
    "\n",
    "Eliminaron LET del plan común e Ingeniería termina con serios problemas de ortografía, al punto que renombran la Escuela como \"Eskuela de Hingeniería\" 🥴, por lo que tendremos que reemplazar todas las siglas que partían con I por H."
   ]
  },
  {
   "cell_type": "code",
   "execution_count": 191,
   "metadata": {},
   "outputs": [
    {
     "data": {
      "text/plain": [
       "['AQH0000',\n",
       " 'HCC2304',\n",
       " 'HCE2006',\n",
       " 'HCE2623',\n",
       " 'HMM2003',\n",
       " 'HCH1005',\n",
       " 'HBM1005',\n",
       " 'HCH1104',\n",
       " 'HCH2304',\n",
       " 'HCM1001',\n",
       " 'HCS1113',\n",
       " 'HCS113H',\n",
       " 'HCT2904',\n",
       " 'HEE1100',\n",
       " 'HIC1005',\n",
       " 'HIQ1001',\n",
       " 'HIQ2663',\n",
       " 'HMM1003',\n",
       " 'HMT1001',\n",
       " 'HDI1015',\n",
       " 'HNG1024',\n",
       " 'HRB1001',\n",
       " 'HRB2001',\n",
       " 'HFI1001',\n",
       " 'HCC1001',\n",
       " 'HIC1253',\n",
       " 'HIC2113',\n",
       " 'HIC2133',\n",
       " 'HIC2143',\n",
       " 'HIC2173',\n",
       " 'HIC2233',\n",
       " 'HIC2413',\n",
       " 'HIC2513',\n",
       " 'HIC2713',\n",
       " 'HIC2154']"
      ]
     },
     "execution_count": 191,
     "metadata": {},
     "output_type": "execute_result"
    }
   ],
   "source": [
    "lowercase_courses = map(lambda course: re.sub(r'^I{1}', r'H', course), all_courses)\n",
    "[char for char in lowercase_courses]"
   ]
  },
  {
   "attachments": {},
   "cell_type": "markdown",
   "metadata": {},
   "source": [
    "### Ejemplo `split`\n",
    "\n",
    "La función `split` tiene la intención de **separar** en 2 o más elementos un string, usando como **separador** el patrón que se le de. Para este caso, el ejemplo más obvio es separar la parte numérica de una sigla con la alfabética.\n",
    "\n",
    "Solo para hacerlo más entretenido, agruparemos después las siglas por las \"letras\" del principio, es decir, agruparemos los ramos por la facultad que los imparte."
   ]
  },
  {
   "cell_type": "code",
   "execution_count": 192,
   "metadata": {},
   "outputs": [
    {
     "data": {
      "text/plain": [
       "[['AQH', '0000'],\n",
       " ['ICC', '2304'],\n",
       " ['ICE', '2006'],\n",
       " ['ICE', '2623'],\n",
       " ['IMM', '2003'],\n",
       " ['ICH', '1005'],\n",
       " ['IBM', '1005'],\n",
       " ['ICH', '1104'],\n",
       " ['ICH', '2304'],\n",
       " ['ICM', '1001'],\n",
       " ['ICS', '1113'],\n",
       " ['ICS', '113H'],\n",
       " ['ICT', '2904'],\n",
       " ['IEE', '1100'],\n",
       " ['IIC', '1005'],\n",
       " ['IIQ', '1001'],\n",
       " ['IIQ', '2663'],\n",
       " ['IMM', '1003'],\n",
       " ['IMT', '1001'],\n",
       " ['IDI', '1015'],\n",
       " ['ING', '1024'],\n",
       " ['IRB', '1001'],\n",
       " ['IRB', '2001'],\n",
       " ['IFI', '1001'],\n",
       " ['ICC', '1001'],\n",
       " ['IIC', '1253'],\n",
       " ['IIC', '2113'],\n",
       " ['IIC', '2133'],\n",
       " ['IIC', '2143'],\n",
       " ['IIC', '2173'],\n",
       " ['IIC', '2233'],\n",
       " ['IIC', '2413'],\n",
       " ['IIC', '2513'],\n",
       " ['IIC', '2713'],\n",
       " ['IIC', '2154']]"
      ]
     },
     "execution_count": 192,
     "metadata": {},
     "output_type": "execute_result"
    }
   ],
   "source": [
    "split_parts = map(lambda course: re.split(r'(\\b\\w{3})(\\w+)', course), all_courses)\n",
    "ramos_por_facultad = [chars[1:-1] for chars in split_parts] \n",
    "# chars por si solo da 2 elementos vacíos al principio y al final, los cuales se eliminan \n",
    "ramos_por_facultad"
   ]
  },
  {
   "cell_type": "code",
   "execution_count": 193,
   "metadata": {},
   "outputs": [
    {
     "data": {
      "text/plain": [
       "defaultdict(list,\n",
       "            {'AQH': ['0000'],\n",
       "             'ICC': ['2304', '1001'],\n",
       "             'ICE': ['2006', '2623'],\n",
       "             'IMM': ['2003', '1003'],\n",
       "             'ICH': ['1005', '1104', '2304'],\n",
       "             'IBM': ['1005'],\n",
       "             'ICM': ['1001'],\n",
       "             'ICS': ['1113', '113H'],\n",
       "             'ICT': ['2904'],\n",
       "             'IEE': ['1100'],\n",
       "             'IIC': ['1005',\n",
       "              '1253',\n",
       "              '2113',\n",
       "              '2133',\n",
       "              '2143',\n",
       "              '2173',\n",
       "              '2233',\n",
       "              '2413',\n",
       "              '2513',\n",
       "              '2713',\n",
       "              '2154'],\n",
       "             'IIQ': ['1001', '2663'],\n",
       "             'IMT': ['1001'],\n",
       "             'IDI': ['1015'],\n",
       "             'ING': ['1024'],\n",
       "             'IRB': ['1001', '2001'],\n",
       "             'IFI': ['1001']})"
      ]
     },
     "execution_count": 193,
     "metadata": {},
     "output_type": "execute_result"
    }
   ],
   "source": [
    "from collections import defaultdict\n",
    "facultades = defaultdict(list)\n",
    "\n",
    "for sublista in ramos_por_facultad:\n",
    "    letras = sublista[0]\n",
    "    numeros = sublista[1]\n",
    "\n",
    "    facultades[letras].append(numeros)\n",
    "\n",
    "facultades\n"
   ]
  }
 ],
 "metadata": {
  "kernelspec": {
   "display_name": "Python 3",
   "language": "python",
   "name": "python3"
  },
  "language_info": {
   "codemirror_mode": {
    "name": "ipython",
    "version": 3
   },
   "file_extension": ".py",
   "mimetype": "text/x-python",
   "name": "python",
   "nbconvert_exporter": "python",
   "pygments_lexer": "ipython3",
   "version": "3.10.11"
  },
  "vscode": {
   "interpreter": {
    "hash": "b0fa6594d8f4cbf19f97940f81e996739fb7646882a419484c72d19e05852a7e"
   }
  }
 },
 "nbformat": 4,
 "nbformat_minor": 2
}
