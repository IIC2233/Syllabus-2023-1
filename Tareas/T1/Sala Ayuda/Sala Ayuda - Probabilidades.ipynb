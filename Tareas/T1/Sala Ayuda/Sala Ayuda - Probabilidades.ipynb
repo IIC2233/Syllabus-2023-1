{
 "cells": [
  {
   "cell_type": "markdown",
   "id": "d245b48f",
   "metadata": {},
   "source": [
    "# Probabilidades de eventos"
   ]
  },
  {
   "cell_type": "markdown",
   "id": "4f18b448",
   "metadata": {},
   "source": [
    "A continuación vamos a modelar una situación donde tenemos un evento de X probabilidad de ocurrir. En particular, vamos a modelar el caso que un alumno tenga un 30% de querer ir al baño en mitad de una evaluación.\n",
    "\n",
    "Para esto, solo necesitamos hacer `random.random()` que nos dará un número entre 0 y 1 de forma uniforme. Luego comparar ese valor con nuestro porcentaje de probabilidad."
   ]
  },
  {
   "cell_type": "code",
   "execution_count": null,
   "id": "f2ffe72e",
   "metadata": {},
   "outputs": [],
   "source": [
    "import random\n",
    "\n",
    "PROB_IR_BAÑO = 0.3 # 30%\n",
    "def ir_baño():\n",
    "    return random.random() <= PROB_IR_BAÑO\n",
    "\n",
    "if ir_baño():\n",
    "    print(\"¡Quiero ir al baño!\")\n",
    "else:\n",
    "    print(\"Estoy de pana banana\")"
   ]
  },
  {
   "cell_type": "markdown",
   "id": "a3c59d61",
   "metadata": {},
   "source": [
    "¿Y será esto un 30%? Vamos a comprobarlo. Vamos a llamar 500.000 veces a la función y vamos a contar cuantas veces sale `True`."
   ]
  },
  {
   "cell_type": "code",
   "execution_count": null,
   "id": "e3f92097",
   "metadata": {},
   "outputs": [],
   "source": [
    "N = 500000\n",
    "total = 0\n",
    "for i in range(N):\n",
    "    if ir_baño():\n",
    "        total += 1\n",
    "        \n",
    "total/N"
   ]
  },
  {
   "cell_type": "markdown",
   "id": "eeccc51e",
   "metadata": {},
   "source": [
    "Efectivamente hay un 30% de probabilidad de ir al baño."
   ]
  },
  {
   "cell_type": "markdown",
   "id": "b7b764ac",
   "metadata": {},
   "source": [
    "## Multiples eventos con diferentes probabilidades"
   ]
  },
  {
   "cell_type": "markdown",
   "id": "c548c78e",
   "metadata": {},
   "source": [
    "Ahora vamos una situación donde hay 3 opciones de eventos a ocurrir. En particular, si el alumno quiere ir al baño, tiene 3 opciones:\n",
    "- Tiene un 10% de aguantarse.\n",
    "- Tiene un 60% de ir al baño en silencio.\n",
    "- Tiene un 30% de interrumpir la evaluación para avisar que irá al baño."
   ]
  },
  {
   "cell_type": "markdown",
   "id": "20788cf0",
   "metadata": {},
   "source": [
    "### Forma 1 - Usando probabilidades acumuladas\n",
    "\n",
    "Aquí lo que haremos, es generar un número aleatorio entre 0 y 1. Si este es menor a 0.1, entonces es \"aguantarse\", si está entre 0.1 y 0.7 (notar que `0.7 - 0.1 = 0.6`) entonces es \"ir al baño en silencio\", y si es mayor a 0.7 (notar que `1 - 0.7 = 0.3`) será \"interrumpir la clase\"."
   ]
  },
  {
   "cell_type": "code",
   "execution_count": null,
   "id": "ce549f70",
   "metadata": {},
   "outputs": [],
   "source": [
    "PROB_AGUANTARSE = 0.1\n",
    "PROB_IR_SILENCIO = 0.6\n",
    "PROB_INTERRUMPIR = 0.3\n",
    "\n",
    "def consecuencia_baño():    \n",
    "    actual_proba = random.random()\n",
    "    if actual_proba <= PROB_AGUANTARSE:\n",
    "        return \"aguantarse\"\n",
    "    elif actual_proba <= PROB_AGUANTARSE + PROB_IR_SILENCIO:\n",
    "        return \"ir en silencio\"\n",
    "    else:\n",
    "        return \"interrumpir\"\n",
    "    \n",
    "consecuencia_baño()"
   ]
  },
  {
   "cell_type": "markdown",
   "id": "d1c377e1",
   "metadata": {},
   "source": [
    "Nuevamente, vamos a validar que los eventos salgan con la probabilidad que queremos."
   ]
  },
  {
   "cell_type": "code",
   "execution_count": null,
   "id": "eaa965c2",
   "metadata": {},
   "outputs": [],
   "source": [
    "eventos = {\n",
    "    \"aguantarse\": 0,\n",
    "    \"ir en silencio\": 0,\n",
    "    \"interrumpir\": 0\n",
    "}\n",
    "\n",
    "N = 500000\n",
    "for _ in range(N):\n",
    "    eventos[consecuencia_baño()] += 1\n",
    "    \n",
    "# Normalizamos\n",
    "for key in eventos:\n",
    "    eventos[key] /= N\n",
    "    \n",
    "eventos"
   ]
  },
  {
   "cell_type": "markdown",
   "id": "6bc5884e",
   "metadata": {},
   "source": [
    "### Forma 2 - Usando random.choices\n",
    "\n",
    "Aquí lo que haremos, es generar una lista de eventos posibles y darle un peso a cada evento. Luego, `random.choices` hará el resto."
   ]
  },
  {
   "cell_type": "code",
   "execution_count": null,
   "id": "6c10dc0a",
   "metadata": {},
   "outputs": [],
   "source": [
    "PROB_AGUANTARSE = 0.1\n",
    "PROB_IR_SILENCIO = 0.6\n",
    "PROB_INTERRUMPIR = 0.3\n",
    "\n",
    "def consecuencia_baño_v2():    \n",
    "    eventos = [\"aguantarse\", \"ir en silencio\", \"interrumpir\"]\n",
    "    pesos = [PROB_AGUANTARSE, PROB_IR_SILENCIO, PROB_INTERRUMPIR]\n",
    "    \n",
    "    seleccionados = random.choices(eventos, weights=pesos, k=1)\n",
    "    # random.choices siempre retorna una lista de k elementos.\n",
    "    return seleccionados[0]\n",
    "\n",
    "consecuencia_baño_v2()"
   ]
  },
  {
   "cell_type": "markdown",
   "id": "87d761d1",
   "metadata": {},
   "source": [
    "Finalmente, vamos a validar que los eventos salgan con la probabilidad que queremos con este método."
   ]
  },
  {
   "cell_type": "code",
   "execution_count": null,
   "id": "099656ab",
   "metadata": {},
   "outputs": [],
   "source": [
    "eventos = {\n",
    "    \"aguantarse\": 0,\n",
    "    \"ir en silencio\": 0,\n",
    "    \"interrumpir\": 0\n",
    "}\n",
    "\n",
    "N = 500000\n",
    "for _ in range(N):\n",
    "    eventos[consecuencia_baño_v2()] += 1\n",
    "    \n",
    "# Normalizamos\n",
    "for key in eventos:\n",
    "    eventos[key] /= N\n",
    "    \n",
    "eventos"
   ]
  },
  {
   "cell_type": "markdown",
   "id": "48e6c014",
   "metadata": {},
   "source": [
    "## Ejemplo final\n",
    "\n",
    "Ahora vamos a unificar todo para modelar la situación de un alumno que tiene K% de probabilidad de ir al baño y ciertas probabilidades para diferentes consecuencias."
   ]
  },
  {
   "cell_type": "code",
   "execution_count": null,
   "id": "e2ded73e",
   "metadata": {},
   "outputs": [],
   "source": [
    "import random\n",
    "\n",
    "PROB_IR_BAÑO = 0.8     # 80%\n",
    "\n",
    "PROB_AGUANTARSE = 0.15 # 15%\n",
    "PROB_IR_SILENCIO = 0.5 # 50%\n",
    "PROB_INTERRUMPIR = 0.3 # 30%\n",
    "PROB_ACCIDENTE = 0.05  #  5%\n",
    "\n",
    "def ir_baño():\n",
    "    return random.random() <= PROB_IR_BAÑO    \n",
    "    \n",
    "def consecuencia_baño_final():    \n",
    "    actual_proba = random.random()\n",
    "    if actual_proba <= PROB_AGUANTARSE:\n",
    "        return \"mejor me aguanto\"\n",
    "    elif actual_proba <= PROB_AGUANTARSE + PROB_IR_SILENCIO:\n",
    "        return \"iré en silencio\"\n",
    "    elif actual_proba <= PROB_AGUANTARSE + PROB_IR_SILENCIO + PROB_INTERRUMPIR:\n",
    "        return \"mejor le aviso al profe\"\n",
    "    else:\n",
    "        return \"ohhhh no :(\"\n",
    "    \n",
    "if ir_baño():\n",
    "    print(\"Necesito ir al baño....... \", consecuencia_baño_final())\n",
    "else:\n",
    "    print(\"Es un lindo día para ser feliz :D\")"
   ]
  },
  {
   "cell_type": "code",
   "execution_count": null,
   "id": "b6058cdb",
   "metadata": {},
   "outputs": [],
   "source": []
  }
 ],
 "metadata": {
  "kernelspec": {
   "display_name": "Python 3 (ipykernel)",
   "language": "python",
   "name": "python3"
  },
  "language_info": {
   "codemirror_mode": {
    "name": "ipython",
    "version": 3
   },
   "file_extension": ".py",
   "mimetype": "text/x-python",
   "name": "python",
   "nbconvert_exporter": "python",
   "pygments_lexer": "ipython3",
   "version": "3.10.6"
  }
 },
 "nbformat": 4,
 "nbformat_minor": 5
}
